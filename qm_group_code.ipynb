{
 "cells": [
  {
   "cell_type": "markdown",
   "id": "66af2597-90f7-4344-8866-826ce22619f6",
   "metadata": {},
   "source": [
    "# CASA0007 - Quantitative Methods Group Proejct"
   ]
  },
  {
   "cell_type": "code",
   "execution_count": null,
   "id": "326db744-d9dd-4eae-bc7c-a1686131b47a",
   "metadata": {},
   "outputs": [],
   "source": []
  }
 ],
 "metadata": {
  "kernelspec": {
   "display_name": "Python 3 (ipykernel)",
   "language": "python",
   "name": "python3"
  },
  "language_info": {
   "codemirror_mode": {
    "name": "ipython",
    "version": 3
   },
   "file_extension": ".py",
   "mimetype": "text/x-python",
   "name": "python",
   "nbconvert_exporter": "python",
   "pygments_lexer": "ipython3",
   "version": "3.10.5"
  }
 },
 "nbformat": 4,
 "nbformat_minor": 5
}
