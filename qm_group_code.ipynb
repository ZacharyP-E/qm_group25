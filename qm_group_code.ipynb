{
 "cells": [
  {
   "cell_type": "markdown",
   "id": "66af2597-90f7-4344-8866-826ce22619f6",
   "metadata": {},
   "source": [
    "# CASA0007 - Quantitative Methods Group Project\n",
    "## Group 25"
   ]
  },
  {
   "cell_type": "code",
   "execution_count": 6,
   "id": "bdb7df5d-44d8-423a-98cd-a87f308f34ac",
   "metadata": {},
   "outputs": [],
   "source": [
    "#Reading in libaries\n",
    "import pandas as pd\n",
    "import numpy as np\n",
    "import matplotlib.pyplot as plt\n",
    "import seaborn as sns"
   ]
  },
  {
   "cell_type": "markdown",
   "id": "13af03a1-7cc4-4cf9-96e3-8fe33a231396",
   "metadata": {},
   "source": [
    "## 1. Context of the data"
   ]
  },
  {
   "cell_type": "markdown",
   "id": "62138729-5e3a-4566-88f4-35132530814b",
   "metadata": {},
   "source": [
    "### 1. Cycle to work - Joe\n",
    "This dataset is from the 2011 Census. Results are based off a Census question that classifies usual residents aged 16 to 74 in England and Wales by their method of travel to work, disaggregated by Census Output Area (OA). The estimates are as at census day, 27 March 2011 (single time snapshot). The dataset can be found [here](https://www.nomisweb.co.uk/census/2011/qs701ew)."
   ]
  },
  {
   "cell_type": "markdown",
   "id": "1dad1f93-b9f6-4372-a4e3-dc436539d26b",
   "metadata": {},
   "source": [
    "### 2. Deprivation - Yubin"
   ]
  },
  {
   "cell_type": "markdown",
   "id": "c197b1d7-ece4-42f1-b916-838c8ccfd26a",
   "metadata": {},
   "source": [
    "The dataset is based on the 2011 Census provided by Office for National Statistics (ONS), classified households in England and Wales through four domains of deprivation: Employment, Education, Health and disability, and Household overcrowding. It is a nationally representative data and the estimates are as at census day, 27 March 2011.\n",
    "\n",
    "A household would be defined as deprived if they meet one or more of the following conditions:\n",
    "1. Employment: Any member of a household, who is not a full-time student, is either unemployed or long-term sick.\n",
    "2. Education: No person in the household has at least Level 2 education (see highest level of qualification), and no person aged 16 to 18 is a full-time student.\n",
    "3. Health and disability: Any person in the household has general health that is 'bad' or 'very bad' or has a long-term health problem.\n",
    "4. Housing: The household's accommodation is either overcrowded, with an occupancy rating -1 or less, or is in a shared dwelling, or has no central heating.\n"
   ]
  },
  {
   "cell_type": "markdown",
   "id": "f75e1470-8035-40b8-a999-62d3a219ee89",
   "metadata": {},
   "source": [
    "### 3. Air Quality - Zach\n",
    "[Data](https://data.london.gov.uk/dataset/pm2-5-map-and-exposure-data) linked here.\n",
    "\n",
    "\n",
    "This dataset identifies modelled PM<sub>2.5 </sub>(particulate matter of diameter 2.5 micrometers or less) across London's Output Areas.\n",
    "\n",
    "Increased exposure to high levels of partculate matter have been linked to increased rate of cardiovascular and respiratory disease (Liu, 2019). "
   ]
  },
  {
   "cell_type": "markdown",
   "id": "afc0c614-e365-40e8-b8b2-deff04f56fc1",
   "metadata": {},
   "source": [
    "### 4. Cycle Sharing"
   ]
  },
  {
   "cell_type": "markdown",
   "id": "942ee2c8-b01a-4a13-99e3-526699b66ca0",
   "metadata": {
    "tags": []
   },
   "source": [
    "## 2. Description of data fields/ variables"
   ]
  },
  {
   "cell_type": "markdown",
   "id": "fdbce897-cf2f-4053-8b6b-6fb82f73652d",
   "metadata": {
    "tags": []
   },
   "source": [
    "### 1. Cycle to work - Joe\n",
    "* Read in the data"
   ]
  },
  {
   "cell_type": "code",
   "execution_count": 24,
   "id": "9a600c09-bdea-4e05-a940-89196c066520",
   "metadata": {},
   "outputs": [
    {
     "data": {
      "text/plain": [
       "Index(['date', 'geography', 'geography code', 'Rural Urban',\n",
       "       'Method of Travel to Work: All categories: Method of travel to work; measures: Value',\n",
       "       'Method of Travel to Work: Work mainly at or from home; measures: Value',\n",
       "       'Method of Travel to Work: Underground, metro, light rail, tram; measures: Value',\n",
       "       'Method of Travel to Work: Train; measures: Value',\n",
       "       'Method of Travel to Work: Bus, minibus or coach; measures: Value',\n",
       "       'Method of Travel to Work: Taxi; measures: Value',\n",
       "       'Method of Travel to Work: Motorcycle, scooter or moped; measures: Value',\n",
       "       'Method of Travel to Work: Driving a car or van; measures: Value',\n",
       "       'Method of Travel to Work: Passenger in a car or van; measures: Value',\n",
       "       'Method of Travel to Work: Bicycle; measures: Value',\n",
       "       'Method of Travel to Work: On foot; measures: Value',\n",
       "       'Method of Travel to Work: Other method of travel to work; measures: Value',\n",
       "       'Method of Travel to Work: Not in employment; measures: Value'],\n",
       "      dtype='object')"
      ]
     },
     "execution_count": 24,
     "metadata": {},
     "output_type": "execute_result"
    }
   ],
   "source": [
    "cycletowork = pd.read_csv('data/cycleing_to_work_oa.csv')\n",
    "cycletowork.columns"
   ]
  },
  {
   "cell_type": "markdown",
   "id": "452e995b-4f8c-438f-8674-ddc76a73384f",
   "metadata": {},
   "source": [
    "* Drop unnecessary columns"
   ]
  },
  {
   "cell_type": "code",
   "execution_count": 32,
   "id": "4bdf18b5-f29f-4837-ab9a-6456011dea58",
   "metadata": {},
   "outputs": [
    {
     "data": {
      "text/plain": [
       "Index(['date', 'geography code',\n",
       "       'Method of Travel to Work: Bicycle; measures: Value',\n",
       "       'Method of Travel to Work: All categories: Method of travel to work; measures: Value'],\n",
       "      dtype='object')"
      ]
     },
     "execution_count": 32,
     "metadata": {},
     "output_type": "execute_result"
    }
   ],
   "source": [
    "cycletowork = cycletowork[['date',\n",
    "                           'geography code',\n",
    "                           'Method of Travel to Work: Bicycle; measures: Value',\n",
    "                           'Method of Travel to Work: All categories: Method of travel to work; measures: Value']]\n",
    "cycletowork.columns"
   ]
  },
  {
   "cell_type": "code",
   "execution_count": 33,
   "id": "fdd75b08-2662-4963-9719-fc93d5bf163f",
   "metadata": {},
   "outputs": [
    {
     "data": {
      "text/plain": [
       "date                                                                                    int64\n",
       "geography code                                                                         object\n",
       "Method of Travel to Work: Bicycle; measures: Value                                      int64\n",
       "Method of Travel to Work: All categories: Method of travel to work; measures: Value     int64\n",
       "dtype: object"
      ]
     },
     "execution_count": 33,
     "metadata": {},
     "output_type": "execute_result"
    }
   ],
   "source": [
    "cycletowork.dtypes"
   ]
  },
  {
   "cell_type": "code",
   "execution_count": 34,
   "id": "bb858e46-ea33-4bc9-8e75-d50504699249",
   "metadata": {},
   "outputs": [
    {
     "data": {
      "text/html": [
       "<div>\n",
       "<style scoped>\n",
       "    .dataframe tbody tr th:only-of-type {\n",
       "        vertical-align: middle;\n",
       "    }\n",
       "\n",
       "    .dataframe tbody tr th {\n",
       "        vertical-align: top;\n",
       "    }\n",
       "\n",
       "    .dataframe thead th {\n",
       "        text-align: right;\n",
       "    }\n",
       "</style>\n",
       "<table border=\"1\" class=\"dataframe\">\n",
       "  <thead>\n",
       "    <tr style=\"text-align: right;\">\n",
       "      <th></th>\n",
       "      <th>date</th>\n",
       "      <th>geography code</th>\n",
       "      <th>Method of Travel to Work: Bicycle; measures: Value</th>\n",
       "      <th>Method of Travel to Work: All categories: Method of travel to work; measures: Value</th>\n",
       "    </tr>\n",
       "  </thead>\n",
       "  <tbody>\n",
       "    <tr>\n",
       "      <th>0</th>\n",
       "      <td>2011</td>\n",
       "      <td>E00004482</td>\n",
       "      <td>34</td>\n",
       "      <td>235</td>\n",
       "    </tr>\n",
       "    <tr>\n",
       "      <th>1</th>\n",
       "      <td>2011</td>\n",
       "      <td>E00004497</td>\n",
       "      <td>12</td>\n",
       "      <td>192</td>\n",
       "    </tr>\n",
       "    <tr>\n",
       "      <th>2</th>\n",
       "      <td>2011</td>\n",
       "      <td>E00004498</td>\n",
       "      <td>13</td>\n",
       "      <td>235</td>\n",
       "    </tr>\n",
       "    <tr>\n",
       "      <th>3</th>\n",
       "      <td>2011</td>\n",
       "      <td>E00004502</td>\n",
       "      <td>6</td>\n",
       "      <td>187</td>\n",
       "    </tr>\n",
       "    <tr>\n",
       "      <th>4</th>\n",
       "      <td>2011</td>\n",
       "      <td>E00004505</td>\n",
       "      <td>12</td>\n",
       "      <td>213</td>\n",
       "    </tr>\n",
       "  </tbody>\n",
       "</table>\n",
       "</div>"
      ],
      "text/plain": [
       "   date geography code  Method of Travel to Work: Bicycle; measures: Value  \\\n",
       "0  2011      E00004482                                                 34    \n",
       "1  2011      E00004497                                                 12    \n",
       "2  2011      E00004498                                                 13    \n",
       "3  2011      E00004502                                                  6    \n",
       "4  2011      E00004505                                                 12    \n",
       "\n",
       "   Method of Travel to Work: All categories: Method of travel to work; measures: Value  \n",
       "0                                                235                                    \n",
       "1                                                192                                    \n",
       "2                                                235                                    \n",
       "3                                                187                                    \n",
       "4                                                213                                    "
      ]
     },
     "execution_count": 34,
     "metadata": {},
     "output_type": "execute_result"
    }
   ],
   "source": [
    "cycletowork.head(5)"
   ]
  },
  {
   "cell_type": "markdown",
   "id": "e9a8da74-8671-4730-ae84-f18f6b2ad2f5",
   "metadata": {},
   "source": [
    "The relevant fields for our analysis are as follows:  \n",
    "| Field name  | Data type  | Description  |\n",
    "|---|---|---|\n",
    "| Date  | Integer  | Year data  was collected (2011 census)  |\n",
    "| Geography code  | String  | Census Output Area unique identifier. The string format can be used to filter OAs by UK region.  |\n",
    "| Method of Travel to Work: Bicycle  | Integer  | Count of residents aged 16 to 74 who used a bicycle as their method of travel to work on the Census date  |\n",
    "| Method of Travel to Work: All categories  | Integer  | Total count of residents aged 16 to 74 who provided a response for method of travel to work on the census date  |"
   ]
  },
  {
   "cell_type": "markdown",
   "id": "70c477c9-090d-4a1e-822c-04dc1745de85",
   "metadata": {},
   "source": [
    "### 2. Deprivation"
   ]
  },
  {
   "cell_type": "code",
   "execution_count": null,
   "id": "7123a210-fa74-48b3-95a6-98c28bda90fc",
   "metadata": {},
   "outputs": [
    {
     "name": "stdout",
     "output_type": "stream",
     "text": [
      "ERROR! Session/line number was not unique in database. History logging moved to new session 80\n"
     ]
    }
   ],
   "source": [
    "deprivation = pd.read_csv('https://github.com/ZacharyP-E/qm_group25/blob/fcde288de69abe4f7dd76d6b156ebd82201d619a/data/deprivation_oa.csv')\n",
    "deprivation.head(10)"
   ]
  },
  {
   "cell_type": "markdown",
   "id": "f370e8e1-08b1-4e94-8331-a6687ff9f621",
   "metadata": {},
   "source": [
    "### 3. Air Quality - Zach"
   ]
  },
  {
   "cell_type": "code",
   "execution_count": 9,
   "id": "4555171b-cb76-4b78-ae2e-9395823841d3",
   "metadata": {},
   "outputs": [],
   "source": [
    "aq_df = pd.read_csv(\"data/OA2_PM25_2013.csv\")"
   ]
  },
  {
   "cell_type": "code",
   "execution_count": null,
   "id": "936cb298-edea-4747-932c-cabfa6bf835e",
   "metadata": {},
   "outputs": [],
   "source": []
  },
  {
   "cell_type": "markdown",
   "id": "406551aa-066a-4d11-a236-31fc6c93ba61",
   "metadata": {},
   "source": [
    "### 4. Cycle Sharing"
   ]
  },
  {
   "cell_type": "markdown",
   "id": "46cb6a1f-e6b4-42c9-82f3-3f7723ed8e15",
   "metadata": {},
   "source": [
    "## 3. Summary statistic fields"
   ]
  },
  {
   "cell_type": "markdown",
   "id": "b73f08c2-9578-495f-89d3-a558a132ea09",
   "metadata": {},
   "source": [
    "## 4. Appropriate plots to communicate distribution"
   ]
  },
  {
   "cell_type": "markdown",
   "id": "01a75f27-4e11-4e59-b218-50e87072a4fe",
   "metadata": {},
   "source": [
    "## 5. Appropriate plots to illustrate relationship between key fields"
   ]
  },
  {
   "cell_type": "markdown",
   "id": "cd02b718-15e9-49df-a53b-fc149ce52696",
   "metadata": {},
   "source": [
    "# References\n",
    "\n",
    "Liu, C., Chen, R., Sera, F., Vicedo-Cabrera, A.M., Guo, Y., Tong, S., Coelho, M.S., Saldiva, P.H., Lavigne, E., Matus, P. and Valdes Ortega, N., 2019. Ambient particulate air pollution and daily mortality in 652 cities. New England Journal of Medicine, 381(8), pp.705-715."
   ]
  },
  {
   "cell_type": "code",
   "execution_count": null,
   "id": "ae9df771-7172-4645-b797-ef7b92466e91",
   "metadata": {},
   "outputs": [],
   "source": []
  }
 ],
 "metadata": {
  "kernelspec": {
   "display_name": "Python 3 (ipykernel)",
   "language": "python",
   "name": "python3"
  },
  "language_info": {
   "codemirror_mode": {
    "name": "ipython",
    "version": 3
   },
   "file_extension": ".py",
   "mimetype": "text/x-python",
   "name": "python",
   "nbconvert_exporter": "python",
   "pygments_lexer": "ipython3",
   "version": "3.9.15"
  }
 },
 "nbformat": 4,
 "nbformat_minor": 5
}
