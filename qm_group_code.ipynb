{
 "cells": [
  {
   "cell_type": "markdown",
   "id": "66af2597-90f7-4344-8866-826ce22619f6",
   "metadata": {},
   "source": [
    "# CASA0007 - Quantitative Methods Group Project\n",
    "## Group 25"
   ]
  },
  {
   "cell_type": "markdown",
   "id": "51f4d43d-4c61-4045-a9e2-6ddee0ca9352",
   "metadata": {},
   "source": [
    "## Meeting Plan (05/12/2022)\n",
    "- Change text back to OA data. \n",
    "- Calculate distacne from OA to central London - Joe\n",
    "- Create regression model, then move to multiple regression model - Zach\n",
    "- Tests the assumptions of linear regression. Scatter plots, + of risiduals to identify independence, equal varience and colinearility.  - Zach\n",
    "- Clustering analysis of distance, deprivation and air quality"
   ]
  },
  {
   "cell_type": "code",
   "execution_count": 1,
   "id": "bdb7df5d-44d8-423a-98cd-a87f308f34ac",
   "metadata": {},
   "outputs": [],
   "source": [
    "#Reading in libaries\n",
    "import pandas as pd\n",
    "import numpy as np\n",
    "import matplotlib.pyplot as plt\n",
    "import seaborn as sns\n",
    "from statsmodels.formula.api import ols\n",
    "from sklearn.model_selection import train_test_split\n",
    "from sklearn.linear_model import LinearRegression\n",
    "import statsmodels.api as sm\n",
    "from sklearn.metrics import precision_score"
   ]
  },
  {
   "cell_type": "markdown",
   "id": "13af03a1-7cc4-4cf9-96e3-8fe33a231396",
   "metadata": {},
   "source": [
    "## 1. Context of the data"
   ]
  },
  {
   "cell_type": "markdown",
   "id": "0cfe7b0f-7fef-4ec3-952c-4800224b5248",
   "metadata": {},
   "source": [
    "### 1.0. Aggregation Level - Zach"
   ]
  },
  {
   "cell_type": "markdown",
   "id": "e4fb7530-c968-4fed-a73e-8b90556d538a",
   "metadata": {},
   "source": [
    "Data is aggregated to the Output Area (OA) Level. This being the smallest level of aggregation that the census data is released on by the ONS (Office of National Statistics). \n",
    "- Each OA contains between 40 and 250 households, leading to an estimated population of between 100 and 625. \n",
    "- **Limitation** of aggregation level: OAs change between each census (10 year lifecycle) due to variation in population density, meaning data cannot always be compared between census' easily. \n",
    "\n",
    "\n",
    "\n",
    "\n",
    "**UK Administrative Units**\n",
    "1. Output Areas (OAs)\n",
    "2. Lower Super Output Areas (LSOAs)\n",
    "3. Middle layer Super Output Areas (MSOAs)\n",
    "4. Boroughs/ Local Administrative Unit (LAD)\n"
   ]
  },
  {
   "cell_type": "code",
   "execution_count": null,
   "id": "ddaa67f6-69f2-4cce-8aec-d27836ff382c",
   "metadata": {},
   "outputs": [],
   "source": []
  },
  {
   "cell_type": "markdown",
   "id": "62138729-5e3a-4566-88f4-35132530814b",
   "metadata": {},
   "source": [
    "### 1.1. Cycling to work: Census Data\n",
    "This dataset is from the 2011 Census. Results are based off a Census question that classifies usual residents aged 16 to 74 in England and Wales by their method of travel to work, disaggregated by Census Output Area (OA). The estimates are as at census day, 27 March 2011 (single time snapshot). The dataset can be found [here](https://www.nomisweb.co.uk/census/2011/qs701ew).  \n"
   ]
  },
  {
   "cell_type": "markdown",
   "id": "1dad1f93-b9f6-4372-a4e3-dc436539d26b",
   "metadata": {},
   "source": [
    "### 1.2. Deprivation - Yubin"
   ]
  },
  {
   "cell_type": "markdown",
   "id": "c197b1d7-ece4-42f1-b916-838c8ccfd26a",
   "metadata": {},
   "source": [
    "The dataset is based on the 2011 Census provided by Office for National Statistics (ONS), classified households in England and Wales through four domains of deprivation: Employment, Education, Health and disability, and Household overcrowding. It is a nationally representative data and the estimates are as at census day, 27 March 2011.\n",
    "\n",
    "A household would be defined as deprived if they meet one or more of the following conditions:\n",
    "\n",
    "1. Employment: Any member of a household, who is not a full-time student, is either unemployed or long-term sick.\n",
    "2. Education: No person in the household has at least Level 2 education (see highest level of qualification), and no person aged 16 to 18 is a full-time student.\n",
    "3. Health and disability: Any person in the household has general health that is 'bad' or 'very bad' or has a long-term health problem.\n",
    "4. Housing: The household's accommodation is either overcrowded, with an occupancy rating -1 or less, or is in a shared dwelling, or has no central heating.\n",
    "\n"
   ]
  },
  {
   "cell_type": "markdown",
   "id": "f75e1470-8035-40b8-a999-62d3a219ee89",
   "metadata": {
    "tags": []
   },
   "source": [
    "### 1.3. Air Quality - Zach [[Data](https://data.london.gov.uk/dataset/pm2-5-map-and-exposure-data)]\n",
    "\n",
    "This dataset identifies modelled PM<sub>2.5 </sub>(particulate matter of diameter 2.5 micrometers or less) across London's Output Areas. \n",
    "- Modelled by Tfl (Transport for London) and GLA (Greater London Authority)\n",
    "\n",
    "Increased exposure to high levels of partculate matter have been linked to increased rate of cardiovascular and respiratory disease (Liu, 2019). \n",
    "\n",
    "This data is being considered due to the assumption that emission levels infulence the decision making process of commuters. This emissions data could be used as a proxy for volume of motor vehicles, or considered as a variable having an impact by itself on decision making.\n",
    "\n",
    "\n",
    "\n",
    "| Variable| Unit | Description |\n",
    "| --- | --- | --- |\n",
    "| PM<sub>2.5 </sub> | µg/m<sup>3 </sup>| Modelled concentration of particulate matter with diameter or 2.5 micrometers or less. | \n",
    "\n",
    "\n",
    "**Limitations:**\n",
    "- Assuming causality of air quality and commuting choice would be incorrect. It is possible that air pollution is low due to choice of pollution. Suggesting an inverse relationship to that initally proposed. \n"
   ]
  },
  {
   "cell_type": "markdown",
   "id": "afc0c614-e365-40e8-b8b2-deff04f56fc1",
   "metadata": {},
   "source": [
    "### 1.5. Additional Predictor Variables\n",
    "* Distance travelled to work\n",
    "* Demographics (Age)\n",
    "* Road casualties\n",
    "\n"
   ]
  },
  {
   "cell_type": "markdown",
   "id": "942ee2c8-b01a-4a13-99e3-526699b66ca0",
   "metadata": {
    "tags": []
   },
   "source": [
    "## 2. Description of data fields/ variables"
   ]
  },
  {
   "cell_type": "markdown",
   "id": "fdbce897-cf2f-4053-8b6b-6fb82f73652d",
   "metadata": {
    "tags": []
   },
   "source": [
    "### 2.1. Cycling to work - Joe\n",
    "* Read in the data"
   ]
  },
  {
   "cell_type": "code",
   "execution_count": 85,
   "id": "9a600c09-bdea-4e05-a940-89196c066520",
   "metadata": {},
   "outputs": [
    {
     "name": "stdout",
     "output_type": "stream",
     "text": [
      "(7201, 17)\n",
      "(7201, 5)\n",
      "year               int64\n",
      "msoa_code         object\n",
      "cycling_count      int64\n",
      "total_count        int64\n",
      "cycling_rate     float64\n",
      "dtype: object\n"
     ]
    }
   ],
   "source": [
    "# cycletowork = pd.read_csv('data/oa/cycleing_to_work_oa.csv')\n",
    "\n",
    "#MSOA data\n",
    "cycletowork = pd.read_csv('data/msoa/cyclingtowork_2011census_msoa.csv')\n",
    "\n",
    "# print(cycletowork.columns)\n",
    "print(cycletowork.shape)\n",
    "\n",
    "#Drop unnecessary columns\n",
    "cycletowork = cycletowork[['date',\n",
    "                           'geography code',\n",
    "                           'Method of Travel to Work: Bicycle; measures: Value',\n",
    "                           'Method of Travel to Work: All categories: Method of travel to work; measures: Value']]\n",
    "\n",
    "# CLean column names\n",
    "cycletowork.rename(columns = {'date':'year',\n",
    "                              'geography code':'msoa_code',\n",
    "                              'Method of Travel to Work: Bicycle; measures: Value':'cycling_count',\n",
    "                              'Method of Travel to Work: All categories: Method of travel to work; measures: Value':'total_count'}, \n",
    "                   inplace = True)\n",
    "\n",
    "#Calculate rate column\n",
    "cycletowork['cycling_rate'] = cycletowork['cycling_count']/cycletowork['total_count']\n",
    "\n",
    "print(cycletowork.shape)\n",
    "print(cycletowork.dtypes)"
   ]
  },
  {
   "cell_type": "markdown",
   "id": "2657fd5a-f8db-4293-9972-b6e6e4317f82",
   "metadata": {},
   "source": [
    "The relevant fields for our analysis are as follows:\n",
    "| Original name  | Cleaned name | Data type  | Description  |\n",
    "|---|---|---|---|\n",
    "| Date  | year | Integer  | Year data  was collected (2011 census).  |\n",
    "| Geography code  | msoa_code | String  | Census Medium Layer Super Output Area unique identifier.  |\n",
    "| Method of Travel to Work: Bicycle  | cycling_count | Integer  | Count of residents aged 16 to 74 who used a bicycle as their method of travel to work on the Census date.  |\n",
    "| Method of Travel to Work: All categories  | total_count | Integer  | Total count of residents aged 16 to 74 who provided a response for method of travel to work on the census date.  |\n",
    "| N/A  | cycling_rate | Float (decimal)  | Count of cyclists divided by the total count of travellers to work in output area  |\n",
    "   "
   ]
  },
  {
   "cell_type": "markdown",
   "id": "70c477c9-090d-4a1e-822c-04dc1745de85",
   "metadata": {},
   "source": [
    "### 2.2. Deprivation"
   ]
  },
  {
   "cell_type": "code",
   "execution_count": 87,
   "id": "1028cdcf-23b4-4468-be66-d9dabdbeec3b",
   "metadata": {},
   "outputs": [
    {
     "name": "stdout",
     "output_type": "stream",
     "text": [
      "(25053, 10)\n"
     ]
    },
    {
     "data": {
      "text/plain": [
       "date            int64\n",
       "geography      object\n",
       "oa_code        object\n",
       "Rural Urban    object\n",
       "hhdep_all       int64\n",
       "hhdep0          int64\n",
       "hhdep1          int64\n",
       "hhdep2          int64\n",
       "hhdep3          int64\n",
       "hhdep4          int64\n",
       "dtype: object"
      ]
     },
     "execution_count": 87,
     "metadata": {},
     "output_type": "execute_result"
    }
   ],
   "source": [
    "deprivation = pd.read_csv(\"data/oa/deprivation_oa.csv\")\n",
    "\n",
    "#Clean column names\n",
    "deprivation.rename(columns = {'Household Deprivation: All categories: Classification of household deprivation; measures: Value':'hhdep_all',\n",
    "                          'Household Deprivation: Household is not deprived in any dimension; measures: Value':'hhdep0',\n",
    "                          'Household Deprivation: Household is deprived in 1 dimension; measures: Value':'hhdep1',\n",
    "                          'Household Deprivation: Household is deprived in 2 dimensions; measures: Value':'hhdep2',\n",
    "                          'Household Deprivation: Household is deprived in 3 dimensions; measures: Value':'hhdep3',\n",
    "                          'Household Deprivation: Household is deprived in 4 dimensions; measures: Value':'hhdep4',\n",
    "                          'geography code':'oa_code'\n",
    "                         }, \n",
    "                   inplace = True)\n",
    "\n",
    "print(deprivation.shape)\n",
    "deprivation.dtypes"
   ]
  },
  {
   "cell_type": "markdown",
   "id": "f370e8e1-08b1-4e94-8331-a6687ff9f621",
   "metadata": {
    "tags": []
   },
   "source": [
    "### 2.3. Air Quality - Zach"
   ]
  },
  {
   "cell_type": "code",
   "execution_count": 10,
   "id": "4555171b-cb76-4b78-ae2e-9395823841d3",
   "metadata": {},
   "outputs": [],
   "source": [
    "#Reading in data\n",
    "aq_df = pd.read_csv(\"data/oa/OA2_PM25_2013.csv\")\n",
    "\n",
    "#Identifying usable columns\n",
    "aq_df.head()"
   ]
  },
  {
   "cell_type": "markdown",
   "id": "9eba8d4b-d0f1-4533-99ef-131ab558d376",
   "metadata": {},
   "source": [
    "Columns:\n",
    "- OA11CD refers to the unique Output Area code, allowing merging with other data as an explanatory variable. \n",
    "- LAD11NM refers to the Borough (three levels of aggregation above OAs) that the OA is within. Boroughs are local administrative units that resources are allocatacted to, which are then distributed across the OAs dependnent on needs. "
   ]
  },
  {
   "cell_type": "markdown",
   "id": "4a44e7d0-ce1c-427a-8ec9-6b82079245d6",
   "metadata": {},
   "source": [
    "### 2.4 Demographic"
   ]
  },
  {
   "cell_type": "code",
   "execution_count": 12,
   "id": "c494eab6-d62f-4122-bf23-91a69458fcf3",
   "metadata": {},
   "outputs": [],
   "source": [
    "# Reading Data\n",
    "gender = pd.read_csv('https://raw.githubusercontent.com/ZacharyP-E/qm_group25/main/data/msoa/sex_msoa.csv')\n",
    "age = pd.read_csv('https://raw.githubusercontent.com/ZacharyP-E/qm_group25/main/data/msoa/age_msoa.csv')\n",
    "ethics = pd.read_csv('https://raw.githubusercontent.com/ZacharyP-E/qm_group25/main/data/msoa/ethic_msoa.csv')\n",
    "qualification = pd.read_csv('https://raw.githubusercontent.com/ZacharyP-E/qm_group25/main/data/msoa/qualification_msoa.csv')\n"
   ]
  },
  {
   "cell_type": "code",
   "execution_count": 13,
   "id": "45579af5-5645-4b31-8758-be40695e2159",
   "metadata": {},
   "outputs": [
    {
     "data": {
      "text/plain": [
       "Index(['2011 super output area - middle layer', 'All persons', 'Males',\n",
       "       'Females', 'All usual residents_x', '0_4', '5_7', ' 8_9', ' 10_14',\n",
       "       '15', ' 16_17', ' 18_19', ' 20_24', ' 25_29', ' 30_44', '45_59',\n",
       "       '60_64', '65_74', '75_84', '85_89', '90_and_over',\n",
       "       'All usual residents_y', 'White', 'Mixed/multiple ethnic groups',\n",
       "       'Asian/Asian British', 'Black/African/Caribbean/Black British',\n",
       "       'Other ethnic group', 'All categories Highest level of qualification',\n",
       "       'No qualifications'],\n",
       "      dtype='object')"
      ]
     },
     "execution_count": 13,
     "metadata": {},
     "output_type": "execute_result"
    }
   ],
   "source": [
    "# Merge table\n",
    "demographic1 = gender.merge(age, how='left', left_on='2011 super output area - middle layer', right_on = '2011 super output area - middle layer')\n",
    "demographic2 = demographic1.merge(ethics, how='left', left_on='2011 super output area - middle layer', right_on = '2011 super output area - middle layer')\n",
    "demographic = demographic2.merge(qualification, how='left', left_on='2011 super output area - middle layer', right_on = '2011 super output area - middle layer')\n",
    "demographic.columns"
   ]
  },
  {
   "cell_type": "code",
   "execution_count": 14,
   "id": "ce9d3566-f350-4b34-990b-e384db5ec000",
   "metadata": {},
   "outputs": [
    {
     "data": {
      "text/plain": [
       "Index(['msoa_code', 'population', 'Males', 'Females', 'All usual residents_x',\n",
       "       '0_4', '5_7', ' 8_9', ' 10_14', '15', ' 16_17', ' 18_19', ' 20_24',\n",
       "       ' 25_29', ' 30_44', '45_59', '60_64', '65_74', '75_84', '85_89',\n",
       "       '90_and_over', 'All usual residents_y', 'White', 'mixed', 'asian',\n",
       "       'black', 'other_ethic', 'total_qual', 'no_qual'],\n",
       "      dtype='object')"
      ]
     },
     "execution_count": 14,
     "metadata": {},
     "output_type": "execute_result"
    }
   ],
   "source": [
    "# rename columns\n",
    "demographic.rename(columns = {'2011 super output area - middle layer':'msoa_code',\n",
    "                          'All persons':'population',\n",
    "                          'Mixed/multiple ethnic groups':'mixed',\n",
    "                          'Asian/Asian British':'asian',\n",
    "                          'Black/African/Caribbean/Black British':'black',\n",
    "                          'Other ethnic group':'other_ethic',\n",
    "                          'All categories Highest level of qualification':'total_qual',\n",
    "                          'No qualifications':'no_qual'\n",
    "                         }, \n",
    "                   inplace = True)\n",
    "\n",
    "demographic.columns"
   ]
  },
  {
   "cell_type": "code",
   "execution_count": 15,
   "id": "958c67f6-b953-4adb-8e33-2b34a69da92c",
   "metadata": {},
   "outputs": [
    {
     "data": {
      "text/html": [
       "<div>\n",
       "<style scoped>\n",
       "    .dataframe tbody tr th:only-of-type {\n",
       "        vertical-align: middle;\n",
       "    }\n",
       "\n",
       "    .dataframe tbody tr th {\n",
       "        vertical-align: top;\n",
       "    }\n",
       "\n",
       "    .dataframe thead th {\n",
       "        text-align: right;\n",
       "    }\n",
       "</style>\n",
       "<table border=\"1\" class=\"dataframe\">\n",
       "  <thead>\n",
       "    <tr style=\"text-align: right;\">\n",
       "      <th></th>\n",
       "      <th>msoa_code</th>\n",
       "      <th>population</th>\n",
       "      <th>Males</th>\n",
       "      <th>Females</th>\n",
       "      <th>0_4</th>\n",
       "      <th>5_7</th>\n",
       "      <th>8_9</th>\n",
       "      <th>10_14</th>\n",
       "      <th>15</th>\n",
       "      <th>16_17</th>\n",
       "      <th>...</th>\n",
       "      <th>75_84</th>\n",
       "      <th>85_89</th>\n",
       "      <th>90_and_over</th>\n",
       "      <th>White</th>\n",
       "      <th>mixed</th>\n",
       "      <th>asian</th>\n",
       "      <th>black</th>\n",
       "      <th>other_ethic</th>\n",
       "      <th>total_qual</th>\n",
       "      <th>no_qual</th>\n",
       "    </tr>\n",
       "  </thead>\n",
       "  <tbody>\n",
       "    <tr>\n",
       "      <th>0</th>\n",
       "      <td>E02000166  Camden 001</td>\n",
       "      <td>7924</td>\n",
       "      <td>3689</td>\n",
       "      <td>4235</td>\n",
       "      <td>5.7</td>\n",
       "      <td>3.2</td>\n",
       "      <td>2.1</td>\n",
       "      <td>5.2</td>\n",
       "      <td>1.2</td>\n",
       "      <td>2.1</td>\n",
       "      <td>...</td>\n",
       "      <td>4.8</td>\n",
       "      <td>1.2</td>\n",
       "      <td>0.6</td>\n",
       "      <td>79.4</td>\n",
       "      <td>6.4</td>\n",
       "      <td>5.8</td>\n",
       "      <td>5.7</td>\n",
       "      <td>2.7</td>\n",
       "      <td>6541</td>\n",
       "      <td>861</td>\n",
       "    </tr>\n",
       "    <tr>\n",
       "      <th>1</th>\n",
       "      <td>E02000167  Camden 002</td>\n",
       "      <td>7944</td>\n",
       "      <td>3880</td>\n",
       "      <td>4064</td>\n",
       "      <td>6.6</td>\n",
       "      <td>3.8</td>\n",
       "      <td>1.9</td>\n",
       "      <td>4.7</td>\n",
       "      <td>0.7</td>\n",
       "      <td>1.4</td>\n",
       "      <td>...</td>\n",
       "      <td>5.8</td>\n",
       "      <td>1.5</td>\n",
       "      <td>0.9</td>\n",
       "      <td>84.8</td>\n",
       "      <td>4.7</td>\n",
       "      <td>6.7</td>\n",
       "      <td>1.9</td>\n",
       "      <td>1.9</td>\n",
       "      <td>6541</td>\n",
       "      <td>361</td>\n",
       "    </tr>\n",
       "    <tr>\n",
       "      <th>2</th>\n",
       "      <td>E02000168  Camden 003</td>\n",
       "      <td>8172</td>\n",
       "      <td>3928</td>\n",
       "      <td>4244</td>\n",
       "      <td>6.0</td>\n",
       "      <td>3.2</td>\n",
       "      <td>2.0</td>\n",
       "      <td>4.6</td>\n",
       "      <td>1.0</td>\n",
       "      <td>1.9</td>\n",
       "      <td>...</td>\n",
       "      <td>3.7</td>\n",
       "      <td>0.8</td>\n",
       "      <td>0.6</td>\n",
       "      <td>78.2</td>\n",
       "      <td>6.6</td>\n",
       "      <td>7.2</td>\n",
       "      <td>5.7</td>\n",
       "      <td>2.4</td>\n",
       "      <td>6795</td>\n",
       "      <td>844</td>\n",
       "    </tr>\n",
       "  </tbody>\n",
       "</table>\n",
       "<p>3 rows × 27 columns</p>\n",
       "</div>"
      ],
      "text/plain": [
       "               msoa_code  population  Males  Females  0_4  5_7   8_9   10_14  \\\n",
       "0  E02000166  Camden 001        7924   3689     4235  5.7  3.2   2.1     5.2   \n",
       "1  E02000167  Camden 002        7944   3880     4064  6.6  3.8   1.9     4.7   \n",
       "2  E02000168  Camden 003        8172   3928     4244  6.0  3.2   2.0     4.6   \n",
       "\n",
       "    15   16_17  ...  75_84  85_89  90_and_over  White  mixed  asian  black  \\\n",
       "0  1.2     2.1  ...    4.8    1.2          0.6   79.4    6.4    5.8    5.7   \n",
       "1  0.7     1.4  ...    5.8    1.5          0.9   84.8    4.7    6.7    1.9   \n",
       "2  1.0     1.9  ...    3.7    0.8          0.6   78.2    6.6    7.2    5.7   \n",
       "\n",
       "   other_ethic  total_qual  no_qual  \n",
       "0          2.7        6541      861  \n",
       "1          1.9        6541      361  \n",
       "2          2.4        6795      844  \n",
       "\n",
       "[3 rows x 27 columns]"
      ]
     },
     "execution_count": 15,
     "metadata": {},
     "output_type": "execute_result"
    }
   ],
   "source": [
    "# drop unwanted columns\n",
    "demographic = demographic[['msoa_code', 'population', 'Males', 'Females','0_4', '5_7', ' 8_9', ' 10_14', '15', ' 16_17', ' 18_19', ' 20_24',\n",
    "       ' 25_29', ' 30_44', '45_59', '60_64', '65_74', '75_84', '85_89',\n",
    "       '90_and_over','White', 'mixed', 'asian', 'black', 'other_ethic', 'total_qual', 'no_qual']]\n",
    "\n",
    "demographic.head(3)"
   ]
  },
  {
   "cell_type": "code",
   "execution_count": 16,
   "id": "ed587baf-70e0-4142-9279-7aef365b0700",
   "metadata": {},
   "outputs": [
    {
     "data": {
      "text/plain": [
       "Index(['msoa_code', 'population', 'Males', 'Females', '0_4', '5_7', ' 8_9',\n",
       "       ' 10_14', '15', ' 16_17', ' 18_19', ' 20_24', ' 25_29', ' 30_44',\n",
       "       '45_59', '60_64', '65_74', '75_84', '85_89', '90_and_over', 'White',\n",
       "       'mixed', 'asian', 'black', 'other_ethic', 'total_qual', 'no_qual',\n",
       "       'male_prop', 'female_prop'],\n",
       "      dtype='object')"
      ]
     },
     "execution_count": 16,
     "metadata": {},
     "output_type": "execute_result"
    }
   ],
   "source": [
    "# gender proportion\n",
    "demographic['male_prop'] = demographic['Males']/demographic['population']\n",
    "demographic['female_prop'] = demographic['Females']/demographic['population']\n",
    "demographic.columns"
   ]
  },
  {
   "cell_type": "code",
   "execution_count": 17,
   "id": "37647d83-00b0-4831-811e-aa097384e2c0",
   "metadata": {},
   "outputs": [
    {
     "data": {
      "text/plain": [
       "Index(['msoa_code', 'population', 'Males', 'Females', '0_4', '5_7', ' 8_9',\n",
       "       ' 10_14', '15', ' 16_17', ' 18_19', ' 20_24', ' 25_29', ' 30_44',\n",
       "       '45_59', '60_64', '65_74', '75_84', '85_89', '90_and_over', 'White',\n",
       "       'mixed', 'asian', 'black', 'other_ethic', 'total_qual', 'no_qual',\n",
       "       'male_prop', 'female_prop', 'under_18', 'adult', 'elderly'],\n",
       "      dtype='object')"
      ]
     },
     "execution_count": 17,
     "metadata": {},
     "output_type": "execute_result"
    }
   ],
   "source": [
    "# age proportion\n",
    "demographic['under_18'] = (demographic['0_4'] + demographic['5_7'] + demographic[' 8_9'] + demographic[' 10_14'] + demographic['15'] + demographic[' 16_17'])/100\n",
    "demographic['adult'] = (demographic[' 18_19'] + demographic[' 20_24'] + demographic[' 25_29'] + demographic[' 30_44'] + demographic['45_59'] + demographic['60_64'])/100\n",
    "demographic['elderly'] = (demographic['65_74'] + demographic['75_84'] + demographic['85_89'] + demographic['90_and_over'] )/100\n",
    "demographic.columns"
   ]
  },
  {
   "cell_type": "code",
   "execution_count": 18,
   "id": "b472d319-8815-4f6f-97da-d895c3449b36",
   "metadata": {},
   "outputs": [],
   "source": [
    "# qualification proportion\n",
    "demographic['qual_rate'] = demographic['no_qual']/demographic['total_qual']"
   ]
  },
  {
   "cell_type": "code",
   "execution_count": 19,
   "id": "e1538471-ad64-49bd-84a5-b9a32d749b23",
   "metadata": {},
   "outputs": [
    {
     "data": {
      "text/html": [
       "<div>\n",
       "<style scoped>\n",
       "    .dataframe tbody tr th:only-of-type {\n",
       "        vertical-align: middle;\n",
       "    }\n",
       "\n",
       "    .dataframe tbody tr th {\n",
       "        vertical-align: top;\n",
       "    }\n",
       "\n",
       "    .dataframe thead th {\n",
       "        text-align: right;\n",
       "    }\n",
       "</style>\n",
       "<table border=\"1\" class=\"dataframe\">\n",
       "  <thead>\n",
       "    <tr style=\"text-align: right;\">\n",
       "      <th></th>\n",
       "      <th>msoa_code</th>\n",
       "      <th>White</th>\n",
       "      <th>mixed</th>\n",
       "      <th>asian</th>\n",
       "      <th>black</th>\n",
       "      <th>other_ethic</th>\n",
       "      <th>male_prop</th>\n",
       "      <th>female_prop</th>\n",
       "      <th>under_18</th>\n",
       "      <th>adult</th>\n",
       "      <th>elderly</th>\n",
       "      <th>qual_rate</th>\n",
       "    </tr>\n",
       "  </thead>\n",
       "  <tbody>\n",
       "    <tr>\n",
       "      <th>0</th>\n",
       "      <td>E02000166  Camden 001</td>\n",
       "      <td>79.4</td>\n",
       "      <td>6.4</td>\n",
       "      <td>5.8</td>\n",
       "      <td>5.7</td>\n",
       "      <td>2.7</td>\n",
       "      <td>0.465548</td>\n",
       "      <td>0.534452</td>\n",
       "      <td>0.195</td>\n",
       "      <td>0.650</td>\n",
       "      <td>0.154</td>\n",
       "      <td>0.131631</td>\n",
       "    </tr>\n",
       "    <tr>\n",
       "      <th>1</th>\n",
       "      <td>E02000167  Camden 002</td>\n",
       "      <td>84.8</td>\n",
       "      <td>4.7</td>\n",
       "      <td>6.7</td>\n",
       "      <td>1.9</td>\n",
       "      <td>1.9</td>\n",
       "      <td>0.488419</td>\n",
       "      <td>0.511581</td>\n",
       "      <td>0.191</td>\n",
       "      <td>0.639</td>\n",
       "      <td>0.169</td>\n",
       "      <td>0.055190</td>\n",
       "    </tr>\n",
       "    <tr>\n",
       "      <th>2</th>\n",
       "      <td>E02000168  Camden 003</td>\n",
       "      <td>78.2</td>\n",
       "      <td>6.6</td>\n",
       "      <td>7.2</td>\n",
       "      <td>5.7</td>\n",
       "      <td>2.4</td>\n",
       "      <td>0.480666</td>\n",
       "      <td>0.519334</td>\n",
       "      <td>0.187</td>\n",
       "      <td>0.694</td>\n",
       "      <td>0.118</td>\n",
       "      <td>0.124209</td>\n",
       "    </tr>\n",
       "    <tr>\n",
       "      <th>3</th>\n",
       "      <td>E02000169  Camden 004</td>\n",
       "      <td>75.9</td>\n",
       "      <td>6.1</td>\n",
       "      <td>11.7</td>\n",
       "      <td>2.4</td>\n",
       "      <td>3.9</td>\n",
       "      <td>0.479900</td>\n",
       "      <td>0.520100</td>\n",
       "      <td>0.206</td>\n",
       "      <td>0.640</td>\n",
       "      <td>0.156</td>\n",
       "      <td>0.067173</td>\n",
       "    </tr>\n",
       "    <tr>\n",
       "      <th>4</th>\n",
       "      <td>E02000170  Camden 005</td>\n",
       "      <td>74.3</td>\n",
       "      <td>5.6</td>\n",
       "      <td>10.9</td>\n",
       "      <td>4.6</td>\n",
       "      <td>4.5</td>\n",
       "      <td>0.495802</td>\n",
       "      <td>0.504198</td>\n",
       "      <td>0.167</td>\n",
       "      <td>0.736</td>\n",
       "      <td>0.098</td>\n",
       "      <td>0.076403</td>\n",
       "    </tr>\n",
       "  </tbody>\n",
       "</table>\n",
       "</div>"
      ],
      "text/plain": [
       "               msoa_code  White  mixed  asian  black  other_ethic  male_prop  \\\n",
       "0  E02000166  Camden 001   79.4    6.4    5.8    5.7          2.7   0.465548   \n",
       "1  E02000167  Camden 002   84.8    4.7    6.7    1.9          1.9   0.488419   \n",
       "2  E02000168  Camden 003   78.2    6.6    7.2    5.7          2.4   0.480666   \n",
       "3  E02000169  Camden 004   75.9    6.1   11.7    2.4          3.9   0.479900   \n",
       "4  E02000170  Camden 005   74.3    5.6   10.9    4.6          4.5   0.495802   \n",
       "\n",
       "   female_prop  under_18  adult  elderly  qual_rate  \n",
       "0     0.534452     0.195  0.650    0.154   0.131631  \n",
       "1     0.511581     0.191  0.639    0.169   0.055190  \n",
       "2     0.519334     0.187  0.694    0.118   0.124209  \n",
       "3     0.520100     0.206  0.640    0.156   0.067173  \n",
       "4     0.504198     0.167  0.736    0.098   0.076403  "
      ]
     },
     "execution_count": 19,
     "metadata": {},
     "output_type": "execute_result"
    }
   ],
   "source": [
    "# drop unwanted columns again\n",
    "demographic = demographic[['msoa_code','White', 'mixed', 'asian', 'black', 'other_ethic', \n",
    "                           'male_prop', 'female_prop', \n",
    "                           'under_18', 'adult', 'elderly',\n",
    "                           'qual_rate']]\n",
    "demographic.head(5)"
   ]
  },
  {
   "cell_type": "code",
   "execution_count": 20,
   "id": "7e7b2108-d638-4b1e-8f9b-eec61ae9b0fb",
   "metadata": {},
   "outputs": [
    {
     "data": {
      "text/html": [
       "<div>\n",
       "<style scoped>\n",
       "    .dataframe tbody tr th:only-of-type {\n",
       "        vertical-align: middle;\n",
       "    }\n",
       "\n",
       "    .dataframe tbody tr th {\n",
       "        vertical-align: top;\n",
       "    }\n",
       "\n",
       "    .dataframe thead th {\n",
       "        text-align: right;\n",
       "    }\n",
       "</style>\n",
       "<table border=\"1\" class=\"dataframe\">\n",
       "  <thead>\n",
       "    <tr style=\"text-align: right;\">\n",
       "      <th></th>\n",
       "      <th>msoa_code</th>\n",
       "      <th>White</th>\n",
       "      <th>mixed</th>\n",
       "      <th>asian</th>\n",
       "      <th>black</th>\n",
       "      <th>other_ethic</th>\n",
       "      <th>male_prop</th>\n",
       "      <th>female_prop</th>\n",
       "      <th>under_18</th>\n",
       "      <th>adult</th>\n",
       "      <th>elderly</th>\n",
       "      <th>qual_rate</th>\n",
       "    </tr>\n",
       "  </thead>\n",
       "  <tbody>\n",
       "    <tr>\n",
       "      <th>0</th>\n",
       "      <td>E02000166  Camden 001</td>\n",
       "      <td>0.794</td>\n",
       "      <td>0.064</td>\n",
       "      <td>0.058</td>\n",
       "      <td>0.057</td>\n",
       "      <td>0.027</td>\n",
       "      <td>0.465548</td>\n",
       "      <td>0.534452</td>\n",
       "      <td>0.195</td>\n",
       "      <td>0.650</td>\n",
       "      <td>0.154</td>\n",
       "      <td>0.131631</td>\n",
       "    </tr>\n",
       "    <tr>\n",
       "      <th>1</th>\n",
       "      <td>E02000167  Camden 002</td>\n",
       "      <td>0.848</td>\n",
       "      <td>0.047</td>\n",
       "      <td>0.067</td>\n",
       "      <td>0.019</td>\n",
       "      <td>0.019</td>\n",
       "      <td>0.488419</td>\n",
       "      <td>0.511581</td>\n",
       "      <td>0.191</td>\n",
       "      <td>0.639</td>\n",
       "      <td>0.169</td>\n",
       "      <td>0.055190</td>\n",
       "    </tr>\n",
       "    <tr>\n",
       "      <th>2</th>\n",
       "      <td>E02000168  Camden 003</td>\n",
       "      <td>0.782</td>\n",
       "      <td>0.066</td>\n",
       "      <td>0.072</td>\n",
       "      <td>0.057</td>\n",
       "      <td>0.024</td>\n",
       "      <td>0.480666</td>\n",
       "      <td>0.519334</td>\n",
       "      <td>0.187</td>\n",
       "      <td>0.694</td>\n",
       "      <td>0.118</td>\n",
       "      <td>0.124209</td>\n",
       "    </tr>\n",
       "    <tr>\n",
       "      <th>3</th>\n",
       "      <td>E02000169  Camden 004</td>\n",
       "      <td>0.759</td>\n",
       "      <td>0.061</td>\n",
       "      <td>0.117</td>\n",
       "      <td>0.024</td>\n",
       "      <td>0.039</td>\n",
       "      <td>0.479900</td>\n",
       "      <td>0.520100</td>\n",
       "      <td>0.206</td>\n",
       "      <td>0.640</td>\n",
       "      <td>0.156</td>\n",
       "      <td>0.067173</td>\n",
       "    </tr>\n",
       "    <tr>\n",
       "      <th>4</th>\n",
       "      <td>E02000170  Camden 005</td>\n",
       "      <td>0.743</td>\n",
       "      <td>0.056</td>\n",
       "      <td>0.109</td>\n",
       "      <td>0.046</td>\n",
       "      <td>0.045</td>\n",
       "      <td>0.495802</td>\n",
       "      <td>0.504198</td>\n",
       "      <td>0.167</td>\n",
       "      <td>0.736</td>\n",
       "      <td>0.098</td>\n",
       "      <td>0.076403</td>\n",
       "    </tr>\n",
       "  </tbody>\n",
       "</table>\n",
       "</div>"
      ],
      "text/plain": [
       "               msoa_code  White  mixed  asian  black  other_ethic  male_prop  \\\n",
       "0  E02000166  Camden 001  0.794  0.064  0.058  0.057        0.027   0.465548   \n",
       "1  E02000167  Camden 002  0.848  0.047  0.067  0.019        0.019   0.488419   \n",
       "2  E02000168  Camden 003  0.782  0.066  0.072  0.057        0.024   0.480666   \n",
       "3  E02000169  Camden 004  0.759  0.061  0.117  0.024        0.039   0.479900   \n",
       "4  E02000170  Camden 005  0.743  0.056  0.109  0.046        0.045   0.495802   \n",
       "\n",
       "   female_prop  under_18  adult  elderly  qual_rate  \n",
       "0     0.534452     0.195  0.650    0.154   0.131631  \n",
       "1     0.511581     0.191  0.639    0.169   0.055190  \n",
       "2     0.519334     0.187  0.694    0.118   0.124209  \n",
       "3     0.520100     0.206  0.640    0.156   0.067173  \n",
       "4     0.504198     0.167  0.736    0.098   0.076403  "
      ]
     },
     "execution_count": 20,
     "metadata": {},
     "output_type": "execute_result"
    }
   ],
   "source": [
    "# change proportion figure to decimal point\n",
    "\n",
    "demographic['White'] = demographic['White']/100\n",
    "demographic['mixed'] = demographic['mixed']/100\n",
    "demographic['asian'] = demographic['asian']/100\n",
    "demographic['black'] = demographic['black']/100\n",
    "demographic['other_ethic'] = demographic['other_ethic']/100\n",
    "demographic.head(5)"
   ]
  },
  {
   "cell_type": "code",
   "execution_count": 21,
   "id": "0ffb08b8-7b3f-4558-8f5c-0689e98ab87e",
   "metadata": {},
   "outputs": [
    {
     "data": {
      "text/plain": [
       "Index(['msoa_code', 'White', 'mixed', 'asian', 'black', 'other_ethic',\n",
       "       'male_prop', 'female_prop', 'under_18', 'adult', 'elderly', 'qual_rate',\n",
       "       'code', 'name'],\n",
       "      dtype='object')"
      ]
     },
     "execution_count": 21,
     "metadata": {},
     "output_type": "execute_result"
    }
   ],
   "source": [
    "demographic[['code', 'name']] = demographic['msoa_code'].str.split(' ', 1, expand=True)\n",
    "demographic.columns"
   ]
  },
  {
   "cell_type": "code",
   "execution_count": 22,
   "id": "d9705b83-b907-45c1-a402-2d44568931a3",
   "metadata": {},
   "outputs": [
    {
     "data": {
      "text/html": [
       "<div>\n",
       "<style scoped>\n",
       "    .dataframe tbody tr th:only-of-type {\n",
       "        vertical-align: middle;\n",
       "    }\n",
       "\n",
       "    .dataframe tbody tr th {\n",
       "        vertical-align: top;\n",
       "    }\n",
       "\n",
       "    .dataframe thead th {\n",
       "        text-align: right;\n",
       "    }\n",
       "</style>\n",
       "<table border=\"1\" class=\"dataframe\">\n",
       "  <thead>\n",
       "    <tr style=\"text-align: right;\">\n",
       "      <th></th>\n",
       "      <th>code</th>\n",
       "      <th>name</th>\n",
       "      <th>White</th>\n",
       "      <th>mixed</th>\n",
       "      <th>asian</th>\n",
       "      <th>black</th>\n",
       "      <th>other_ethic</th>\n",
       "      <th>male_prop</th>\n",
       "      <th>female_prop</th>\n",
       "      <th>under_18</th>\n",
       "      <th>adult</th>\n",
       "      <th>elderly</th>\n",
       "      <th>qual_rate</th>\n",
       "    </tr>\n",
       "  </thead>\n",
       "  <tbody>\n",
       "    <tr>\n",
       "      <th>0</th>\n",
       "      <td>E02000166</td>\n",
       "      <td>Camden 001</td>\n",
       "      <td>0.794</td>\n",
       "      <td>0.064</td>\n",
       "      <td>0.058</td>\n",
       "      <td>0.057</td>\n",
       "      <td>0.027</td>\n",
       "      <td>0.465548</td>\n",
       "      <td>0.534452</td>\n",
       "      <td>0.195</td>\n",
       "      <td>0.650</td>\n",
       "      <td>0.154</td>\n",
       "      <td>0.131631</td>\n",
       "    </tr>\n",
       "    <tr>\n",
       "      <th>1</th>\n",
       "      <td>E02000167</td>\n",
       "      <td>Camden 002</td>\n",
       "      <td>0.848</td>\n",
       "      <td>0.047</td>\n",
       "      <td>0.067</td>\n",
       "      <td>0.019</td>\n",
       "      <td>0.019</td>\n",
       "      <td>0.488419</td>\n",
       "      <td>0.511581</td>\n",
       "      <td>0.191</td>\n",
       "      <td>0.639</td>\n",
       "      <td>0.169</td>\n",
       "      <td>0.055190</td>\n",
       "    </tr>\n",
       "    <tr>\n",
       "      <th>2</th>\n",
       "      <td>E02000168</td>\n",
       "      <td>Camden 003</td>\n",
       "      <td>0.782</td>\n",
       "      <td>0.066</td>\n",
       "      <td>0.072</td>\n",
       "      <td>0.057</td>\n",
       "      <td>0.024</td>\n",
       "      <td>0.480666</td>\n",
       "      <td>0.519334</td>\n",
       "      <td>0.187</td>\n",
       "      <td>0.694</td>\n",
       "      <td>0.118</td>\n",
       "      <td>0.124209</td>\n",
       "    </tr>\n",
       "  </tbody>\n",
       "</table>\n",
       "</div>"
      ],
      "text/plain": [
       "        code         name  White  mixed  asian  black  other_ethic  male_prop  \\\n",
       "0  E02000166   Camden 001  0.794  0.064  0.058  0.057        0.027   0.465548   \n",
       "1  E02000167   Camden 002  0.848  0.047  0.067  0.019        0.019   0.488419   \n",
       "2  E02000168   Camden 003  0.782  0.066  0.072  0.057        0.024   0.480666   \n",
       "\n",
       "   female_prop  under_18  adult  elderly  qual_rate  \n",
       "0     0.534452     0.195  0.650    0.154   0.131631  \n",
       "1     0.511581     0.191  0.639    0.169   0.055190  \n",
       "2     0.519334     0.187  0.694    0.118   0.124209  "
      ]
     },
     "execution_count": 22,
     "metadata": {},
     "output_type": "execute_result"
    }
   ],
   "source": [
    "# drop unwanted the column \n",
    "demographic = demographic[['code', 'name','White', 'mixed', 'asian', 'black', 'other_ethic',\n",
    "       'male_prop', 'female_prop', 'under_18', 'adult', 'elderly', 'qual_rate']]\n",
    "demographic.head(3)"
   ]
  },
  {
   "cell_type": "markdown",
   "id": "b79c2e6d-054a-4511-99a1-221737d67611",
   "metadata": {},
   "source": [
    "### 2.5 Distance"
   ]
  },
  {
   "cell_type": "code",
   "execution_count": 23,
   "id": "009bbbcc-2d9b-4d03-aff7-58d99da01262",
   "metadata": {},
   "outputs": [],
   "source": [
    "distance = pd.read_csv(\"data/oa/distance_to_work_oa.csv\")"
   ]
  },
  {
   "cell_type": "code",
   "execution_count": 24,
   "id": "b66ca30f-12fb-408b-897d-43cd80736f9b",
   "metadata": {},
   "outputs": [],
   "source": [
    "distance = distance[[\"2011 output area\", \"Average distance (km)\"]]"
   ]
  },
  {
   "cell_type": "markdown",
   "id": "c4691c6f-a0ba-42f7-8709-0a36ae8c33d7",
   "metadata": {},
   "source": [
    "Columns of use:\n",
    "- 2011 Output area \n",
    "    - A unique code identifier allowing merging with other datasets\n",
    "- Average distacne (km) \n",
    "    - The average distance an resident would travel to work"
   ]
  },
  {
   "cell_type": "code",
   "execution_count": 25,
   "id": "39c76218-2ed5-4022-8c43-225a702e42b8",
   "metadata": {},
   "outputs": [],
   "source": [
    "distance = distance.rename(columns={\"Average distance (km)\":\"distance\"})"
   ]
  },
  {
   "cell_type": "markdown",
   "id": "f79ce009-7d99-408a-a6a3-740ad3e023a1",
   "metadata": {},
   "source": [
    "### 2.6 Housing Price in GBP"
   ]
  },
  {
   "cell_type": "code",
   "execution_count": 26,
   "id": "1a0469d4-245a-4261-ae95-141fc8a08c01",
   "metadata": {},
   "outputs": [
    {
     "data": {
      "text/plain": [
       "Index(['Code', 'Area', 'Value'], dtype='object')"
      ]
     },
     "execution_count": 26,
     "metadata": {},
     "output_type": "execute_result"
    }
   ],
   "source": [
    "house_price = pd.read_csv('https://raw.githubusercontent.com/ZacharyP-E/qm_group25/main/data/msoa/average_house_prices_msoa.csv')\n",
    "house_price.columns"
   ]
  },
  {
   "cell_type": "code",
   "execution_count": 27,
   "id": "b3bcc6cf-418f-459d-ba06-523ef4a92181",
   "metadata": {},
   "outputs": [
    {
     "data": {
      "text/html": [
       "<div>\n",
       "<style scoped>\n",
       "    .dataframe tbody tr th:only-of-type {\n",
       "        vertical-align: middle;\n",
       "    }\n",
       "\n",
       "    .dataframe tbody tr th {\n",
       "        vertical-align: top;\n",
       "    }\n",
       "\n",
       "    .dataframe thead th {\n",
       "        text-align: right;\n",
       "    }\n",
       "</style>\n",
       "<table border=\"1\" class=\"dataframe\">\n",
       "  <thead>\n",
       "    <tr style=\"text-align: right;\">\n",
       "      <th></th>\n",
       "      <th>code</th>\n",
       "      <th>Area</th>\n",
       "      <th>house_price</th>\n",
       "    </tr>\n",
       "  </thead>\n",
       "  <tbody>\n",
       "    <tr>\n",
       "      <th>0</th>\n",
       "      <td>E02000001</td>\n",
       "      <td>City of London 001</td>\n",
       "      <td>541192</td>\n",
       "    </tr>\n",
       "    <tr>\n",
       "      <th>1</th>\n",
       "      <td>E02000002</td>\n",
       "      <td>Barking and Dagenham 001</td>\n",
       "      <td>191618</td>\n",
       "    </tr>\n",
       "    <tr>\n",
       "      <th>2</th>\n",
       "      <td>E02000003</td>\n",
       "      <td>Barking and Dagenham 002</td>\n",
       "      <td>193483</td>\n",
       "    </tr>\n",
       "  </tbody>\n",
       "</table>\n",
       "</div>"
      ],
      "text/plain": [
       "        code                      Area  house_price\n",
       "0  E02000001        City of London 001       541192\n",
       "1  E02000002  Barking and Dagenham 001       191618\n",
       "2  E02000003  Barking and Dagenham 002       193483"
      ]
     },
     "execution_count": 27,
     "metadata": {},
     "output_type": "execute_result"
    }
   ],
   "source": [
    "house_price.rename(columns = {'Code':'code','Value':'house_price'},inplace = True)\n",
    "house_price.head(3)"
   ]
  },
  {
   "cell_type": "markdown",
   "id": "a3e43227-f15c-40a7-8166-f4d913d39f48",
   "metadata": {},
   "source": [
    "### 2.7 Road Casualty"
   ]
  },
  {
   "cell_type": "code",
   "execution_count": 28,
   "id": "02c7a701-b590-451c-8d4a-1e5177b2b4f0",
   "metadata": {},
   "outputs": [
    {
     "data": {
      "text/plain": [
       "Index(['MSOA Code', 'Fatal', 'Serious', 'Slight', '2011 Total'], dtype='object')"
      ]
     },
     "execution_count": 28,
     "metadata": {},
     "output_type": "execute_result"
    }
   ],
   "source": [
    "road_casualty = pd.read_csv('https://raw.githubusercontent.com/ZacharyP-E/qm_group25/main/data/msoa/road_casualties_severity_msoa.csv')\n",
    "road_casualty.columns"
   ]
  },
  {
   "cell_type": "code",
   "execution_count": 29,
   "id": "f3b997e4-516b-4bf3-96c1-3b1da9ad0707",
   "metadata": {},
   "outputs": [],
   "source": [
    "road_casualty.rename(columns = {'MSOA Code':'code','2011 Total':'road_casualty'},inplace = True)"
   ]
  },
  {
   "cell_type": "code",
   "execution_count": 30,
   "id": "e8bafe6e-5f1e-4d95-8891-8539113dcdef",
   "metadata": {},
   "outputs": [
    {
     "data": {
      "text/html": [
       "<div>\n",
       "<style scoped>\n",
       "    .dataframe tbody tr th:only-of-type {\n",
       "        vertical-align: middle;\n",
       "    }\n",
       "\n",
       "    .dataframe tbody tr th {\n",
       "        vertical-align: top;\n",
       "    }\n",
       "\n",
       "    .dataframe thead th {\n",
       "        text-align: right;\n",
       "    }\n",
       "</style>\n",
       "<table border=\"1\" class=\"dataframe\">\n",
       "  <thead>\n",
       "    <tr style=\"text-align: right;\">\n",
       "      <th></th>\n",
       "      <th>code</th>\n",
       "      <th>road_casualty</th>\n",
       "    </tr>\n",
       "  </thead>\n",
       "  <tbody>\n",
       "    <tr>\n",
       "      <th>0</th>\n",
       "      <td>E02000001</td>\n",
       "      <td>405</td>\n",
       "    </tr>\n",
       "    <tr>\n",
       "      <th>1</th>\n",
       "      <td>E02000002</td>\n",
       "      <td>18</td>\n",
       "    </tr>\n",
       "    <tr>\n",
       "      <th>2</th>\n",
       "      <td>E02000003</td>\n",
       "      <td>45</td>\n",
       "    </tr>\n",
       "  </tbody>\n",
       "</table>\n",
       "</div>"
      ],
      "text/plain": [
       "        code  road_casualty\n",
       "0  E02000001            405\n",
       "1  E02000002             18\n",
       "2  E02000003             45"
      ]
     },
     "execution_count": 30,
     "metadata": {},
     "output_type": "execute_result"
    }
   ],
   "source": [
    "road_casualty = road_casualty[['code','road_casualty']]\n",
    "road_casualty.head(3)"
   ]
  },
  {
   "cell_type": "markdown",
   "id": "2c0c7ead-05a6-49e3-aeb2-d13bf6a8449d",
   "metadata": {},
   "source": [
    "### 2.8 Car Owndership in Percentage"
   ]
  },
  {
   "cell_type": "code",
   "execution_count": 31,
   "id": "49636060-b9f8-483d-a658-20aa97dd7b49",
   "metadata": {},
   "outputs": [
    {
     "data": {
      "text/plain": [
       "Index(['2011 super output area - middle layer',\n",
       "       'All categories Car or van availability',\n",
       "       'No cars or vans in household', '1 car or van in household',\n",
       "       '2 cars or vans in household', '3 cars or vans in household',\n",
       "       '4 or more cars or vans in household'],\n",
       "      dtype='object')"
      ]
     },
     "execution_count": 31,
     "metadata": {},
     "output_type": "execute_result"
    }
   ],
   "source": [
    "car_own = pd.read_csv('https://raw.githubusercontent.com/ZacharyP-E/qm_group25/main/data/msoa/car_ownership_msoa.csv')\n",
    "car_own.columns"
   ]
  },
  {
   "cell_type": "code",
   "execution_count": 32,
   "id": "3dd5f81e-1f7a-4bd8-bf0f-c955217e2080",
   "metadata": {},
   "outputs": [
    {
     "data": {
      "text/plain": [
       "Index(['msoa_code', 'all', 'no_car', '1 car or van in household',\n",
       "       '2 cars or vans in household', '3 cars or vans in household',\n",
       "       '4 or more cars or vans in household'],\n",
       "      dtype='object')"
      ]
     },
     "execution_count": 32,
     "metadata": {},
     "output_type": "execute_result"
    }
   ],
   "source": [
    "car_own.rename(columns = {'2011 super output area - middle layer':'msoa_code',\n",
    "                          'All categories Car or van availability':'all',\n",
    "                          'No cars or vans in household':'no_car'},inplace = True)\n",
    "car_own.columns"
   ]
  },
  {
   "cell_type": "code",
   "execution_count": 33,
   "id": "c16d2867-83d6-4903-9cda-873f0b95021a",
   "metadata": {},
   "outputs": [
    {
     "data": {
      "text/plain": [
       "Index(['msoa_code', 'all', 'no_car', 'car_ownership'], dtype='object')"
      ]
     },
     "execution_count": 33,
     "metadata": {},
     "output_type": "execute_result"
    }
   ],
   "source": [
    "# calculate the car ownership of households\n",
    "car_own = car_own[['msoa_code', 'all', 'no_car']]\n",
    "car_own['car_ownership'] = (car_own['all']- car_own['no_car'])/100\n",
    "car_own.columns"
   ]
  },
  {
   "cell_type": "code",
   "execution_count": 34,
   "id": "465b6467-306e-45b6-acd3-9312e3417417",
   "metadata": {},
   "outputs": [
    {
     "data": {
      "text/html": [
       "<div>\n",
       "<style scoped>\n",
       "    .dataframe tbody tr th:only-of-type {\n",
       "        vertical-align: middle;\n",
       "    }\n",
       "\n",
       "    .dataframe tbody tr th {\n",
       "        vertical-align: top;\n",
       "    }\n",
       "\n",
       "    .dataframe thead th {\n",
       "        text-align: right;\n",
       "    }\n",
       "</style>\n",
       "<table border=\"1\" class=\"dataframe\">\n",
       "  <thead>\n",
       "    <tr style=\"text-align: right;\">\n",
       "      <th></th>\n",
       "      <th>msoa_code</th>\n",
       "      <th>all</th>\n",
       "      <th>no_car</th>\n",
       "      <th>car_ownership</th>\n",
       "      <th>code</th>\n",
       "      <th>name</th>\n",
       "    </tr>\n",
       "  </thead>\n",
       "  <tbody>\n",
       "    <tr>\n",
       "      <th>0</th>\n",
       "      <td>E02000166  Camden 001</td>\n",
       "      <td>100</td>\n",
       "      <td>48.2</td>\n",
       "      <td>0.518</td>\n",
       "      <td>E02000166</td>\n",
       "      <td>Camden 001</td>\n",
       "    </tr>\n",
       "    <tr>\n",
       "      <th>1</th>\n",
       "      <td>E02000167  Camden 002</td>\n",
       "      <td>100</td>\n",
       "      <td>41.3</td>\n",
       "      <td>0.587</td>\n",
       "      <td>E02000167</td>\n",
       "      <td>Camden 002</td>\n",
       "    </tr>\n",
       "    <tr>\n",
       "      <th>2</th>\n",
       "      <td>E02000168  Camden 003</td>\n",
       "      <td>100</td>\n",
       "      <td>55.5</td>\n",
       "      <td>0.445</td>\n",
       "      <td>E02000168</td>\n",
       "      <td>Camden 003</td>\n",
       "    </tr>\n",
       "  </tbody>\n",
       "</table>\n",
       "</div>"
      ],
      "text/plain": [
       "               msoa_code  all  no_car  car_ownership       code         name\n",
       "0  E02000166  Camden 001  100    48.2          0.518  E02000166   Camden 001\n",
       "1  E02000167  Camden 002  100    41.3          0.587  E02000167   Camden 002\n",
       "2  E02000168  Camden 003  100    55.5          0.445  E02000168   Camden 003"
      ]
     },
     "execution_count": 34,
     "metadata": {},
     "output_type": "execute_result"
    }
   ],
   "source": [
    "#split the msoa_code\n",
    "car_own[['code', 'name']] = car_own['msoa_code'].str.split(' ', 1, expand=True)\n",
    "car_own.head(3)"
   ]
  },
  {
   "cell_type": "code",
   "execution_count": 35,
   "id": "5a73d3e8-ae3e-4d9f-8aa9-7aebc59b935f",
   "metadata": {},
   "outputs": [
    {
     "data": {
      "text/html": [
       "<div>\n",
       "<style scoped>\n",
       "    .dataframe tbody tr th:only-of-type {\n",
       "        vertical-align: middle;\n",
       "    }\n",
       "\n",
       "    .dataframe tbody tr th {\n",
       "        vertical-align: top;\n",
       "    }\n",
       "\n",
       "    .dataframe thead th {\n",
       "        text-align: right;\n",
       "    }\n",
       "</style>\n",
       "<table border=\"1\" class=\"dataframe\">\n",
       "  <thead>\n",
       "    <tr style=\"text-align: right;\">\n",
       "      <th></th>\n",
       "      <th>code</th>\n",
       "      <th>car_ownership</th>\n",
       "    </tr>\n",
       "  </thead>\n",
       "  <tbody>\n",
       "    <tr>\n",
       "      <th>0</th>\n",
       "      <td>E02000166</td>\n",
       "      <td>0.518</td>\n",
       "    </tr>\n",
       "    <tr>\n",
       "      <th>1</th>\n",
       "      <td>E02000167</td>\n",
       "      <td>0.587</td>\n",
       "    </tr>\n",
       "    <tr>\n",
       "      <th>2</th>\n",
       "      <td>E02000168</td>\n",
       "      <td>0.445</td>\n",
       "    </tr>\n",
       "  </tbody>\n",
       "</table>\n",
       "</div>"
      ],
      "text/plain": [
       "        code  car_ownership\n",
       "0  E02000166          0.518\n",
       "1  E02000167          0.587\n",
       "2  E02000168          0.445"
      ]
     },
     "execution_count": 35,
     "metadata": {},
     "output_type": "execute_result"
    }
   ],
   "source": [
    "# drop unwanted the column \n",
    "car_own = car_own[['code','car_ownership']]\n",
    "car_own.head(3)"
   ]
  },
  {
   "cell_type": "markdown",
   "id": "5611eaa0-c631-4ae1-b98d-97b1bd3298c5",
   "metadata": {},
   "source": [
    "### 2.9 Housing Ownership in Percentage"
   ]
  },
  {
   "cell_type": "code",
   "execution_count": 36,
   "id": "5e5c7348-72bf-4854-8395-02a025bda598",
   "metadata": {},
   "outputs": [
    {
     "data": {
      "text/plain": [
       "Index(['2011 super output area - middle layer', 'All households', 'Owned',\n",
       "       'Shared ownership (part owned and part rented)', 'Social rented',\n",
       "       'Private rented', 'Living rent free'],\n",
       "      dtype='object')"
      ]
     },
     "execution_count": 36,
     "metadata": {},
     "output_type": "execute_result"
    }
   ],
   "source": [
    "house_own = pd.read_csv('https://raw.githubusercontent.com/ZacharyP-E/qm_group25/main/data/msoa/tenure_msoa.csv')\n",
    "house_own.columns"
   ]
  },
  {
   "cell_type": "code",
   "execution_count": 37,
   "id": "9ce1dda0-c4e5-460c-9223-d8474ebe6c1c",
   "metadata": {},
   "outputs": [
    {
     "data": {
      "text/plain": [
       "Index(['msoa_code', 'All households', 'Owned', 'share_owned', 'Social rented',\n",
       "       'Private rented', 'Living rent free'],\n",
       "      dtype='object')"
      ]
     },
     "execution_count": 37,
     "metadata": {},
     "output_type": "execute_result"
    }
   ],
   "source": [
    "house_own.rename(columns = {'2011 super output area - middle layer':'msoa_code',\n",
    "                            'Shared ownership (part owned and part rented)':'share_owned'},inplace = True)\n",
    "house_own.columns"
   ]
  },
  {
   "cell_type": "code",
   "execution_count": 38,
   "id": "0b163947-2d61-4ea1-9465-65ce00369f4a",
   "metadata": {},
   "outputs": [],
   "source": [
    "# calculate the house ownership of households\n",
    "house_own['house_ownership'] = (house_own['Owned']- house_own['share_owned'])/100"
   ]
  },
  {
   "cell_type": "code",
   "execution_count": 39,
   "id": "e71e2426-d87c-45b2-baec-d716e726398b",
   "metadata": {},
   "outputs": [
    {
     "data": {
      "text/html": [
       "<div>\n",
       "<style scoped>\n",
       "    .dataframe tbody tr th:only-of-type {\n",
       "        vertical-align: middle;\n",
       "    }\n",
       "\n",
       "    .dataframe tbody tr th {\n",
       "        vertical-align: top;\n",
       "    }\n",
       "\n",
       "    .dataframe thead th {\n",
       "        text-align: right;\n",
       "    }\n",
       "</style>\n",
       "<table border=\"1\" class=\"dataframe\">\n",
       "  <thead>\n",
       "    <tr style=\"text-align: right;\">\n",
       "      <th></th>\n",
       "      <th>msoa_code</th>\n",
       "      <th>All households</th>\n",
       "      <th>Owned</th>\n",
       "      <th>share_owned</th>\n",
       "      <th>Social rented</th>\n",
       "      <th>Private rented</th>\n",
       "      <th>Living rent free</th>\n",
       "      <th>house_ownership</th>\n",
       "      <th>code</th>\n",
       "      <th>name</th>\n",
       "    </tr>\n",
       "  </thead>\n",
       "  <tbody>\n",
       "    <tr>\n",
       "      <th>0</th>\n",
       "      <td>E02000166  Camden 001</td>\n",
       "      <td>100</td>\n",
       "      <td>45.1</td>\n",
       "      <td>0.8</td>\n",
       "      <td>36.0</td>\n",
       "      <td>16.1</td>\n",
       "      <td>2.0</td>\n",
       "      <td>0.443</td>\n",
       "      <td>E02000166</td>\n",
       "      <td>Camden 001</td>\n",
       "    </tr>\n",
       "    <tr>\n",
       "      <th>1</th>\n",
       "      <td>E02000167  Camden 002</td>\n",
       "      <td>100</td>\n",
       "      <td>55.6</td>\n",
       "      <td>0.2</td>\n",
       "      <td>8.4</td>\n",
       "      <td>33.4</td>\n",
       "      <td>2.5</td>\n",
       "      <td>0.554</td>\n",
       "      <td>E02000167</td>\n",
       "      <td>Camden 002</td>\n",
       "    </tr>\n",
       "    <tr>\n",
       "      <th>2</th>\n",
       "      <td>E02000168  Camden 003</td>\n",
       "      <td>100</td>\n",
       "      <td>42.0</td>\n",
       "      <td>0.8</td>\n",
       "      <td>29.3</td>\n",
       "      <td>26.7</td>\n",
       "      <td>1.3</td>\n",
       "      <td>0.412</td>\n",
       "      <td>E02000168</td>\n",
       "      <td>Camden 003</td>\n",
       "    </tr>\n",
       "  </tbody>\n",
       "</table>\n",
       "</div>"
      ],
      "text/plain": [
       "               msoa_code  All households  Owned  share_owned  Social rented  \\\n",
       "0  E02000166  Camden 001             100   45.1          0.8           36.0   \n",
       "1  E02000167  Camden 002             100   55.6          0.2            8.4   \n",
       "2  E02000168  Camden 003             100   42.0          0.8           29.3   \n",
       "\n",
       "   Private rented  Living rent free  house_ownership       code         name  \n",
       "0            16.1               2.0            0.443  E02000166   Camden 001  \n",
       "1            33.4               2.5            0.554  E02000167   Camden 002  \n",
       "2            26.7               1.3            0.412  E02000168   Camden 003  "
      ]
     },
     "execution_count": 39,
     "metadata": {},
     "output_type": "execute_result"
    }
   ],
   "source": [
    "#split the msoa_code\n",
    "house_own[['code', 'name']] = house_own['msoa_code'].str.split(' ', 1, expand=True)\n",
    "house_own.head(3)"
   ]
  },
  {
   "cell_type": "code",
   "execution_count": 40,
   "id": "dd1a82ce-e797-4fc0-a82b-1777cda8dd57",
   "metadata": {},
   "outputs": [
    {
     "data": {
      "text/html": [
       "<div>\n",
       "<style scoped>\n",
       "    .dataframe tbody tr th:only-of-type {\n",
       "        vertical-align: middle;\n",
       "    }\n",
       "\n",
       "    .dataframe tbody tr th {\n",
       "        vertical-align: top;\n",
       "    }\n",
       "\n",
       "    .dataframe thead th {\n",
       "        text-align: right;\n",
       "    }\n",
       "</style>\n",
       "<table border=\"1\" class=\"dataframe\">\n",
       "  <thead>\n",
       "    <tr style=\"text-align: right;\">\n",
       "      <th></th>\n",
       "      <th>code</th>\n",
       "      <th>house_ownership</th>\n",
       "    </tr>\n",
       "  </thead>\n",
       "  <tbody>\n",
       "    <tr>\n",
       "      <th>0</th>\n",
       "      <td>E02000166</td>\n",
       "      <td>0.443</td>\n",
       "    </tr>\n",
       "    <tr>\n",
       "      <th>1</th>\n",
       "      <td>E02000167</td>\n",
       "      <td>0.554</td>\n",
       "    </tr>\n",
       "    <tr>\n",
       "      <th>2</th>\n",
       "      <td>E02000168</td>\n",
       "      <td>0.412</td>\n",
       "    </tr>\n",
       "  </tbody>\n",
       "</table>\n",
       "</div>"
      ],
      "text/plain": [
       "        code  house_ownership\n",
       "0  E02000166            0.443\n",
       "1  E02000167            0.554\n",
       "2  E02000168            0.412"
      ]
     },
     "execution_count": 40,
     "metadata": {},
     "output_type": "execute_result"
    }
   ],
   "source": [
    "# # drop unwanted the column \n",
    "house_own = house_own[['code', 'house_ownership']]\n",
    "house_own.head(3)"
   ]
  },
  {
   "cell_type": "markdown",
   "id": "46cb6a1f-e6b4-42c9-82f3-3f7723ed8e15",
   "metadata": {
    "tags": []
   },
   "source": [
    "## 3. Summary statistic fields"
   ]
  },
  {
   "cell_type": "markdown",
   "id": "d9a87925-6bda-4637-8cf9-a7efcf391fdd",
   "metadata": {
    "tags": []
   },
   "source": [
    "### 3.1. Cycling to work - Joe"
   ]
  },
  {
   "cell_type": "code",
   "execution_count": 41,
   "id": "8e1d0b7a-6a0e-4933-a054-30ae7fd87f22",
   "metadata": {},
   "outputs": [
    {
     "data": {
      "text/html": [
       "<div>\n",
       "<style scoped>\n",
       "    .dataframe tbody tr th:only-of-type {\n",
       "        vertical-align: middle;\n",
       "    }\n",
       "\n",
       "    .dataframe tbody tr th {\n",
       "        vertical-align: top;\n",
       "    }\n",
       "\n",
       "    .dataframe thead th {\n",
       "        text-align: right;\n",
       "    }\n",
       "</style>\n",
       "<table border=\"1\" class=\"dataframe\">\n",
       "  <thead>\n",
       "    <tr style=\"text-align: right;\">\n",
       "      <th></th>\n",
       "      <th>year</th>\n",
       "      <th>cycling_count</th>\n",
       "      <th>total_count</th>\n",
       "      <th>cycling_rate</th>\n",
       "    </tr>\n",
       "  </thead>\n",
       "  <tbody>\n",
       "    <tr>\n",
       "      <th>count</th>\n",
       "      <td>7201.0</td>\n",
       "      <td>7201.000000</td>\n",
       "      <td>7201.000000</td>\n",
       "      <td>7201.000000</td>\n",
       "    </tr>\n",
       "    <tr>\n",
       "      <th>mean</th>\n",
       "      <td>2011.0</td>\n",
       "      <td>105.865019</td>\n",
       "      <td>5711.226219</td>\n",
       "      <td>0.017934</td>\n",
       "    </tr>\n",
       "    <tr>\n",
       "      <th>std</th>\n",
       "      <td>0.0</td>\n",
       "      <td>120.777752</td>\n",
       "      <td>1243.733145</td>\n",
       "      <td>0.017921</td>\n",
       "    </tr>\n",
       "    <tr>\n",
       "      <th>min</th>\n",
       "      <td>2011.0</td>\n",
       "      <td>2.000000</td>\n",
       "      <td>1622.000000</td>\n",
       "      <td>0.000391</td>\n",
       "    </tr>\n",
       "    <tr>\n",
       "      <th>25%</th>\n",
       "      <td>2011.0</td>\n",
       "      <td>41.000000</td>\n",
       "      <td>4766.000000</td>\n",
       "      <td>0.007551</td>\n",
       "    </tr>\n",
       "    <tr>\n",
       "      <th>50%</th>\n",
       "      <td>2011.0</td>\n",
       "      <td>68.000000</td>\n",
       "      <td>5539.000000</td>\n",
       "      <td>0.012391</td>\n",
       "    </tr>\n",
       "    <tr>\n",
       "      <th>75%</th>\n",
       "      <td>2011.0</td>\n",
       "      <td>126.000000</td>\n",
       "      <td>6407.000000</td>\n",
       "      <td>0.021843</td>\n",
       "    </tr>\n",
       "    <tr>\n",
       "      <th>max</th>\n",
       "      <td>2011.0</td>\n",
       "      <td>1824.000000</td>\n",
       "      <td>15222.000000</td>\n",
       "      <td>0.246464</td>\n",
       "    </tr>\n",
       "  </tbody>\n",
       "</table>\n",
       "</div>"
      ],
      "text/plain": [
       "         year  cycling_count   total_count  cycling_rate\n",
       "count  7201.0    7201.000000   7201.000000   7201.000000\n",
       "mean   2011.0     105.865019   5711.226219      0.017934\n",
       "std       0.0     120.777752   1243.733145      0.017921\n",
       "min    2011.0       2.000000   1622.000000      0.000391\n",
       "25%    2011.0      41.000000   4766.000000      0.007551\n",
       "50%    2011.0      68.000000   5539.000000      0.012391\n",
       "75%    2011.0     126.000000   6407.000000      0.021843\n",
       "max    2011.0    1824.000000  15222.000000      0.246464"
      ]
     },
     "execution_count": 41,
     "metadata": {},
     "output_type": "execute_result"
    }
   ],
   "source": [
    "cycletowork.describe()"
   ]
  },
  {
   "cell_type": "code",
   "execution_count": 42,
   "id": "61cd65a1-931e-48d4-9b4b-3b30ae334fc7",
   "metadata": {},
   "outputs": [
    {
     "data": {
      "image/png": "[encoded data removed]",
      "text/plain": [
       "<Figure size 1152x576 with 2 Axes>"
      ]
     },
     "metadata": {
      "needs_background": "light"
     },
     "output_type": "display_data"
    }
   ],
   "source": [
    "fig, (ax1, ax2) = plt.subplots(1, 2, figsize=(16,8))\n",
    "ax1.boxplot(cycletowork.cycling_rate,\n",
    "           vert = True)\n",
    "ax1.set_title(\"Boxplot of proportion of residents in MSOA who cycle to work\")\n",
    "ax2.hist(cycletowork.cycling_rate,\n",
    "        bins = 100)\n",
    "ax2.set_title(\"Histogram of proportion of residents in MSOA who cycle to work\")\n",
    "plt.show()"
   ]
  },
  {
   "cell_type": "code",
   "execution_count": 43,
   "id": "e0e280e4-4164-4cab-a6c5-ca6ed0c36496",
   "metadata": {},
   "outputs": [
    {
     "data": {
      "image/png": "[encoded data removed]",
      "text/plain": [
       "<Figure size 1152x576 with 2 Axes>"
      ]
     },
     "metadata": {
      "needs_background": "light"
     },
     "output_type": "display_data"
    }
   ],
   "source": [
    "#Try normalising the cycling data?\n",
    "#Applying a log function to the data\n",
    "cycletowork[\"log_cyclingrate\"] = np.log(cycletowork[\"cycling_rate\"])\n",
    "\n",
    "#Recreate plots with log values\n",
    "fig, (ax1, ax2) = plt.subplots(1, 2, figsize=(16,8))\n",
    "ax1.boxplot(cycletowork.log_cyclingrate,\n",
    "           vert = True)\n",
    "ax1.set_title(\"Boxplot of log of cycling rate in MSOA\")\n",
    "ax2.hist(cycletowork.log_cyclingrate,\n",
    "        bins = 100)\n",
    "ax2.set_title(\"Histogram of log of cycling rate in MSOA\")\n",
    "plt.show()"
   ]
  },
  {
   "cell_type": "markdown",
   "id": "df67632e-6fe0-40e7-ac43-ff20d1b6445c",
   "metadata": {
    "tags": []
   },
   "source": [
    "### 3.2. Deprivation"
   ]
  },
  {
   "cell_type": "code",
   "execution_count": 44,
   "id": "5dba9647-01eb-41d7-8f5c-b57fb6e680e8",
   "metadata": {},
   "outputs": [
    {
     "data": {
      "text/html": [
       "<div>\n",
       "<style scoped>\n",
       "    .dataframe tbody tr th:only-of-type {\n",
       "        vertical-align: middle;\n",
       "    }\n",
       "\n",
       "    .dataframe tbody tr th {\n",
       "        vertical-align: top;\n",
       "    }\n",
       "\n",
       "    .dataframe thead th {\n",
       "        text-align: right;\n",
       "    }\n",
       "</style>\n",
       "<table border=\"1\" class=\"dataframe\">\n",
       "  <thead>\n",
       "    <tr style=\"text-align: right;\">\n",
       "      <th></th>\n",
       "      <th>date</th>\n",
       "      <th>hhdep_all</th>\n",
       "      <th>hhdep0</th>\n",
       "      <th>hhdep1</th>\n",
       "      <th>hhdep2</th>\n",
       "      <th>hhdep3</th>\n",
       "      <th>hhdep4</th>\n",
       "    </tr>\n",
       "  </thead>\n",
       "  <tbody>\n",
       "    <tr>\n",
       "      <th>count</th>\n",
       "      <td>25053.0</td>\n",
       "      <td>25053.000000</td>\n",
       "      <td>25053.000000</td>\n",
       "      <td>25053.000000</td>\n",
       "      <td>25053.000000</td>\n",
       "      <td>25053.000000</td>\n",
       "      <td>25053.000000</td>\n",
       "    </tr>\n",
       "    <tr>\n",
       "      <th>mean</th>\n",
       "      <td>2011.0</td>\n",
       "      <td>130.370534</td>\n",
       "      <td>51.389375</td>\n",
       "      <td>44.623877</td>\n",
       "      <td>25.020596</td>\n",
       "      <td>8.156508</td>\n",
       "      <td>1.180178</td>\n",
       "    </tr>\n",
       "    <tr>\n",
       "      <th>std</th>\n",
       "      <td>0.0</td>\n",
       "      <td>26.055859</td>\n",
       "      <td>20.982224</td>\n",
       "      <td>13.801825</td>\n",
       "      <td>11.864124</td>\n",
       "      <td>6.439494</td>\n",
       "      <td>1.637989</td>\n",
       "    </tr>\n",
       "    <tr>\n",
       "      <th>min</th>\n",
       "      <td>2011.0</td>\n",
       "      <td>40.000000</td>\n",
       "      <td>1.000000</td>\n",
       "      <td>6.000000</td>\n",
       "      <td>0.000000</td>\n",
       "      <td>0.000000</td>\n",
       "      <td>0.000000</td>\n",
       "    </tr>\n",
       "    <tr>\n",
       "      <th>25%</th>\n",
       "      <td>2011.0</td>\n",
       "      <td>116.000000</td>\n",
       "      <td>35.000000</td>\n",
       "      <td>36.000000</td>\n",
       "      <td>16.000000</td>\n",
       "      <td>3.000000</td>\n",
       "      <td>0.000000</td>\n",
       "    </tr>\n",
       "    <tr>\n",
       "      <th>50%</th>\n",
       "      <td>2011.0</td>\n",
       "      <td>127.000000</td>\n",
       "      <td>50.000000</td>\n",
       "      <td>43.000000</td>\n",
       "      <td>24.000000</td>\n",
       "      <td>7.000000</td>\n",
       "      <td>1.000000</td>\n",
       "    </tr>\n",
       "    <tr>\n",
       "      <th>75%</th>\n",
       "      <td>2011.0</td>\n",
       "      <td>140.000000</td>\n",
       "      <td>66.000000</td>\n",
       "      <td>51.000000</td>\n",
       "      <td>33.000000</td>\n",
       "      <td>12.000000</td>\n",
       "      <td>2.000000</td>\n",
       "    </tr>\n",
       "    <tr>\n",
       "      <th>max</th>\n",
       "      <td>2011.0</td>\n",
       "      <td>471.000000</td>\n",
       "      <td>201.000000</td>\n",
       "      <td>294.000000</td>\n",
       "      <td>111.000000</td>\n",
       "      <td>71.000000</td>\n",
       "      <td>30.000000</td>\n",
       "    </tr>\n",
       "  </tbody>\n",
       "</table>\n",
       "</div>"
      ],
      "text/plain": [
       "          date     hhdep_all        hhdep0        hhdep1        hhdep2  \\\n",
       "count  25053.0  25053.000000  25053.000000  25053.000000  25053.000000   \n",
       "mean    2011.0    130.370534     51.389375     44.623877     25.020596   \n",
       "std        0.0     26.055859     20.982224     13.801825     11.864124   \n",
       "min     2011.0     40.000000      1.000000      6.000000      0.000000   \n",
       "25%     2011.0    116.000000     35.000000     36.000000     16.000000   \n",
       "50%     2011.0    127.000000     50.000000     43.000000     24.000000   \n",
       "75%     2011.0    140.000000     66.000000     51.000000     33.000000   \n",
       "max     2011.0    471.000000    201.000000    294.000000    111.000000   \n",
       "\n",
       "             hhdep3        hhdep4  \n",
       "count  25053.000000  25053.000000  \n",
       "mean       8.156508      1.180178  \n",
       "std        6.439494      1.637989  \n",
       "min        0.000000      0.000000  \n",
       "25%        3.000000      0.000000  \n",
       "50%        7.000000      1.000000  \n",
       "75%       12.000000      2.000000  \n",
       "max       71.000000     30.000000  "
      ]
     },
     "execution_count": 44,
     "metadata": {},
     "output_type": "execute_result"
    }
   ],
   "source": [
    "deprivation.describe()"
   ]
  },
  {
   "cell_type": "code",
   "execution_count": 45,
   "id": "09519040-b023-41ff-961a-290324aca38a",
   "metadata": {},
   "outputs": [
    {
     "data": {
      "image/png": "[encoded data removed]",
      "text/plain": [
       "<Figure size 1152x576 with 6 Axes>"
      ]
     },
     "metadata": {
      "needs_background": "light"
     },
     "output_type": "display_data"
    }
   ],
   "source": [
    "# Distribution plots for household deprivation measures\n",
    "fig, axs = plt.subplots(2, 3, figsize=(16,8))\n",
    "\n",
    "#Could probably do this in a loop somehow...\n",
    "axs[0,0].hist(deprivation.hhdep0,\n",
    "        bins = 100)\n",
    "axs[0,1].hist(deprivation.hhdep1,\n",
    "        bins = 100)\n",
    "axs[0,2].hist(deprivation.hhdep2,\n",
    "        bins = 100)\n",
    "axs[1,0].hist(deprivation.hhdep3,\n",
    "        bins = 100)\n",
    "axs[1,1].hist(deprivation.hhdep4,\n",
    "        bins = 100)\n",
    "axs[1,2].hist(deprivation.hhdep_all,\n",
    "        bins = 100)\n",
    "\n",
    "plt.show()"
   ]
  },
  {
   "cell_type": "markdown",
   "id": "df92a5bb-17bf-44de-b9f1-e0412780e609",
   "metadata": {},
   "source": [
    "Some weird distributions once you get to 3&4 deprived measures... not sure how best to handle this?"
   ]
  },
  {
   "cell_type": "markdown",
   "id": "a9830ac0-cae7-490d-bb72-90629ac05b6d",
   "metadata": {
    "tags": []
   },
   "source": [
    "### 3.3. Air Quality - Zach"
   ]
  },
  {
   "cell_type": "code",
   "execution_count": 46,
   "id": "0f8222c6-70e5-4aab-aacc-70ed9541496e",
   "metadata": {},
   "outputs": [
    {
     "data": {
      "text/html": [
       "<div>\n",
       "<style scoped>\n",
       "    .dataframe tbody tr th:only-of-type {\n",
       "        vertical-align: middle;\n",
       "    }\n",
       "\n",
       "    .dataframe tbody tr th {\n",
       "        vertical-align: top;\n",
       "    }\n",
       "\n",
       "    .dataframe thead th {\n",
       "        text-align: right;\n",
       "    }\n",
       "</style>\n",
       "<table border=\"1\" class=\"dataframe\">\n",
       "  <thead>\n",
       "    <tr style=\"text-align: right;\">\n",
       "      <th></th>\n",
       "      <th>PM252013me</th>\n",
       "    </tr>\n",
       "  </thead>\n",
       "  <tbody>\n",
       "    <tr>\n",
       "      <th>count</th>\n",
       "      <td>25946.000000</td>\n",
       "    </tr>\n",
       "    <tr>\n",
       "      <th>mean</th>\n",
       "      <td>16.001274</td>\n",
       "    </tr>\n",
       "    <tr>\n",
       "      <th>std</th>\n",
       "      <td>0.788874</td>\n",
       "    </tr>\n",
       "    <tr>\n",
       "      <th>min</th>\n",
       "      <td>14.283266</td>\n",
       "    </tr>\n",
       "    <tr>\n",
       "      <th>25%</th>\n",
       "      <td>15.417784</td>\n",
       "    </tr>\n",
       "    <tr>\n",
       "      <th>50%</th>\n",
       "      <td>15.873302</td>\n",
       "    </tr>\n",
       "    <tr>\n",
       "      <th>75%</th>\n",
       "      <td>16.464573</td>\n",
       "    </tr>\n",
       "    <tr>\n",
       "      <th>max</th>\n",
       "      <td>21.100099</td>\n",
       "    </tr>\n",
       "  </tbody>\n",
       "</table>\n",
       "</div>"
      ],
      "text/plain": [
       "         PM252013me\n",
       "count  25946.000000\n",
       "mean      16.001274\n",
       "std        0.788874\n",
       "min       14.283266\n",
       "25%       15.417784\n",
       "50%       15.873302\n",
       "75%       16.464573\n",
       "max       21.100099"
      ]
     },
     "execution_count": 46,
     "metadata": {},
     "output_type": "execute_result"
    }
   ],
   "source": [
    "aq_df.describe()"
   ]
  },
  {
   "cell_type": "code",
   "execution_count": 47,
   "id": "71bdb5fe-091c-421a-83f2-000cfa0d7069",
   "metadata": {},
   "outputs": [
    {
     "data": {
      "image/png": "[encoded data removed]",
      "text/plain": [
       "<Figure size 720x576 with 1 Axes>"
      ]
     },
     "metadata": {
      "needs_background": "light"
     },
     "output_type": "display_data"
    }
   ],
   "source": [
    "fig, ax = plt.subplots(1, figsize=(10,8))\n",
    "sns.kdeplot(aq_df[\"PM252013me\"], ax=ax, color=\"black\", shade=True)\n",
    "plt.xlabel(\"PM\\u2082.\\u2085\")\n",
    "plt.vlines(aq_df[\"PM252013me\"].mean(), 0, 0.65, linestyle=\"--\", color=\"black\", label=\"Mean\")\n",
    "plt.vlines(aq_df[\"PM252013me\"].median(), 0, 0.65, linestyle=\"-.\", color=\"black\", label=\"Median\")\n",
    "plt.legend(title=\"Legend\")\n",
    "plt.title(\"Distribtuion of PM\\u2082.\\u2085 concentration\")\n",
    "plt.ylim(0,0.60)\n",
    "plt.savefig(\"figures/aq_kdeplot.png\", dpi=300, facecolor=\"white\", bbox_inches=\"tight\")\n",
    "plt.show()"
   ]
  },
  {
   "cell_type": "markdown",
   "id": "bc2c7c51-7df5-4a62-ad0d-0f386c39cf1a",
   "metadata": {},
   "source": [
    "Data appears to be positvely skewed. Would applying a log fix it?"
   ]
  },
  {
   "cell_type": "code",
   "execution_count": 48,
   "id": "34a3e596-a512-4c85-80b3-32568c2e0743",
   "metadata": {},
   "outputs": [],
   "source": [
    "aq_df[\"dif_mean\"] = aq_df[\"PM252013me\"] - aq_df[\"PM252013me\"].mean()"
   ]
  },
  {
   "cell_type": "code",
   "execution_count": 49,
   "id": "38be52d6-6c56-4a68-8f00-e8bb92c3e519",
   "metadata": {},
   "outputs": [],
   "source": [
    "aq_df[\"dif_mean_and_std\"] = aq_df[\"dif_mean\"] / aq_df[\"PM252013me\"].std()"
   ]
  },
  {
   "cell_type": "code",
   "execution_count": 50,
   "id": "e33881b9-b637-4644-a327-db00ed898357",
   "metadata": {},
   "outputs": [],
   "source": [
    "#Applying a log function to the data\n",
    "aq_df[\"PMlog\"] = np.log(aq_df[\"PM252013me\"])"
   ]
  },
  {
   "cell_type": "markdown",
   "id": "5346e3e9-f3fc-4f4c-b324-9fe844ac814a",
   "metadata": {},
   "source": [
    "None of which normalise the data"
   ]
  },
  {
   "cell_type": "markdown",
   "id": "e8c60ae7-837b-4825-a755-89fece3ae4cf",
   "metadata": {},
   "source": [
    "### 3.4. Cycle Sharing - "
   ]
  },
  {
   "cell_type": "markdown",
   "id": "b73f08c2-9578-495f-89d3-a558a132ea09",
   "metadata": {},
   "source": [
    "## 4. Appropriate plots to communicate distribution"
   ]
  },
  {
   "cell_type": "markdown",
   "id": "249cf664-959f-4a15-af6e-04ff92a51047",
   "metadata": {},
   "source": [
    "### 4.0. Merging of data"
   ]
  },
  {
   "cell_type": "code",
   "execution_count": 51,
   "id": "9e882052-9a43-4a10-9ae1-881b91ede0f2",
   "metadata": {},
   "outputs": [],
   "source": [
    "#Import correspondence file\n",
    "oa_to_msoa = pd.read_csv(\"data/msoa/oa_to_msoa_correspondence.csv\")\n",
    "# oa_to_msoa.dtypes"
   ]
  },
  {
   "cell_type": "code",
   "execution_count": 52,
   "id": "06d27534-6c92-48f9-a0cd-16abec4f0721",
   "metadata": {},
   "outputs": [
    {
     "data": {
      "text/plain": [
       "(25053, 27)"
      ]
     },
     "execution_count": 52,
     "metadata": {},
     "output_type": "execute_result"
    }
   ],
   "source": [
    "#Merge deprivation dataset to OA/MSOA correspondence file\n",
    "dep_msoa = deprivation.merge(oa_to_msoa, how='left', left_on='oa_code', right_on='OA11CD')\n",
    "dep_msoa.shape"
   ]
  },
  {
   "cell_type": "code",
   "execution_count": 53,
   "id": "4cc6e725-cf34-4b97-ad90-33b78e134f0c",
   "metadata": {},
   "outputs": [
    {
     "data": {
      "text/plain": [
       "(983, 13)"
      ]
     },
     "execution_count": 53,
     "metadata": {},
     "output_type": "execute_result"
    }
   ],
   "source": [
    "#Summarise deprivation statistics by MSOA\n",
    "dep_sum = dep_msoa.groupby(['MSOA11CD', 'MSOA11NM']).agg(\n",
    "    {\n",
    "       'hhdep_all':sum,\n",
    "       'hhdep0':sum,\n",
    "       'hhdep1':sum,\n",
    "       'hhdep2':sum,\n",
    "       'hhdep3':sum,\n",
    "       'hhdep4':sum,\n",
    "    }\n",
    ")\n",
    "\n",
    "\n",
    "#Add proportion caclulated columns (rate of deprived households amongst total household count)\n",
    "dep_sum['hhdep0_rate'] = dep_sum['hhdep0']/dep_sum['hhdep_all']\n",
    "dep_sum['hhdep1_rate'] = dep_sum['hhdep1']/dep_sum['hhdep_all']\n",
    "dep_sum['hhdep2_rate'] = dep_sum['hhdep2']/dep_sum['hhdep_all']\n",
    "dep_sum['hhdep3_rate'] = dep_sum['hhdep3']/dep_sum['hhdep_all']\n",
    "dep_sum['hhdep4_rate'] = dep_sum['hhdep4']/dep_sum['hhdep_all']\n",
    "\n",
    "dep_sum = dep_sum.reset_index(level=[0,1])\n",
    "\n",
    "dep_sum.shape"
   ]
  },
  {
   "cell_type": "code",
   "execution_count": 54,
   "id": "bbcac30f-2457-4b8e-bc90-18ea7eff3db7",
   "metadata": {},
   "outputs": [
    {
     "data": {
      "text/plain": [
       "(25946, 22)"
      ]
     },
     "execution_count": 54,
     "metadata": {},
     "output_type": "execute_result"
    }
   ],
   "source": [
    "#Merge air quality datset to OA/MSOA correspondence file\n",
    "aq_msoa = aq_df.merge(oa_to_msoa, how='left', on='OA11CD')\n",
    "aq_msoa.shape"
   ]
  },
  {
   "cell_type": "code",
   "execution_count": 55,
   "id": "fba824d0-19ac-426d-b3da-cec2cee8985d",
   "metadata": {},
   "outputs": [
    {
     "data": {
      "text/plain": [
       "(983, 3)"
      ]
     },
     "execution_count": 55,
     "metadata": {},
     "output_type": "execute_result"
    }
   ],
   "source": [
    "#Summarise air quality statistics by MSOA\n",
    "aq_sum = aq_msoa.groupby(['MSOA11CD', 'MSOA11NM'])['PM252013me'].mean()\n",
    "aq_sum = aq_sum.reset_index(level=[0,1])\n",
    "aq_sum.shape"
   ]
  },
  {
   "cell_type": "code",
   "execution_count": 56,
   "id": "6b393bfd-efae-4bd8-85c8-caee7e56a087",
   "metadata": {},
   "outputs": [],
   "source": [
    "#Summarise distance to work by MSOA\n",
    "distance_msoa = distance.merge(oa_to_msoa, how=\"left\", left_on = \"2011 output area\", right_on=\"OA11CD\").groupby('MSOA11CD')['distance'].mean().reset_index()"
   ]
  },
  {
   "cell_type": "markdown",
   "id": "46284116-8897-44b7-9415-4287713cb335",
   "metadata": {},
   "source": [
    "* Merge the three datasets together by MSOA Code"
   ]
  },
  {
   "cell_type": "code",
   "execution_count": 57,
   "id": "9e873872-f0c2-4952-8520-7c2b2d8688e6",
   "metadata": {},
   "outputs": [],
   "source": [
    "# Comment out this cell to use MSOA cycling data loaded above\n",
    "\n",
    "# cycletowork = pd.read_csv(\"data/oa/cycleing_to_work_oa.csv\")\n",
    "\n",
    "#Merging the cycle to work data to deprivation data to form a main dataframe\n",
    "# df = cycletowork.merge(deprivation, how=\"left\", on=\"geography code\")"
   ]
  },
  {
   "cell_type": "code",
   "execution_count": 58,
   "id": "90d9f09c-e51a-41d4-9496-03b6673965b4",
   "metadata": {},
   "outputs": [],
   "source": [
    "# Add the cycling dataset to the deprivation\n",
    "df = dep_sum.merge(cycletowork, how = \"left\", left_on=\"MSOA11CD\", right_on=\"msoa_code\")"
   ]
  },
  {
   "cell_type": "code",
   "execution_count": 59,
   "id": "36223b27-645b-4377-8f07-e3e5b65dbb20",
   "metadata": {
    "tags": []
   },
   "outputs": [],
   "source": [
    "#Adding the air quality data to the main dataframe\n",
    "df = df.merge(aq_sum, how = \"left\", on=\"MSOA11CD\")"
   ]
  },
  {
   "cell_type": "code",
   "execution_count": 60,
   "id": "f66bb2dd-e927-4e5d-bd44-03b456b09b37",
   "metadata": {},
   "outputs": [],
   "source": [
    "df = df.merge(distance_msoa, how=\"left\", on = \"MSOA11CD\")"
   ]
  },
  {
   "cell_type": "code",
   "execution_count": 61,
   "id": "58098ff0-8614-4fe2-957b-6d2f74e955da",
   "metadata": {},
   "outputs": [
    {
     "data": {
      "text/plain": [
       "(983, 22)"
      ]
     },
     "execution_count": 61,
     "metadata": {},
     "output_type": "execute_result"
    }
   ],
   "source": [
    "df.shape"
   ]
  },
  {
   "cell_type": "code",
   "execution_count": 62,
   "id": "a11dc3d3-8b42-4aee-b2c4-921fcdbd4def",
   "metadata": {},
   "outputs": [
    {
     "data": {
      "text/html": [
       "<div>\n",
       "<style scoped>\n",
       "    .dataframe tbody tr th:only-of-type {\n",
       "        vertical-align: middle;\n",
       "    }\n",
       "\n",
       "    .dataframe tbody tr th {\n",
       "        vertical-align: top;\n",
       "    }\n",
       "\n",
       "    .dataframe thead th {\n",
       "        text-align: right;\n",
       "    }\n",
       "</style>\n",
       "<table border=\"1\" class=\"dataframe\">\n",
       "  <thead>\n",
       "    <tr style=\"text-align: right;\">\n",
       "      <th></th>\n",
       "      <th>Column Name</th>\n",
       "      <th>Quantity of NAs</th>\n",
       "    </tr>\n",
       "  </thead>\n",
       "  <tbody>\n",
       "    <tr>\n",
       "      <th>0</th>\n",
       "      <td>MSOA11CD</td>\n",
       "      <td>0</td>\n",
       "    </tr>\n",
       "    <tr>\n",
       "      <th>1</th>\n",
       "      <td>MSOA11NM_x</td>\n",
       "      <td>0</td>\n",
       "    </tr>\n",
       "    <tr>\n",
       "      <th>2</th>\n",
       "      <td>hhdep_all</td>\n",
       "      <td>0</td>\n",
       "    </tr>\n",
       "    <tr>\n",
       "      <th>3</th>\n",
       "      <td>hhdep0</td>\n",
       "      <td>0</td>\n",
       "    </tr>\n",
       "    <tr>\n",
       "      <th>4</th>\n",
       "      <td>hhdep1</td>\n",
       "      <td>0</td>\n",
       "    </tr>\n",
       "    <tr>\n",
       "      <th>5</th>\n",
       "      <td>hhdep2</td>\n",
       "      <td>0</td>\n",
       "    </tr>\n",
       "    <tr>\n",
       "      <th>6</th>\n",
       "      <td>hhdep3</td>\n",
       "      <td>0</td>\n",
       "    </tr>\n",
       "    <tr>\n",
       "      <th>7</th>\n",
       "      <td>hhdep4</td>\n",
       "      <td>0</td>\n",
       "    </tr>\n",
       "    <tr>\n",
       "      <th>8</th>\n",
       "      <td>hhdep0_rate</td>\n",
       "      <td>0</td>\n",
       "    </tr>\n",
       "    <tr>\n",
       "      <th>9</th>\n",
       "      <td>hhdep1_rate</td>\n",
       "      <td>0</td>\n",
       "    </tr>\n",
       "    <tr>\n",
       "      <th>10</th>\n",
       "      <td>hhdep2_rate</td>\n",
       "      <td>0</td>\n",
       "    </tr>\n",
       "    <tr>\n",
       "      <th>11</th>\n",
       "      <td>hhdep3_rate</td>\n",
       "      <td>0</td>\n",
       "    </tr>\n",
       "    <tr>\n",
       "      <th>12</th>\n",
       "      <td>hhdep4_rate</td>\n",
       "      <td>0</td>\n",
       "    </tr>\n",
       "    <tr>\n",
       "      <th>13</th>\n",
       "      <td>year</td>\n",
       "      <td>0</td>\n",
       "    </tr>\n",
       "    <tr>\n",
       "      <th>14</th>\n",
       "      <td>msoa_code</td>\n",
       "      <td>0</td>\n",
       "    </tr>\n",
       "    <tr>\n",
       "      <th>15</th>\n",
       "      <td>cycling_count</td>\n",
       "      <td>0</td>\n",
       "    </tr>\n",
       "    <tr>\n",
       "      <th>16</th>\n",
       "      <td>total_count</td>\n",
       "      <td>0</td>\n",
       "    </tr>\n",
       "    <tr>\n",
       "      <th>17</th>\n",
       "      <td>cycling_rate</td>\n",
       "      <td>0</td>\n",
       "    </tr>\n",
       "    <tr>\n",
       "      <th>18</th>\n",
       "      <td>log_cyclingrate</td>\n",
       "      <td>0</td>\n",
       "    </tr>\n",
       "    <tr>\n",
       "      <th>19</th>\n",
       "      <td>MSOA11NM_y</td>\n",
       "      <td>0</td>\n",
       "    </tr>\n",
       "    <tr>\n",
       "      <th>20</th>\n",
       "      <td>PM252013me</td>\n",
       "      <td>0</td>\n",
       "    </tr>\n",
       "    <tr>\n",
       "      <th>21</th>\n",
       "      <td>distance</td>\n",
       "      <td>0</td>\n",
       "    </tr>\n",
       "  </tbody>\n",
       "</table>\n",
       "</div>"
      ],
      "text/plain": [
       "        Column Name  Quantity of NAs\n",
       "0          MSOA11CD                0\n",
       "1        MSOA11NM_x                0\n",
       "2         hhdep_all                0\n",
       "3            hhdep0                0\n",
       "4            hhdep1                0\n",
       "5            hhdep2                0\n",
       "6            hhdep3                0\n",
       "7            hhdep4                0\n",
       "8       hhdep0_rate                0\n",
       "9       hhdep1_rate                0\n",
       "10      hhdep2_rate                0\n",
       "11      hhdep3_rate                0\n",
       "12      hhdep4_rate                0\n",
       "13             year                0\n",
       "14        msoa_code                0\n",
       "15    cycling_count                0\n",
       "16      total_count                0\n",
       "17     cycling_rate                0\n",
       "18  log_cyclingrate                0\n",
       "19       MSOA11NM_y                0\n",
       "20       PM252013me                0\n",
       "21         distance                0"
      ]
     },
     "execution_count": 62,
     "metadata": {},
     "output_type": "execute_result"
    }
   ],
   "source": [
    "#Identifying any NA values\n",
    "df.isna().sum().reset_index().rename(columns={\"index\":\"Column Name\", 0:\"Quantity of NAs\"})"
   ]
  },
  {
   "cell_type": "markdown",
   "id": "8e29bfd7-5ac3-4f87-8a96-ac95ffa630eb",
   "metadata": {},
   "source": [
    "No NA values present within the dataset"
   ]
  },
  {
   "cell_type": "code",
   "execution_count": 63,
   "id": "f9027dd5-852a-408a-803a-9a3ca38f1eac",
   "metadata": {},
   "outputs": [],
   "source": [
    "#Removing any duplicated rows.\n",
    "df = df.drop_duplicates(keep=\"first\")"
   ]
  },
  {
   "cell_type": "code",
   "execution_count": 64,
   "id": "452f4d22-ed8a-4363-9a5b-15b4f9b0c9e5",
   "metadata": {},
   "outputs": [
    {
     "data": {
      "text/html": [
       "<div>\n",
       "<style scoped>\n",
       "    .dataframe tbody tr th:only-of-type {\n",
       "        vertical-align: middle;\n",
       "    }\n",
       "\n",
       "    .dataframe tbody tr th {\n",
       "        vertical-align: top;\n",
       "    }\n",
       "\n",
       "    .dataframe thead th {\n",
       "        text-align: right;\n",
       "    }\n",
       "</style>\n",
       "<table border=\"1\" class=\"dataframe\">\n",
       "  <thead>\n",
       "    <tr style=\"text-align: right;\">\n",
       "      <th></th>\n",
       "      <th>MSOA11CD</th>\n",
       "      <th>MSOA11NM_x</th>\n",
       "      <th>hhdep_all</th>\n",
       "      <th>hhdep0</th>\n",
       "      <th>hhdep1</th>\n",
       "      <th>hhdep2</th>\n",
       "      <th>hhdep3</th>\n",
       "      <th>hhdep4</th>\n",
       "      <th>hhdep0_rate</th>\n",
       "      <th>hhdep1_rate</th>\n",
       "      <th>...</th>\n",
       "      <th>hhdep4_rate</th>\n",
       "      <th>year</th>\n",
       "      <th>msoa_code</th>\n",
       "      <th>cycling_count</th>\n",
       "      <th>total_count</th>\n",
       "      <th>cycling_rate</th>\n",
       "      <th>log_cyclingrate</th>\n",
       "      <th>MSOA11NM_y</th>\n",
       "      <th>PM252013me</th>\n",
       "      <th>distance</th>\n",
       "    </tr>\n",
       "  </thead>\n",
       "  <tbody>\n",
       "    <tr>\n",
       "      <th>0</th>\n",
       "      <td>E02000001</td>\n",
       "      <td>City of London 001</td>\n",
       "      <td>4385</td>\n",
       "      <td>1973</td>\n",
       "      <td>1772</td>\n",
       "      <td>499</td>\n",
       "      <td>122</td>\n",
       "      <td>19</td>\n",
       "      <td>0.449943</td>\n",
       "      <td>0.404105</td>\n",
       "      <td>...</td>\n",
       "      <td>0.004333</td>\n",
       "      <td>2011</td>\n",
       "      <td>E02000001</td>\n",
       "      <td>252</td>\n",
       "      <td>6307</td>\n",
       "      <td>0.039956</td>\n",
       "      <td>-3.219986</td>\n",
       "      <td>City of London 001</td>\n",
       "      <td>18.191034</td>\n",
       "      <td>6.958065</td>\n",
       "    </tr>\n",
       "    <tr>\n",
       "      <th>1</th>\n",
       "      <td>E02000002</td>\n",
       "      <td>Barking and Dagenham 001</td>\n",
       "      <td>2713</td>\n",
       "      <td>734</td>\n",
       "      <td>916</td>\n",
       "      <td>824</td>\n",
       "      <td>217</td>\n",
       "      <td>22</td>\n",
       "      <td>0.270549</td>\n",
       "      <td>0.337634</td>\n",
       "      <td>...</td>\n",
       "      <td>0.008109</td>\n",
       "      <td>2011</td>\n",
       "      <td>E02000002</td>\n",
       "      <td>34</td>\n",
       "      <td>4360</td>\n",
       "      <td>0.007798</td>\n",
       "      <td>-4.853867</td>\n",
       "      <td>Barking and Dagenham 001</td>\n",
       "      <td>15.233410</td>\n",
       "      <td>14.595455</td>\n",
       "    </tr>\n",
       "    <tr>\n",
       "      <th>2</th>\n",
       "      <td>E02000003</td>\n",
       "      <td>Barking and Dagenham 002</td>\n",
       "      <td>3834</td>\n",
       "      <td>1335</td>\n",
       "      <td>1352</td>\n",
       "      <td>887</td>\n",
       "      <td>236</td>\n",
       "      <td>24</td>\n",
       "      <td>0.348200</td>\n",
       "      <td>0.352634</td>\n",
       "      <td>...</td>\n",
       "      <td>0.006260</td>\n",
       "      <td>2011</td>\n",
       "      <td>E02000003</td>\n",
       "      <td>42</td>\n",
       "      <td>7149</td>\n",
       "      <td>0.005875</td>\n",
       "      <td>-5.137058</td>\n",
       "      <td>Barking and Dagenham 002</td>\n",
       "      <td>15.370681</td>\n",
       "      <td>13.853333</td>\n",
       "    </tr>\n",
       "  </tbody>\n",
       "</table>\n",
       "<p>3 rows × 22 columns</p>\n",
       "</div>"
      ],
      "text/plain": [
       "    MSOA11CD                MSOA11NM_x  hhdep_all  hhdep0  hhdep1  hhdep2  \\\n",
       "0  E02000001        City of London 001       4385    1973    1772     499   \n",
       "1  E02000002  Barking and Dagenham 001       2713     734     916     824   \n",
       "2  E02000003  Barking and Dagenham 002       3834    1335    1352     887   \n",
       "\n",
       "   hhdep3  hhdep4  hhdep0_rate  hhdep1_rate  ...  hhdep4_rate  year  \\\n",
       "0     122      19     0.449943     0.404105  ...     0.004333  2011   \n",
       "1     217      22     0.270549     0.337634  ...     0.008109  2011   \n",
       "2     236      24     0.348200     0.352634  ...     0.006260  2011   \n",
       "\n",
       "   msoa_code  cycling_count total_count  cycling_rate  log_cyclingrate  \\\n",
       "0  E02000001            252        6307      0.039956        -3.219986   \n",
       "1  E02000002             34        4360      0.007798        -4.853867   \n",
       "2  E02000003             42        7149      0.005875        -5.137058   \n",
       "\n",
       "                 MSOA11NM_y  PM252013me   distance  \n",
       "0        City of London 001   18.191034   6.958065  \n",
       "1  Barking and Dagenham 001   15.233410  14.595455  \n",
       "2  Barking and Dagenham 002   15.370681  13.853333  \n",
       "\n",
       "[3 rows x 22 columns]"
      ]
     },
     "execution_count": 64,
     "metadata": {},
     "output_type": "execute_result"
    }
   ],
   "source": [
    "df.head(3)"
   ]
  },
  {
   "cell_type": "markdown",
   "id": "341153c8-9d1e-4e7a-bdc7-8dca183f90ce",
   "metadata": {},
   "source": [
    "###"
   ]
  },
  {
   "cell_type": "code",
   "execution_count": 65,
   "id": "be5f264e-c1aa-49fb-b977-6ec604394ff2",
   "metadata": {},
   "outputs": [],
   "source": [
    "new = demographic.merge(house_price, how = \"left\", left_on=\"code\", right_on=\"code\")\n",
    "new1 = new.merge(road_casualty, how = \"left\", left_on=\"code\", right_on=\"code\")\n",
    "new2 = new1.merge(car_own, how = \"left\", left_on=\"code\", right_on=\"code\")\n",
    "new3 = new2.merge(house_own, how = \"left\", left_on=\"code\", right_on=\"code\")"
   ]
  },
  {
   "cell_type": "code",
   "execution_count": 66,
   "id": "3c930c56-2198-48bf-a0eb-1270abc181d9",
   "metadata": {},
   "outputs": [
    {
     "data": {
      "text/html": [
       "<div>\n",
       "<style scoped>\n",
       "    .dataframe tbody tr th:only-of-type {\n",
       "        vertical-align: middle;\n",
       "    }\n",
       "\n",
       "    .dataframe tbody tr th {\n",
       "        vertical-align: top;\n",
       "    }\n",
       "\n",
       "    .dataframe thead th {\n",
       "        text-align: right;\n",
       "    }\n",
       "</style>\n",
       "<table border=\"1\" class=\"dataframe\">\n",
       "  <thead>\n",
       "    <tr style=\"text-align: right;\">\n",
       "      <th></th>\n",
       "      <th>code</th>\n",
       "      <th>name</th>\n",
       "      <th>White</th>\n",
       "      <th>mixed</th>\n",
       "      <th>asian</th>\n",
       "      <th>black</th>\n",
       "      <th>other_ethic</th>\n",
       "      <th>male_prop</th>\n",
       "      <th>female_prop</th>\n",
       "      <th>under_18</th>\n",
       "      <th>...</th>\n",
       "      <th>hhdep4_rate</th>\n",
       "      <th>year</th>\n",
       "      <th>msoa_code</th>\n",
       "      <th>cycling_count</th>\n",
       "      <th>total_count</th>\n",
       "      <th>cycling_rate</th>\n",
       "      <th>log_cyclingrate</th>\n",
       "      <th>MSOA11NM_y</th>\n",
       "      <th>PM252013me</th>\n",
       "      <th>distance</th>\n",
       "    </tr>\n",
       "  </thead>\n",
       "  <tbody>\n",
       "    <tr>\n",
       "      <th>0</th>\n",
       "      <td>E02000166</td>\n",
       "      <td>Camden 001</td>\n",
       "      <td>0.794</td>\n",
       "      <td>0.064</td>\n",
       "      <td>0.058</td>\n",
       "      <td>0.057</td>\n",
       "      <td>0.027</td>\n",
       "      <td>0.465548</td>\n",
       "      <td>0.534452</td>\n",
       "      <td>0.195</td>\n",
       "      <td>...</td>\n",
       "      <td>0.010178</td>\n",
       "      <td>2011</td>\n",
       "      <td>E02000166</td>\n",
       "      <td>417</td>\n",
       "      <td>6020</td>\n",
       "      <td>0.069269</td>\n",
       "      <td>-2.669756</td>\n",
       "      <td>Camden 001</td>\n",
       "      <td>16.129558</td>\n",
       "      <td>9.239286</td>\n",
       "    </tr>\n",
       "    <tr>\n",
       "      <th>1</th>\n",
       "      <td>E02000167</td>\n",
       "      <td>Camden 002</td>\n",
       "      <td>0.848</td>\n",
       "      <td>0.047</td>\n",
       "      <td>0.067</td>\n",
       "      <td>0.019</td>\n",
       "      <td>0.019</td>\n",
       "      <td>0.488419</td>\n",
       "      <td>0.511581</td>\n",
       "      <td>0.191</td>\n",
       "      <td>...</td>\n",
       "      <td>0.003307</td>\n",
       "      <td>2011</td>\n",
       "      <td>E02000167</td>\n",
       "      <td>201</td>\n",
       "      <td>5885</td>\n",
       "      <td>0.034155</td>\n",
       "      <td>-3.376857</td>\n",
       "      <td>Camden 002</td>\n",
       "      <td>16.219346</td>\n",
       "      <td>9.863333</td>\n",
       "    </tr>\n",
       "    <tr>\n",
       "      <th>2</th>\n",
       "      <td>E02000168</td>\n",
       "      <td>Camden 003</td>\n",
       "      <td>0.782</td>\n",
       "      <td>0.066</td>\n",
       "      <td>0.072</td>\n",
       "      <td>0.057</td>\n",
       "      <td>0.024</td>\n",
       "      <td>0.480666</td>\n",
       "      <td>0.519334</td>\n",
       "      <td>0.187</td>\n",
       "      <td>...</td>\n",
       "      <td>0.012447</td>\n",
       "      <td>2011</td>\n",
       "      <td>E02000168</td>\n",
       "      <td>543</td>\n",
       "      <td>6371</td>\n",
       "      <td>0.085230</td>\n",
       "      <td>-2.462402</td>\n",
       "      <td>Camden 003</td>\n",
       "      <td>16.521069</td>\n",
       "      <td>8.071429</td>\n",
       "    </tr>\n",
       "  </tbody>\n",
       "</table>\n",
       "<p>3 rows × 40 columns</p>\n",
       "</div>"
      ],
      "text/plain": [
       "        code         name  White  mixed  asian  black  other_ethic  male_prop  \\\n",
       "0  E02000166   Camden 001  0.794  0.064  0.058  0.057        0.027   0.465548   \n",
       "1  E02000167   Camden 002  0.848  0.047  0.067  0.019        0.019   0.488419   \n",
       "2  E02000168   Camden 003  0.782  0.066  0.072  0.057        0.024   0.480666   \n",
       "\n",
       "   female_prop  under_18  ...  hhdep4_rate  year  msoa_code cycling_count  \\\n",
       "0     0.534452     0.195  ...     0.010178  2011  E02000166           417   \n",
       "1     0.511581     0.191  ...     0.003307  2011  E02000167           201   \n",
       "2     0.519334     0.187  ...     0.012447  2011  E02000168           543   \n",
       "\n",
       "   total_count  cycling_rate  log_cyclingrate  MSOA11NM_y PM252013me  distance  \n",
       "0         6020      0.069269        -2.669756  Camden 001  16.129558  9.239286  \n",
       "1         5885      0.034155        -3.376857  Camden 002  16.219346  9.863333  \n",
       "2         6371      0.085230        -2.462402  Camden 003  16.521069  8.071429  \n",
       "\n",
       "[3 rows x 40 columns]"
      ]
     },
     "execution_count": 66,
     "metadata": {},
     "output_type": "execute_result"
    }
   ],
   "source": [
    "dataframe = new3.merge(df, how = \"left\", left_on=\"code\", right_on=\"msoa_code\")\n",
    "dataframe.head(3)"
   ]
  },
  {
   "cell_type": "code",
   "execution_count": 67,
   "id": "c7d3c723-4511-4fd5-8d5d-c65deacf5578",
   "metadata": {},
   "outputs": [
    {
     "data": {
      "text/plain": [
       "Index(['code', 'name', 'White', 'mixed', 'asian', 'black', 'other_ethic',\n",
       "       'male_prop', 'female_prop', 'under_18', 'adult', 'elderly', 'qual_rate',\n",
       "       'Area', 'house_price', 'road_casualty', 'car_ownership',\n",
       "       'house_ownership', 'MSOA11CD', 'MSOA11NM_x', 'hhdep_all', 'hhdep0',\n",
       "       'hhdep1', 'hhdep2', 'hhdep3', 'hhdep4', 'hhdep0_rate', 'hhdep1_rate',\n",
       "       'hhdep2_rate', 'hhdep3_rate', 'hhdep4_rate', 'year', 'msoa_code',\n",
       "       'cycling_count', 'total_count', 'cycling_rate', 'log_cyclingrate',\n",
       "       'MSOA11NM_y', 'PM252013me', 'distance'],\n",
       "      dtype='object')"
      ]
     },
     "execution_count": 67,
     "metadata": {},
     "output_type": "execute_result"
    }
   ],
   "source": [
    "dataframe.columns"
   ]
  },
  {
   "cell_type": "code",
   "execution_count": 68,
   "id": "9aac592e-a30a-4417-938d-8260405352fc",
   "metadata": {},
   "outputs": [],
   "source": [
    "dataframe_corr = dataframe[['cycling_rate', 'log_cyclingrate',\n",
    "                            'White', 'mixed', 'asian', 'black', 'other_ethic',\n",
    "                            'male_prop', 'female_prop', \n",
    "                            'under_18', 'adult', 'elderly', 'qual_rate',\n",
    "                            'house_price', 'road_casualty', \n",
    "                            'car_ownership','house_ownership', \n",
    "                            'hhdep0_rate', 'hhdep1_rate','hhdep2_rate', 'hhdep3_rate', 'hhdep4_rate',\n",
    "                            'PM252013me', \"distance\"]]        "
   ]
  },
  {
   "cell_type": "code",
   "execution_count": 69,
   "id": "f3d4ee8f-4860-4380-a806-39d14d82e180",
   "metadata": {},
   "outputs": [],
   "source": [
    "#Updated dataframe considering variables that dont explain eachother. \n",
    "dataframe_corr = dataframe_corr[['cycling_rate', 'log_cyclingrate', #Cycle rate stayes as we are trying to explain it\n",
    "                            'White', #With population of white residents we can calculate % ethnic minotirty. \n",
    "                            'male_prop', #With male we can calcualte female. \n",
    "                            'under_18', 'adult', 'elderly', \n",
    "                                 'qual_rate',\n",
    "                            'house_price', \n",
    "                                 'road_casualty', \n",
    "                            'car_ownership',\n",
    "                                 'house_ownership', \n",
    "                             'hhdep1_rate', #Only one deprivation marker nescessary, as they all link. \n",
    "                            'PM252013me', #Pollution as an explanatory variables\n",
    "                                 \"distance\"]]        "
   ]
  },
  {
   "cell_type": "markdown",
   "id": "160ba858-350a-4461-8bea-7fc2e759b4ce",
   "metadata": {},
   "source": [
    "## 4.0.0 Correlation test"
   ]
  },
  {
   "cell_type": "code",
   "execution_count": 70,
   "id": "5824904b-9a14-4455-af91-78ec9377081c",
   "metadata": {},
   "outputs": [],
   "source": [
    "#print(dataframe_corr.corr())"
   ]
  },
  {
   "cell_type": "code",
   "execution_count": 71,
   "id": "94cbb380-9463-4c32-8ece-9bb0fc006a15",
   "metadata": {},
   "outputs": [
    {
     "data": {
      "text/plain": [
       "Text(0.5, 1.0, 'Correlation Matrix')"
      ]
     },
     "execution_count": 71,
     "metadata": {},
     "output_type": "execute_result"
    },
    {
     "data": {
      "image/png": "[encoded data removed]",
      "text/plain": [
       "<Figure size 1368x1080 with 2 Axes>"
      ]
     },
     "metadata": {
      "needs_background": "light"
     },
     "output_type": "display_data"
    }
   ],
   "source": [
    "f = plt.figure(figsize=(19, 15))\n",
    "plt.matshow(dataframe_corr.corr(), fignum=f.number)\n",
    "plt.xticks(range(dataframe_corr.shape[1]), dataframe_corr.columns, fontsize=14, rotation=90)\n",
    "plt.yticks(range(dataframe_corr.shape[1]), dataframe_corr.columns, fontsize=14)\n",
    "cb = plt.colorbar()\n",
    "cb.ax.tick_params(labelsize=14)\n",
    "plt.title('Correlation Matrix', fontsize=16)"
   ]
  },
  {
   "cell_type": "code",
   "execution_count": null,
   "id": "f890c5a7-70e7-43b7-b4fa-da2cc5fdfafb",
   "metadata": {},
   "outputs": [],
   "source": []
  },
  {
   "cell_type": "code",
   "execution_count": 72,
   "id": "0e9a5a3b-7ba0-4f67-b38a-3a4537393717",
   "metadata": {},
   "outputs": [
    {
     "data": {
      "text/html": [
       "<div>\n",
       "<style scoped>\n",
       "    .dataframe tbody tr th:only-of-type {\n",
       "        vertical-align: middle;\n",
       "    }\n",
       "\n",
       "    .dataframe tbody tr th {\n",
       "        vertical-align: top;\n",
       "    }\n",
       "\n",
       "    .dataframe thead th {\n",
       "        text-align: right;\n",
       "    }\n",
       "</style>\n",
       "<table border=\"1\" class=\"dataframe\">\n",
       "  <thead>\n",
       "    <tr style=\"text-align: right;\">\n",
       "      <th></th>\n",
       "      <th>cycling_rate</th>\n",
       "      <th>log_cyclingrate</th>\n",
       "      <th>White</th>\n",
       "      <th>male_prop</th>\n",
       "      <th>under_18</th>\n",
       "      <th>adult</th>\n",
       "      <th>elderly</th>\n",
       "      <th>qual_rate</th>\n",
       "      <th>house_price</th>\n",
       "      <th>road_casualty</th>\n",
       "      <th>car_ownership</th>\n",
       "      <th>house_ownership</th>\n",
       "      <th>hhdep1_rate</th>\n",
       "      <th>PM252013me</th>\n",
       "      <th>distance</th>\n",
       "    </tr>\n",
       "  </thead>\n",
       "  <tbody>\n",
       "    <tr>\n",
       "      <th>0</th>\n",
       "      <td>0.069269</td>\n",
       "      <td>-2.669756</td>\n",
       "      <td>0.794</td>\n",
       "      <td>0.465548</td>\n",
       "      <td>0.195</td>\n",
       "      <td>0.650</td>\n",
       "      <td>0.154</td>\n",
       "      <td>0.131631</td>\n",
       "      <td>841537</td>\n",
       "      <td>16</td>\n",
       "      <td>0.518</td>\n",
       "      <td>0.443</td>\n",
       "      <td>0.304778</td>\n",
       "      <td>16.129558</td>\n",
       "      <td>9.239286</td>\n",
       "    </tr>\n",
       "    <tr>\n",
       "      <th>1</th>\n",
       "      <td>0.034155</td>\n",
       "      <td>-3.376857</td>\n",
       "      <td>0.848</td>\n",
       "      <td>0.488419</td>\n",
       "      <td>0.191</td>\n",
       "      <td>0.639</td>\n",
       "      <td>0.169</td>\n",
       "      <td>0.055190</td>\n",
       "      <td>1514342</td>\n",
       "      <td>10</td>\n",
       "      <td>0.587</td>\n",
       "      <td>0.554</td>\n",
       "      <td>0.315514</td>\n",
       "      <td>16.219346</td>\n",
       "      <td>9.863333</td>\n",
       "    </tr>\n",
       "    <tr>\n",
       "      <th>2</th>\n",
       "      <td>0.085230</td>\n",
       "      <td>-2.462402</td>\n",
       "      <td>0.782</td>\n",
       "      <td>0.480666</td>\n",
       "      <td>0.187</td>\n",
       "      <td>0.694</td>\n",
       "      <td>0.118</td>\n",
       "      <td>0.124209</td>\n",
       "      <td>554520</td>\n",
       "      <td>38</td>\n",
       "      <td>0.445</td>\n",
       "      <td>0.412</td>\n",
       "      <td>0.335219</td>\n",
       "      <td>16.521069</td>\n",
       "      <td>8.071429</td>\n",
       "    </tr>\n",
       "    <tr>\n",
       "      <th>3</th>\n",
       "      <td>0.023272</td>\n",
       "      <td>-3.760484</td>\n",
       "      <td>0.759</td>\n",
       "      <td>0.479900</td>\n",
       "      <td>0.206</td>\n",
       "      <td>0.640</td>\n",
       "      <td>0.156</td>\n",
       "      <td>0.067173</td>\n",
       "      <td>1440181</td>\n",
       "      <td>10</td>\n",
       "      <td>0.676</td>\n",
       "      <td>0.552</td>\n",
       "      <td>0.296397</td>\n",
       "      <td>16.258028</td>\n",
       "      <td>10.860000</td>\n",
       "    </tr>\n",
       "    <tr>\n",
       "      <th>4</th>\n",
       "      <td>0.037789</td>\n",
       "      <td>-3.275738</td>\n",
       "      <td>0.743</td>\n",
       "      <td>0.495802</td>\n",
       "      <td>0.167</td>\n",
       "      <td>0.736</td>\n",
       "      <td>0.098</td>\n",
       "      <td>0.076403</td>\n",
       "      <td>654160</td>\n",
       "      <td>20</td>\n",
       "      <td>0.506</td>\n",
       "      <td>0.439</td>\n",
       "      <td>0.347897</td>\n",
       "      <td>16.237145</td>\n",
       "      <td>10.388462</td>\n",
       "    </tr>\n",
       "    <tr>\n",
       "      <th>...</th>\n",
       "      <td>...</td>\n",
       "      <td>...</td>\n",
       "      <td>...</td>\n",
       "      <td>...</td>\n",
       "      <td>...</td>\n",
       "      <td>...</td>\n",
       "      <td>...</td>\n",
       "      <td>...</td>\n",
       "      <td>...</td>\n",
       "      <td>...</td>\n",
       "      <td>...</td>\n",
       "      <td>...</td>\n",
       "      <td>...</td>\n",
       "      <td>...</td>\n",
       "      <td>...</td>\n",
       "    </tr>\n",
       "    <tr>\n",
       "      <th>978</th>\n",
       "      <td>0.018597</td>\n",
       "      <td>-3.984766</td>\n",
       "      <td>0.481</td>\n",
       "      <td>0.517971</td>\n",
       "      <td>0.210</td>\n",
       "      <td>0.720</td>\n",
       "      <td>0.069</td>\n",
       "      <td>0.167502</td>\n",
       "      <td>244701</td>\n",
       "      <td>30</td>\n",
       "      <td>0.498</td>\n",
       "      <td>0.359</td>\n",
       "      <td>0.342708</td>\n",
       "      <td>16.143117</td>\n",
       "      <td>11.800000</td>\n",
       "    </tr>\n",
       "    <tr>\n",
       "      <th>979</th>\n",
       "      <td>0.019570</td>\n",
       "      <td>-3.933743</td>\n",
       "      <td>0.442</td>\n",
       "      <td>0.509272</td>\n",
       "      <td>0.196</td>\n",
       "      <td>0.725</td>\n",
       "      <td>0.077</td>\n",
       "      <td>0.168725</td>\n",
       "      <td>223544</td>\n",
       "      <td>16</td>\n",
       "      <td>0.504</td>\n",
       "      <td>0.453</td>\n",
       "      <td>0.370543</td>\n",
       "      <td>16.278088</td>\n",
       "      <td>11.387500</td>\n",
       "    </tr>\n",
       "    <tr>\n",
       "      <th>980</th>\n",
       "      <td>0.015621</td>\n",
       "      <td>-4.159157</td>\n",
       "      <td>0.363</td>\n",
       "      <td>0.504906</td>\n",
       "      <td>0.223</td>\n",
       "      <td>0.705</td>\n",
       "      <td>0.070</td>\n",
       "      <td>0.187929</td>\n",
       "      <td>192944</td>\n",
       "      <td>44</td>\n",
       "      <td>0.465</td>\n",
       "      <td>0.316</td>\n",
       "      <td>0.393419</td>\n",
       "      <td>16.260208</td>\n",
       "      <td>10.800000</td>\n",
       "    </tr>\n",
       "    <tr>\n",
       "      <th>981</th>\n",
       "      <td>0.015995</td>\n",
       "      <td>-4.135472</td>\n",
       "      <td>0.401</td>\n",
       "      <td>0.501863</td>\n",
       "      <td>0.248</td>\n",
       "      <td>0.683</td>\n",
       "      <td>0.069</td>\n",
       "      <td>0.200423</td>\n",
       "      <td>220989</td>\n",
       "      <td>17</td>\n",
       "      <td>0.445</td>\n",
       "      <td>0.268</td>\n",
       "      <td>0.363086</td>\n",
       "      <td>16.162611</td>\n",
       "      <td>11.260000</td>\n",
       "    </tr>\n",
       "    <tr>\n",
       "      <th>982</th>\n",
       "      <td>0.019764</td>\n",
       "      <td>-3.923902</td>\n",
       "      <td>0.440</td>\n",
       "      <td>0.534828</td>\n",
       "      <td>0.226</td>\n",
       "      <td>0.706</td>\n",
       "      <td>0.070</td>\n",
       "      <td>0.182580</td>\n",
       "      <td>209412</td>\n",
       "      <td>12</td>\n",
       "      <td>0.539</td>\n",
       "      <td>0.432</td>\n",
       "      <td>0.379412</td>\n",
       "      <td>15.983961</td>\n",
       "      <td>11.513333</td>\n",
       "    </tr>\n",
       "  </tbody>\n",
       "</table>\n",
       "<p>983 rows × 15 columns</p>\n",
       "</div>"
      ],
      "text/plain": [
       "     cycling_rate  log_cyclingrate  White  male_prop  under_18  adult  \\\n",
       "0        0.069269        -2.669756  0.794   0.465548     0.195  0.650   \n",
       "1        0.034155        -3.376857  0.848   0.488419     0.191  0.639   \n",
       "2        0.085230        -2.462402  0.782   0.480666     0.187  0.694   \n",
       "3        0.023272        -3.760484  0.759   0.479900     0.206  0.640   \n",
       "4        0.037789        -3.275738  0.743   0.495802     0.167  0.736   \n",
       "..            ...              ...    ...        ...       ...    ...   \n",
       "978      0.018597        -3.984766  0.481   0.517971     0.210  0.720   \n",
       "979      0.019570        -3.933743  0.442   0.509272     0.196  0.725   \n",
       "980      0.015621        -4.159157  0.363   0.504906     0.223  0.705   \n",
       "981      0.015995        -4.135472  0.401   0.501863     0.248  0.683   \n",
       "982      0.019764        -3.923902  0.440   0.534828     0.226  0.706   \n",
       "\n",
       "     elderly  qual_rate  house_price  road_casualty  car_ownership  \\\n",
       "0      0.154   0.131631       841537             16          0.518   \n",
       "1      0.169   0.055190      1514342             10          0.587   \n",
       "2      0.118   0.124209       554520             38          0.445   \n",
       "3      0.156   0.067173      1440181             10          0.676   \n",
       "4      0.098   0.076403       654160             20          0.506   \n",
       "..       ...        ...          ...            ...            ...   \n",
       "978    0.069   0.167502       244701             30          0.498   \n",
       "979    0.077   0.168725       223544             16          0.504   \n",
       "980    0.070   0.187929       192944             44          0.465   \n",
       "981    0.069   0.200423       220989             17          0.445   \n",
       "982    0.070   0.182580       209412             12          0.539   \n",
       "\n",
       "     house_ownership  hhdep1_rate  PM252013me   distance  \n",
       "0              0.443     0.304778   16.129558   9.239286  \n",
       "1              0.554     0.315514   16.219346   9.863333  \n",
       "2              0.412     0.335219   16.521069   8.071429  \n",
       "3              0.552     0.296397   16.258028  10.860000  \n",
       "4              0.439     0.347897   16.237145  10.388462  \n",
       "..               ...          ...         ...        ...  \n",
       "978            0.359     0.342708   16.143117  11.800000  \n",
       "979            0.453     0.370543   16.278088  11.387500  \n",
       "980            0.316     0.393419   16.260208  10.800000  \n",
       "981            0.268     0.363086   16.162611  11.260000  \n",
       "982            0.432     0.379412   15.983961  11.513333  \n",
       "\n",
       "[983 rows x 15 columns]"
      ]
     },
     "execution_count": 72,
     "metadata": {},
     "output_type": "execute_result"
    }
   ],
   "source": [
    "dataframe_corr"
   ]
  },
  {
   "cell_type": "code",
   "execution_count": 73,
   "id": "b4396966-cc15-4b07-ac8d-ed71ca379108",
   "metadata": {},
   "outputs": [
    {
     "data": {
      "text/plain": [
       "'\\nR2 value\\n\\n\\nDistance Alone: 0.358\\nAdult: 0.368\\nPM: 0.317\\nRoad casualties: 0.004\\nHouse ownership: 0.167\\nDeprivation 1 index: 0.067\\nDistance with PM: 0.378\\nDistance with Adult\" 0.459\\nDistance with adult and PM: 0.461\\nDistance with qual rate: 0.441\\nDistance with car ownership: 0.380\\nDistance with houseownership: 0.362\\nDistance, house owenership, adult and pm: 0.462\\nDistance and deprivation: 0.479\\nDistance, deprivation, adult: 0.591\\nDistance, adult, deprivation, road casuality: 0.598\\n\\n\\n'"
      ]
     },
     "execution_count": 73,
     "metadata": {},
     "output_type": "execute_result"
    }
   ],
   "source": [
    "\"\"\"\n",
    "R2 value\n",
    "\n",
    "\n",
    "Distance Alone: 0.358\n",
    "Adult: 0.368\n",
    "PM: 0.317\n",
    "Road casualties: 0.004\n",
    "House ownership: 0.167\n",
    "Deprivation 1 index: 0.067\n",
    "Distance with PM: 0.378\n",
    "Distance with Adult\" 0.459\n",
    "Distance with adult and PM: 0.461\n",
    "Distance with qual rate: 0.441\n",
    "Distance with car ownership: 0.380\n",
    "Distance with houseownership: 0.362\n",
    "Distance, house owenership, adult and pm: 0.462\n",
    "Distance and deprivation: 0.479\n",
    "Distance, deprivation, adult: 0.591\n",
    "Distance, adult, deprivation, road casuality: 0.598\n",
    "\n",
    "\n",
    "\"\"\""
   ]
  },
  {
   "cell_type": "code",
   "execution_count": 74,
   "id": "5e216b1f-d840-482a-8d93-7a4753c48567",
   "metadata": {},
   "outputs": [
    {
     "data": {
      "text/html": [
       "<table class=\"simpletable\">\n",
       "<caption>OLS Regression Results</caption>\n",
       "<tr>\n",
       "  <th>Dep. Variable:</th>      <td>cycling_rate</td>   <th>  R-squared:         </th> <td>   0.598</td> \n",
       "</tr>\n",
       "<tr>\n",
       "  <th>Model:</th>                   <td>OLS</td>       <th>  Adj. R-squared:    </th> <td>   0.597</td> \n",
       "</tr>\n",
       "<tr>\n",
       "  <th>Method:</th>             <td>Least Squares</td>  <th>  F-statistic:       </th> <td>   356.1</td> \n",
       "</tr>\n",
       "<tr>\n",
       "  <th>Date:</th>             <td>Sat, 10 Dec 2022</td> <th>  Prob (F-statistic):</th> <td>1.17e-187</td>\n",
       "</tr>\n",
       "<tr>\n",
       "  <th>Time:</th>                 <td>12:50:12</td>     <th>  Log-Likelihood:    </th> <td>  2676.1</td> \n",
       "</tr>\n",
       "<tr>\n",
       "  <th>No. Observations:</th>      <td>   961</td>      <th>  AIC:               </th> <td>  -5342.</td> \n",
       "</tr>\n",
       "<tr>\n",
       "  <th>Df Residuals:</th>          <td>   956</td>      <th>  BIC:               </th> <td>  -5318.</td> \n",
       "</tr>\n",
       "<tr>\n",
       "  <th>Df Model:</th>              <td>     4</td>      <th>                     </th>     <td> </td>    \n",
       "</tr>\n",
       "<tr>\n",
       "  <th>Covariance Type:</th>      <td>nonrobust</td>    <th>                     </th>     <td> </td>    \n",
       "</tr>\n",
       "</table>\n",
       "<table class=\"simpletable\">\n",
       "<tr>\n",
       "        <td></td>           <th>coef</th>     <th>std err</th>      <th>t</th>      <th>P>|t|</th>  <th>[0.025</th>    <th>0.975]</th>  \n",
       "</tr>\n",
       "<tr>\n",
       "  <th>Intercept</th>     <td>    0.0532</td> <td>    0.010</td> <td>    5.086</td> <td> 0.000</td> <td>    0.033</td> <td>    0.074</td>\n",
       "</tr>\n",
       "<tr>\n",
       "  <th>road_casualty</th> <td>-8.326e-05</td> <td> 1.99e-05</td> <td>   -4.176</td> <td> 0.000</td> <td>   -0.000</td> <td>-4.41e-05</td>\n",
       "</tr>\n",
       "<tr>\n",
       "  <th>distance</th>      <td>   -0.0048</td> <td>    0.000</td> <td>  -16.976</td> <td> 0.000</td> <td>   -0.005</td> <td>   -0.004</td>\n",
       "</tr>\n",
       "<tr>\n",
       "  <th>adult</th>         <td>    0.1724</td> <td>    0.010</td> <td>   16.886</td> <td> 0.000</td> <td>    0.152</td> <td>    0.192</td>\n",
       "</tr>\n",
       "<tr>\n",
       "  <th>hhdep1_rate</th>   <td>   -0.2508</td> <td>    0.015</td> <td>  -16.560</td> <td> 0.000</td> <td>   -0.281</td> <td>   -0.221</td>\n",
       "</tr>\n",
       "</table>\n",
       "<table class=\"simpletable\">\n",
       "<tr>\n",
       "  <th>Omnibus:</th>       <td>470.716</td> <th>  Durbin-Watson:     </th> <td>   0.760</td>\n",
       "</tr>\n",
       "<tr>\n",
       "  <th>Prob(Omnibus):</th> <td> 0.000</td>  <th>  Jarque-Bera (JB):  </th> <td>3842.405</td>\n",
       "</tr>\n",
       "<tr>\n",
       "  <th>Skew:</th>          <td> 2.079</td>  <th>  Prob(JB):          </th> <td>    0.00</td>\n",
       "</tr>\n",
       "<tr>\n",
       "  <th>Kurtosis:</th>      <td>11.870</td>  <th>  Cond. No.          </th> <td>1.41e+03</td>\n",
       "</tr>\n",
       "</table><br/><br/>Notes:<br/>[1] Standard Errors assume that the covariance matrix of the errors is correctly specified.<br/>[2] The condition number is large, 1.41e+03. This might indicate that there are<br/>strong multicollinearity or other numerical problems."
      ],
      "text/plain": [
       "<class 'statsmodels.iolib.summary.Summary'>\n",
       "\"\"\"\n",
       "                            OLS Regression Results                            \n",
       "==============================================================================\n",
       "Dep. Variable:           cycling_rate   R-squared:                       0.598\n",
       "Model:                            OLS   Adj. R-squared:                  0.597\n",
       "Method:                 Least Squares   F-statistic:                     356.1\n",
       "Date:                Sat, 10 Dec 2022   Prob (F-statistic):          1.17e-187\n",
       "Time:                        12:50:12   Log-Likelihood:                 2676.1\n",
       "No. Observations:                 961   AIC:                            -5342.\n",
       "Df Residuals:                     956   BIC:                            -5318.\n",
       "Df Model:                           4                                         \n",
       "Covariance Type:            nonrobust                                         \n",
       "=================================================================================\n",
       "                    coef    std err          t      P>|t|      [0.025      0.975]\n",
       "---------------------------------------------------------------------------------\n",
       "Intercept         0.0532      0.010      5.086      0.000       0.033       0.074\n",
       "road_casualty -8.326e-05   1.99e-05     -4.176      0.000      -0.000   -4.41e-05\n",
       "distance         -0.0048      0.000    -16.976      0.000      -0.005      -0.004\n",
       "adult             0.1724      0.010     16.886      0.000       0.152       0.192\n",
       "hhdep1_rate      -0.2508      0.015    -16.560      0.000      -0.281      -0.221\n",
       "==============================================================================\n",
       "Omnibus:                      470.716   Durbin-Watson:                   0.760\n",
       "Prob(Omnibus):                  0.000   Jarque-Bera (JB):             3842.405\n",
       "Skew:                           2.079   Prob(JB):                         0.00\n",
       "Kurtosis:                      11.870   Cond. No.                     1.41e+03\n",
       "==============================================================================\n",
       "\n",
       "Notes:\n",
       "[1] Standard Errors assume that the covariance matrix of the errors is correctly specified.\n",
       "[2] The condition number is large, 1.41e+03. This might indicate that there are\n",
       "strong multicollinearity or other numerical problems.\n",
       "\"\"\""
      ]
     },
     "execution_count": 74,
     "metadata": {},
     "output_type": "execute_result"
    }
   ],
   "source": [
    "model_cnt_aq_dep = ols('cycling_rate ~  road_casualty + distance + adult + hhdep1_rate', dataframe_corr).fit()\n",
    "model_cnt_aq_dep.summary()"
   ]
  },
  {
   "cell_type": "code",
   "execution_count": 75,
   "id": "12a6ac73-2a65-43ec-b8fa-6f8d4dcaf17b",
   "metadata": {},
   "outputs": [
    {
     "data": {
      "text/html": [
       "<table class=\"simpletable\">\n",
       "<caption>OLS Regression Results</caption>\n",
       "<tr>\n",
       "  <th>Dep. Variable:</th>      <td>cycling_rate</td>   <th>  R-squared:         </th> <td>   0.461</td> \n",
       "</tr>\n",
       "<tr>\n",
       "  <th>Model:</th>                   <td>OLS</td>       <th>  Adj. R-squared:    </th> <td>   0.460</td> \n",
       "</tr>\n",
       "<tr>\n",
       "  <th>Method:</th>             <td>Least Squares</td>  <th>  F-statistic:       </th> <td>   273.1</td> \n",
       "</tr>\n",
       "<tr>\n",
       "  <th>Date:</th>             <td>Sat, 10 Dec 2022</td> <th>  Prob (F-statistic):</th> <td>4.81e-128</td>\n",
       "</tr>\n",
       "<tr>\n",
       "  <th>Time:</th>                 <td>12:50:12</td>     <th>  Log-Likelihood:    </th> <td>  2534.9</td> \n",
       "</tr>\n",
       "<tr>\n",
       "  <th>No. Observations:</th>      <td>   961</td>      <th>  AIC:               </th> <td>  -5062.</td> \n",
       "</tr>\n",
       "<tr>\n",
       "  <th>Df Residuals:</th>          <td>   957</td>      <th>  BIC:               </th> <td>  -5042.</td> \n",
       "</tr>\n",
       "<tr>\n",
       "  <th>Df Model:</th>              <td>     3</td>      <th>                     </th>     <td> </td>    \n",
       "</tr>\n",
       "<tr>\n",
       "  <th>Covariance Type:</th>      <td>nonrobust</td>    <th>                     </th>     <td> </td>    \n",
       "</tr>\n",
       "</table>\n",
       "<table class=\"simpletable\">\n",
       "<tr>\n",
       "       <td></td>         <th>coef</th>     <th>std err</th>      <th>t</th>      <th>P>|t|</th>  <th>[0.025</th>    <th>0.975]</th>  \n",
       "</tr>\n",
       "<tr>\n",
       "  <th>Intercept</th>  <td>    0.0120</td> <td>    0.025</td> <td>    0.472</td> <td> 0.637</td> <td>   -0.038</td> <td>    0.062</td>\n",
       "</tr>\n",
       "<tr>\n",
       "  <th>distance</th>   <td>   -0.0047</td> <td>    0.000</td> <td>  -10.600</td> <td> 0.000</td> <td>   -0.006</td> <td>   -0.004</td>\n",
       "</tr>\n",
       "<tr>\n",
       "  <th>adult</th>      <td>    0.1747</td> <td>    0.014</td> <td>   12.586</td> <td> 0.000</td> <td>    0.147</td> <td>    0.202</td>\n",
       "</tr>\n",
       "<tr>\n",
       "  <th>PM252013me</th> <td>   -0.0031</td> <td>    0.002</td> <td>   -1.991</td> <td> 0.047</td> <td>   -0.006</td> <td>-4.51e-05</td>\n",
       "</tr>\n",
       "</table>\n",
       "<table class=\"simpletable\">\n",
       "<tr>\n",
       "  <th>Omnibus:</th>       <td>347.254</td> <th>  Durbin-Watson:     </th> <td>   0.710</td>\n",
       "</tr>\n",
       "<tr>\n",
       "  <th>Prob(Omnibus):</th> <td> 0.000</td>  <th>  Jarque-Bera (JB):  </th> <td>1592.968</td>\n",
       "</tr>\n",
       "<tr>\n",
       "  <th>Skew:</th>          <td> 1.629</td>  <th>  Prob(JB):          </th> <td>    0.00</td>\n",
       "</tr>\n",
       "<tr>\n",
       "  <th>Kurtosis:</th>      <td> 8.401</td>  <th>  Cond. No.          </th> <td>    895.</td>\n",
       "</tr>\n",
       "</table><br/><br/>Notes:<br/>[1] Standard Errors assume that the covariance matrix of the errors is correctly specified."
      ],
      "text/plain": [
       "<class 'statsmodels.iolib.summary.Summary'>\n",
       "\"\"\"\n",
       "                            OLS Regression Results                            \n",
       "==============================================================================\n",
       "Dep. Variable:           cycling_rate   R-squared:                       0.461\n",
       "Model:                            OLS   Adj. R-squared:                  0.460\n",
       "Method:                 Least Squares   F-statistic:                     273.1\n",
       "Date:                Sat, 10 Dec 2022   Prob (F-statistic):          4.81e-128\n",
       "Time:                        12:50:12   Log-Likelihood:                 2534.9\n",
       "No. Observations:                 961   AIC:                            -5062.\n",
       "Df Residuals:                     957   BIC:                            -5042.\n",
       "Df Model:                           3                                         \n",
       "Covariance Type:            nonrobust                                         \n",
       "==============================================================================\n",
       "                 coef    std err          t      P>|t|      [0.025      0.975]\n",
       "------------------------------------------------------------------------------\n",
       "Intercept      0.0120      0.025      0.472      0.637      -0.038       0.062\n",
       "distance      -0.0047      0.000    -10.600      0.000      -0.006      -0.004\n",
       "adult          0.1747      0.014     12.586      0.000       0.147       0.202\n",
       "PM252013me    -0.0031      0.002     -1.991      0.047      -0.006   -4.51e-05\n",
       "==============================================================================\n",
       "Omnibus:                      347.254   Durbin-Watson:                   0.710\n",
       "Prob(Omnibus):                  0.000   Jarque-Bera (JB):             1592.968\n",
       "Skew:                           1.629   Prob(JB):                         0.00\n",
       "Kurtosis:                       8.401   Cond. No.                         895.\n",
       "==============================================================================\n",
       "\n",
       "Notes:\n",
       "[1] Standard Errors assume that the covariance matrix of the errors is correctly specified.\n",
       "\"\"\""
      ]
     },
     "execution_count": 75,
     "metadata": {},
     "output_type": "execute_result"
    }
   ],
   "source": [
    "model_cnt_aq_dep = ols('cycling_rate ~ distance + adult + PM252013me', dataframe_corr).fit()\n",
    "model_cnt_aq_dep.summary()"
   ]
  },
  {
   "cell_type": "code",
   "execution_count": 76,
   "id": "930f420b-96b8-411e-8b97-0fa9a48086e1",
   "metadata": {},
   "outputs": [
    {
     "data": {
      "text/plain": [
       "<AxesSubplot:xlabel='cycling_rate', ylabel='distance'>"
      ]
     },
     "execution_count": 76,
     "metadata": {},
     "output_type": "execute_result"
    },
    {
     "data": {
      "image/png": "[encoded data removed]",
      "text/plain": [
       "<Figure size 432x288 with 1 Axes>"
      ]
     },
     "metadata": {
      "needs_background": "light"
     },
     "output_type": "display_data"
    }
   ],
   "source": [
    "sns.scatterplot(data = dataframe_corr, x=\"cycling_rate\", y=\"distance\")\n"
   ]
  },
  {
   "cell_type": "markdown",
   "id": "98b51157-16ef-4ed2-9fd2-556540aaf354",
   "metadata": {},
   "source": [
    "### 4.1. Basic Plotting"
   ]
  },
  {
   "cell_type": "markdown",
   "id": "a876a4d3-b2b3-463c-9fb4-09c541ba1ed6",
   "metadata": {},
   "source": [
    "Check the distribution for *rate of household deprivation* measures (as probably more appropriate to use than counts?)"
   ]
  },
  {
   "cell_type": "code",
   "execution_count": 77,
   "id": "93551f66-5a9c-4a01-95cb-a0e5a41b14ac",
   "metadata": {},
   "outputs": [
    {
     "data": {
      "image/png": "[encoded data removed]",
      "text/plain": [
       "<Figure size 1152x576 with 6 Axes>"
      ]
     },
     "metadata": {
      "needs_background": "light"
     },
     "output_type": "display_data"
    }
   ],
   "source": [
    "# Distribution plots for household deprivation RATES\n",
    "fig, axs = plt.subplots(2, 3, figsize=(16,8))\n",
    "\n",
    "axs[0,0].hist(df.hhdep0_rate,\n",
    "        bins = 100)\n",
    "axs[0,1].hist(df.hhdep1_rate,\n",
    "        bins = 100)\n",
    "axs[0,2].hist(df.hhdep2_rate,\n",
    "        bins = 100)\n",
    "axs[1,0].hist(df.hhdep3_rate,\n",
    "        bins = 100)\n",
    "axs[1,1].hist(df.hhdep4_rate,\n",
    "        bins = 100)\n",
    "\n",
    "plt.show()"
   ]
  },
  {
   "cell_type": "markdown",
   "id": "eccdb9c3-ddbb-4cd7-87cf-89c7191cfa7c",
   "metadata": {
    "tags": []
   },
   "source": [
    "#### 4.1.1 Cycle to work and Deprivation"
   ]
  },
  {
   "cell_type": "markdown",
   "id": "312fab82-260a-4c8a-804b-3049e1772b12",
   "metadata": {},
   "source": [
    "Plot below the relationship between cycling rates (log and raw) and deprived household 4 dimensions (count and rate).  \n",
    "Could also be worth looking at associations for different levels of household deprivation? (e.g. 1 or 2 dimensions)"
   ]
  },
  {
   "cell_type": "code",
   "execution_count": 78,
   "id": "910222bd-64c0-4ab2-bcb7-a5cf03eec149",
   "metadata": {},
   "outputs": [
    {
     "data": {
      "image/png": "[encoded data removed]",
      "text/plain": [
       "<Figure size 1152x576 with 4 Axes>"
      ]
     },
     "metadata": {
      "needs_background": "light"
     },
     "output_type": "display_data"
    }
   ],
   "source": [
    "#Scatterplot of cycling rate and log cycling rate by deprived household rate\n",
    "fig, axs = plt.subplots(2, 2, figsize=(16,8))\n",
    "\n",
    "axs[0,0].scatter(x=df['cycling_rate'], \n",
    "            y=df['hhdep4'],\n",
    "            alpha = 0.5)\n",
    "axs[0,0].set_title(\"hhdep4 COUNT by cycling RATE\")\n",
    "\n",
    "axs[0,1].scatter(x=df['cycling_rate'], \n",
    "            y=df['hhdep4_rate'],\n",
    "            alpha = 0.5)\n",
    "axs[0,1].set_title(\"hhdep4 RATE by cycling RATE\")\n",
    "\n",
    "axs[1,0].scatter(x=df['log_cyclingrate'], \n",
    "            y=df['hhdep4'],\n",
    "            c='y', alpha = 0.5)\n",
    "axs[1,0].set_title(\"hhdep4 COUNT by log cycling RATE\")\n",
    "\n",
    "axs[1,1].scatter(x=df['log_cyclingrate'], \n",
    "            y=df['hhdep4_rate'],\n",
    "            c='y', alpha = 0.5)\n",
    "axs[1,1].set_title(\"hhdep4 RATE by log cycling RATE\")\n",
    "\n",
    "plt.show()"
   ]
  },
  {
   "cell_type": "code",
   "execution_count": 79,
   "id": "5569d707-ec6a-4500-9165-136ce140ae45",
   "metadata": {},
   "outputs": [
    {
     "data": {
      "image/png": "[encoded data removed]",
      "text/plain": [
       "<Figure size 720x576 with 1 Axes>"
      ]
     },
     "metadata": {
      "needs_background": "light"
     },
     "output_type": "display_data"
    }
   ],
   "source": [
    "fig, ax = plt.subplots(1, figsize = (10,8))\n",
    "sns.regplot(data = df, x=\"log_cyclingrate\", \n",
    "            y=\"hhdep4_rate\", ax=ax)\n",
    "                       \n",
    "plt.show()"
   ]
  },
  {
   "cell_type": "markdown",
   "id": "474d9210-9c3d-4ce2-bcef-044e4d744198",
   "metadata": {},
   "source": [
    "#### 4.1.2 Cycle to work and Pollution"
   ]
  },
  {
   "cell_type": "code",
   "execution_count": 80,
   "id": "d04b8177-327c-4c6a-93d2-7ab100d38391",
   "metadata": {},
   "outputs": [],
   "source": [
    "#Commented out cells below; rates calculated above"
   ]
  },
  {
   "cell_type": "code",
   "execution_count": 81,
   "id": "ec05da8e-4a9a-43b5-ade2-f1395fe9755f",
   "metadata": {},
   "outputs": [],
   "source": [
    "#Cycle to work proportion\n",
    "# df[\"ctw_prop\"]  = df[\"Method of Travel to Work: Bicycle; measures: Value\"] / df[\"Method of Travel to Work: All categories: Method of travel to work; measures: Value\"] "
   ]
  },
  {
   "cell_type": "code",
   "execution_count": 82,
   "id": "0ddd86a8-7fd6-43de-94ec-440cd55e3661",
   "metadata": {},
   "outputs": [],
   "source": [
    "#Deprivation on 4 dimensions proportion\n",
    "# df[\"dep4_prop\"]  = df[\"Household Deprivation: Household is deprived in 4 dimensions; measures: Value\"] / df[\"Method of Travel to Work: All categories: Method of travel to work; measures: Value\"] "
   ]
  },
  {
   "cell_type": "code",
   "execution_count": 83,
   "id": "22e8d127-28ac-418b-b14e-1b977eb3e94a",
   "metadata": {},
   "outputs": [
    {
     "data": {
      "image/png": "[encoded data removed]",
      "text/plain": [
       "<Figure size 720x576 with 1 Axes>"
      ]
     },
     "metadata": {
      "needs_background": "light"
     },
     "output_type": "display_data"
    }
   ],
   "source": [
    "fig, ax = plt.subplots(1, figsize = (10,8))\n",
    "sns.scatterplot(data = df, x=\"log_cyclingrate\", \n",
    "            y=\"PM252013me\", ax=ax)\n",
    "\n",
    "plt.ylabel(\"PM\\u2082.\\u2085 concentration\")\n",
    "plt.xlabel(\"Log proportion of households cycling to work\")\n",
    "plt.show()"
   ]
  },
  {
   "cell_type": "markdown",
   "id": "6946a5e9-cf4c-4e80-8ed3-263c5a4b7b59",
   "metadata": {
    "tags": []
   },
   "source": [
    "#### 4.1.3 Cycling to Deprivation"
   ]
  },
  {
   "cell_type": "code",
   "execution_count": 84,
   "id": "f10829df-c9f9-48ee-8924-5d4d4f17a1a3",
   "metadata": {},
   "outputs": [
    {
     "ename": "ValueError",
     "evalue": "Could not interpret value `ctw_prop` for parameter `x`",
     "output_type": "error",
     "traceback": [
      "\u001b[0;31m---------------------------------------------------------------------------\u001b[0m",
      "\u001b[0;31mValueError\u001b[0m                                Traceback (most recent call last)",
      "Input \u001b[0;32mIn [84]\u001b[0m, in \u001b[0;36m<cell line: 2>\u001b[0;34m()\u001b[0m\n\u001b[1;32m      1\u001b[0m fig, ax \u001b[38;5;241m=\u001b[39m plt\u001b[38;5;241m.\u001b[39msubplots(\u001b[38;5;241m1\u001b[39m, figsize \u001b[38;5;241m=\u001b[39m (\u001b[38;5;241m10\u001b[39m,\u001b[38;5;241m8\u001b[39m))\n\u001b[0;32m----> 2\u001b[0m \u001b[43msns\u001b[49m\u001b[38;5;241;43m.\u001b[39;49m\u001b[43mscatterplot\u001b[49m\u001b[43m(\u001b[49m\u001b[43mdata\u001b[49m\u001b[43m \u001b[49m\u001b[38;5;241;43m=\u001b[39;49m\u001b[43m \u001b[49m\u001b[43mdf\u001b[49m\u001b[43m,\u001b[49m\u001b[43m \u001b[49m\u001b[43mx\u001b[49m\u001b[38;5;241;43m=\u001b[39;49m\u001b[38;5;124;43m\"\u001b[39;49m\u001b[38;5;124;43mctw_prop\u001b[39;49m\u001b[38;5;124;43m\"\u001b[39;49m\u001b[43m,\u001b[49m\u001b[43m \u001b[49m\n\u001b[1;32m      3\u001b[0m \u001b[43m            \u001b[49m\u001b[43my\u001b[49m\u001b[38;5;241;43m=\u001b[39;49m\u001b[38;5;124;43m\"\u001b[39;49m\u001b[38;5;124;43mdep4_prop\u001b[39;49m\u001b[38;5;124;43m\"\u001b[39;49m\u001b[43m,\u001b[49m\u001b[43m \u001b[49m\u001b[43max\u001b[49m\u001b[38;5;241;43m=\u001b[39;49m\u001b[43max\u001b[49m\u001b[43m)\u001b[49m\n\u001b[1;32m      5\u001b[0m plt\u001b[38;5;241m.\u001b[39mshow()\n",
      "File \u001b[0;32m/opt/conda/lib/python3.10/site-packages/seaborn/_decorators.py:46\u001b[0m, in \u001b[0;36m_deprecate_positional_args.<locals>.inner_f\u001b[0;34m(*args, **kwargs)\u001b[0m\n\u001b[1;32m     36\u001b[0m     warnings\u001b[38;5;241m.\u001b[39mwarn(\n\u001b[1;32m     37\u001b[0m         \u001b[38;5;124m\"\u001b[39m\u001b[38;5;124mPass the following variable\u001b[39m\u001b[38;5;132;01m{}\u001b[39;00m\u001b[38;5;124m as \u001b[39m\u001b[38;5;132;01m{}\u001b[39;00m\u001b[38;5;124mkeyword arg\u001b[39m\u001b[38;5;132;01m{}\u001b[39;00m\u001b[38;5;124m: \u001b[39m\u001b[38;5;132;01m{}\u001b[39;00m\u001b[38;5;124m. \u001b[39m\u001b[38;5;124m\"\u001b[39m\n\u001b[1;32m     38\u001b[0m         \u001b[38;5;124m\"\u001b[39m\u001b[38;5;124mFrom version 0.12, the only valid positional argument \u001b[39m\u001b[38;5;124m\"\u001b[39m\n\u001b[0;32m   (...)\u001b[0m\n\u001b[1;32m     43\u001b[0m         \u001b[38;5;167;01mFutureWarning\u001b[39;00m\n\u001b[1;32m     44\u001b[0m     )\n\u001b[1;32m     45\u001b[0m kwargs\u001b[38;5;241m.\u001b[39mupdate({k: arg \u001b[38;5;28;01mfor\u001b[39;00m k, arg \u001b[38;5;129;01min\u001b[39;00m \u001b[38;5;28mzip\u001b[39m(sig\u001b[38;5;241m.\u001b[39mparameters, args)})\n\u001b[0;32m---> 46\u001b[0m \u001b[38;5;28;01mreturn\u001b[39;00m \u001b[43mf\u001b[49m\u001b[43m(\u001b[49m\u001b[38;5;241;43m*\u001b[39;49m\u001b[38;5;241;43m*\u001b[39;49m\u001b[43mkwargs\u001b[49m\u001b[43m)\u001b[49m\n",
      "File \u001b[0;32m/opt/conda/lib/python3.10/site-packages/seaborn/relational.py:808\u001b[0m, in \u001b[0;36mscatterplot\u001b[0;34m(x, y, hue, style, size, data, palette, hue_order, hue_norm, sizes, size_order, size_norm, markers, style_order, x_bins, y_bins, units, estimator, ci, n_boot, alpha, x_jitter, y_jitter, legend, ax, **kwargs)\u001b[0m\n\u001b[1;32m    793\u001b[0m \u001b[38;5;129m@_deprecate_positional_args\u001b[39m\n\u001b[1;32m    794\u001b[0m \u001b[38;5;28;01mdef\u001b[39;00m \u001b[38;5;21mscatterplot\u001b[39m(\n\u001b[1;32m    795\u001b[0m     \u001b[38;5;241m*\u001b[39m,\n\u001b[0;32m   (...)\u001b[0m\n\u001b[1;32m    804\u001b[0m     legend\u001b[38;5;241m=\u001b[39m\u001b[38;5;124m\"\u001b[39m\u001b[38;5;124mauto\u001b[39m\u001b[38;5;124m\"\u001b[39m, ax\u001b[38;5;241m=\u001b[39m\u001b[38;5;28;01mNone\u001b[39;00m, \u001b[38;5;241m*\u001b[39m\u001b[38;5;241m*\u001b[39mkwargs\n\u001b[1;32m    805\u001b[0m ):\n\u001b[1;32m    807\u001b[0m     variables \u001b[38;5;241m=\u001b[39m _ScatterPlotter\u001b[38;5;241m.\u001b[39mget_semantics(\u001b[38;5;28mlocals\u001b[39m())\n\u001b[0;32m--> 808\u001b[0m     p \u001b[38;5;241m=\u001b[39m \u001b[43m_ScatterPlotter\u001b[49m\u001b[43m(\u001b[49m\n\u001b[1;32m    809\u001b[0m \u001b[43m        \u001b[49m\u001b[43mdata\u001b[49m\u001b[38;5;241;43m=\u001b[39;49m\u001b[43mdata\u001b[49m\u001b[43m,\u001b[49m\u001b[43m \u001b[49m\u001b[43mvariables\u001b[49m\u001b[38;5;241;43m=\u001b[39;49m\u001b[43mvariables\u001b[49m\u001b[43m,\u001b[49m\n\u001b[1;32m    810\u001b[0m \u001b[43m        \u001b[49m\u001b[43mx_bins\u001b[49m\u001b[38;5;241;43m=\u001b[39;49m\u001b[43mx_bins\u001b[49m\u001b[43m,\u001b[49m\u001b[43m \u001b[49m\u001b[43my_bins\u001b[49m\u001b[38;5;241;43m=\u001b[39;49m\u001b[43my_bins\u001b[49m\u001b[43m,\u001b[49m\n\u001b[1;32m    811\u001b[0m \u001b[43m        \u001b[49m\u001b[43mestimator\u001b[49m\u001b[38;5;241;43m=\u001b[39;49m\u001b[43mestimator\u001b[49m\u001b[43m,\u001b[49m\u001b[43m \u001b[49m\u001b[43mci\u001b[49m\u001b[38;5;241;43m=\u001b[39;49m\u001b[43mci\u001b[49m\u001b[43m,\u001b[49m\u001b[43m \u001b[49m\u001b[43mn_boot\u001b[49m\u001b[38;5;241;43m=\u001b[39;49m\u001b[43mn_boot\u001b[49m\u001b[43m,\u001b[49m\n\u001b[1;32m    812\u001b[0m \u001b[43m        \u001b[49m\u001b[43malpha\u001b[49m\u001b[38;5;241;43m=\u001b[39;49m\u001b[43malpha\u001b[49m\u001b[43m,\u001b[49m\u001b[43m \u001b[49m\u001b[43mx_jitter\u001b[49m\u001b[38;5;241;43m=\u001b[39;49m\u001b[43mx_jitter\u001b[49m\u001b[43m,\u001b[49m\u001b[43m \u001b[49m\u001b[43my_jitter\u001b[49m\u001b[38;5;241;43m=\u001b[39;49m\u001b[43my_jitter\u001b[49m\u001b[43m,\u001b[49m\u001b[43m \u001b[49m\u001b[43mlegend\u001b[49m\u001b[38;5;241;43m=\u001b[39;49m\u001b[43mlegend\u001b[49m\u001b[43m,\u001b[49m\n\u001b[1;32m    813\u001b[0m \u001b[43m    \u001b[49m\u001b[43m)\u001b[49m\n\u001b[1;32m    815\u001b[0m     p\u001b[38;5;241m.\u001b[39mmap_hue(palette\u001b[38;5;241m=\u001b[39mpalette, order\u001b[38;5;241m=\u001b[39mhue_order, norm\u001b[38;5;241m=\u001b[39mhue_norm)\n\u001b[1;32m    816\u001b[0m     p\u001b[38;5;241m.\u001b[39mmap_size(sizes\u001b[38;5;241m=\u001b[39msizes, order\u001b[38;5;241m=\u001b[39msize_order, norm\u001b[38;5;241m=\u001b[39msize_norm)\n",
      "File \u001b[0;32m/opt/conda/lib/python3.10/site-packages/seaborn/relational.py:587\u001b[0m, in \u001b[0;36m_ScatterPlotter.__init__\u001b[0;34m(self, data, variables, x_bins, y_bins, estimator, ci, n_boot, alpha, x_jitter, y_jitter, legend)\u001b[0m\n\u001b[1;32m    571\u001b[0m \u001b[38;5;28;01mdef\u001b[39;00m \u001b[38;5;21m__init__\u001b[39m(\n\u001b[1;32m    572\u001b[0m     \u001b[38;5;28mself\u001b[39m, \u001b[38;5;241m*\u001b[39m,\n\u001b[1;32m    573\u001b[0m     data\u001b[38;5;241m=\u001b[39m\u001b[38;5;28;01mNone\u001b[39;00m, variables\u001b[38;5;241m=\u001b[39m{},\n\u001b[0;32m   (...)\u001b[0m\n\u001b[1;32m    581\u001b[0m     \u001b[38;5;66;03m# the kind of plot to draw, but for the time being we need to set\u001b[39;00m\n\u001b[1;32m    582\u001b[0m     \u001b[38;5;66;03m# this information so the SizeMapping can use it\u001b[39;00m\n\u001b[1;32m    583\u001b[0m     \u001b[38;5;28mself\u001b[39m\u001b[38;5;241m.\u001b[39m_default_size_range \u001b[38;5;241m=\u001b[39m (\n\u001b[1;32m    584\u001b[0m         np\u001b[38;5;241m.\u001b[39mr_[\u001b[38;5;241m.5\u001b[39m, \u001b[38;5;241m2\u001b[39m] \u001b[38;5;241m*\u001b[39m np\u001b[38;5;241m.\u001b[39msquare(mpl\u001b[38;5;241m.\u001b[39mrcParams[\u001b[38;5;124m\"\u001b[39m\u001b[38;5;124mlines.markersize\u001b[39m\u001b[38;5;124m\"\u001b[39m])\n\u001b[1;32m    585\u001b[0m     )\n\u001b[0;32m--> 587\u001b[0m     \u001b[38;5;28;43msuper\u001b[39;49m\u001b[43m(\u001b[49m\u001b[43m)\u001b[49m\u001b[38;5;241;43m.\u001b[39;49m\u001b[38;5;21;43m__init__\u001b[39;49m\u001b[43m(\u001b[49m\u001b[43mdata\u001b[49m\u001b[38;5;241;43m=\u001b[39;49m\u001b[43mdata\u001b[49m\u001b[43m,\u001b[49m\u001b[43m \u001b[49m\u001b[43mvariables\u001b[49m\u001b[38;5;241;43m=\u001b[39;49m\u001b[43mvariables\u001b[49m\u001b[43m)\u001b[49m\n\u001b[1;32m    589\u001b[0m     \u001b[38;5;28mself\u001b[39m\u001b[38;5;241m.\u001b[39malpha \u001b[38;5;241m=\u001b[39m alpha\n\u001b[1;32m    590\u001b[0m     \u001b[38;5;28mself\u001b[39m\u001b[38;5;241m.\u001b[39mlegend \u001b[38;5;241m=\u001b[39m legend\n",
      "File \u001b[0;32m/opt/conda/lib/python3.10/site-packages/seaborn/_core.py:605\u001b[0m, in \u001b[0;36mVectorPlotter.__init__\u001b[0;34m(self, data, variables)\u001b[0m\n\u001b[1;32m    603\u001b[0m \u001b[38;5;28;01mdef\u001b[39;00m \u001b[38;5;21m__init__\u001b[39m(\u001b[38;5;28mself\u001b[39m, data\u001b[38;5;241m=\u001b[39m\u001b[38;5;28;01mNone\u001b[39;00m, variables\u001b[38;5;241m=\u001b[39m{}):\n\u001b[0;32m--> 605\u001b[0m     \u001b[38;5;28;43mself\u001b[39;49m\u001b[38;5;241;43m.\u001b[39;49m\u001b[43massign_variables\u001b[49m\u001b[43m(\u001b[49m\u001b[43mdata\u001b[49m\u001b[43m,\u001b[49m\u001b[43m \u001b[49m\u001b[43mvariables\u001b[49m\u001b[43m)\u001b[49m\n\u001b[1;32m    607\u001b[0m     \u001b[38;5;28;01mfor\u001b[39;00m var, \u001b[38;5;28mcls\u001b[39m \u001b[38;5;129;01min\u001b[39;00m \u001b[38;5;28mself\u001b[39m\u001b[38;5;241m.\u001b[39m_semantic_mappings\u001b[38;5;241m.\u001b[39mitems():\n\u001b[1;32m    608\u001b[0m \n\u001b[1;32m    609\u001b[0m         \u001b[38;5;66;03m# Create the mapping function\u001b[39;00m\n\u001b[1;32m    610\u001b[0m         map_func \u001b[38;5;241m=\u001b[39m partial(\u001b[38;5;28mcls\u001b[39m\u001b[38;5;241m.\u001b[39mmap, plotter\u001b[38;5;241m=\u001b[39m\u001b[38;5;28mself\u001b[39m)\n",
      "File \u001b[0;32m/opt/conda/lib/python3.10/site-packages/seaborn/_core.py:668\u001b[0m, in \u001b[0;36mVectorPlotter.assign_variables\u001b[0;34m(self, data, variables)\u001b[0m\n\u001b[1;32m    666\u001b[0m \u001b[38;5;28;01melse\u001b[39;00m:\n\u001b[1;32m    667\u001b[0m     \u001b[38;5;28mself\u001b[39m\u001b[38;5;241m.\u001b[39minput_format \u001b[38;5;241m=\u001b[39m \u001b[38;5;124m\"\u001b[39m\u001b[38;5;124mlong\u001b[39m\u001b[38;5;124m\"\u001b[39m\n\u001b[0;32m--> 668\u001b[0m     plot_data, variables \u001b[38;5;241m=\u001b[39m \u001b[38;5;28;43mself\u001b[39;49m\u001b[38;5;241;43m.\u001b[39;49m\u001b[43m_assign_variables_longform\u001b[49m\u001b[43m(\u001b[49m\n\u001b[1;32m    669\u001b[0m \u001b[43m        \u001b[49m\u001b[43mdata\u001b[49m\u001b[43m,\u001b[49m\u001b[43m \u001b[49m\u001b[38;5;241;43m*\u001b[39;49m\u001b[38;5;241;43m*\u001b[39;49m\u001b[43mvariables\u001b[49m\u001b[43m,\u001b[49m\n\u001b[1;32m    670\u001b[0m \u001b[43m    \u001b[49m\u001b[43m)\u001b[49m\n\u001b[1;32m    672\u001b[0m \u001b[38;5;28mself\u001b[39m\u001b[38;5;241m.\u001b[39mplot_data \u001b[38;5;241m=\u001b[39m plot_data\n\u001b[1;32m    673\u001b[0m \u001b[38;5;28mself\u001b[39m\u001b[38;5;241m.\u001b[39mvariables \u001b[38;5;241m=\u001b[39m variables\n",
      "File \u001b[0;32m/opt/conda/lib/python3.10/site-packages/seaborn/_core.py:903\u001b[0m, in \u001b[0;36mVectorPlotter._assign_variables_longform\u001b[0;34m(self, data, **kwargs)\u001b[0m\n\u001b[1;32m    898\u001b[0m \u001b[38;5;28;01melif\u001b[39;00m \u001b[38;5;28misinstance\u001b[39m(val, (\u001b[38;5;28mstr\u001b[39m, \u001b[38;5;28mbytes\u001b[39m)):\n\u001b[1;32m    899\u001b[0m \n\u001b[1;32m    900\u001b[0m     \u001b[38;5;66;03m# This looks like a column name but we don't know what it means!\u001b[39;00m\n\u001b[1;32m    902\u001b[0m     err \u001b[38;5;241m=\u001b[39m \u001b[38;5;124mf\u001b[39m\u001b[38;5;124m\"\u001b[39m\u001b[38;5;124mCould not interpret value `\u001b[39m\u001b[38;5;132;01m{\u001b[39;00mval\u001b[38;5;132;01m}\u001b[39;00m\u001b[38;5;124m` for parameter `\u001b[39m\u001b[38;5;132;01m{\u001b[39;00mkey\u001b[38;5;132;01m}\u001b[39;00m\u001b[38;5;124m`\u001b[39m\u001b[38;5;124m\"\u001b[39m\n\u001b[0;32m--> 903\u001b[0m     \u001b[38;5;28;01mraise\u001b[39;00m \u001b[38;5;167;01mValueError\u001b[39;00m(err)\n\u001b[1;32m    905\u001b[0m \u001b[38;5;28;01melse\u001b[39;00m:\n\u001b[1;32m    906\u001b[0m \n\u001b[1;32m    907\u001b[0m     \u001b[38;5;66;03m# Otherwise, assume the value is itself data\u001b[39;00m\n\u001b[1;32m    908\u001b[0m \n\u001b[1;32m    909\u001b[0m     \u001b[38;5;66;03m# Raise when data object is present and a vector can't matched\u001b[39;00m\n\u001b[1;32m    910\u001b[0m     \u001b[38;5;28;01mif\u001b[39;00m \u001b[38;5;28misinstance\u001b[39m(data, pd\u001b[38;5;241m.\u001b[39mDataFrame) \u001b[38;5;129;01mand\u001b[39;00m \u001b[38;5;129;01mnot\u001b[39;00m \u001b[38;5;28misinstance\u001b[39m(val, pd\u001b[38;5;241m.\u001b[39mSeries):\n",
      "\u001b[0;31mValueError\u001b[0m: Could not interpret value `ctw_prop` for parameter `x`"
     ]
    },
    {
     "data": {
      "image/png": "[encoded data removed]",
      "text/plain": [
       "<Figure size 720x576 with 1 Axes>"
      ]
     },
     "metadata": {
      "needs_background": "light"
     },
     "output_type": "display_data"
    }
   ],
   "source": [
    "fig, ax = plt.subplots(1, figsize = (10,8))\n",
    "sns.scatterplot(data = df, x=\"ctw_prop\", \n",
    "            y=\"dep4_prop\", ax=ax)\n",
    "                       \n",
    "plt.show()"
   ]
  },
  {
   "cell_type": "code",
   "execution_count": null,
   "id": "c7aa5059-07ab-4098-9d7c-bf230ccec1df",
   "metadata": {},
   "outputs": [],
   "source": []
  },
  {
   "cell_type": "code",
   "execution_count": null,
   "id": "8d71286d-0c59-4d4d-8b72-775031f26313",
   "metadata": {},
   "outputs": [],
   "source": [
    "df1 = df[[\"OA11CD\", \"LAD11NM\", \"PM252013me\", \"ctw_prop\", \"dep4_prop\"]]"
   ]
  },
  {
   "cell_type": "code",
   "execution_count": null,
   "id": "a285488a-4938-4bc7-a438-8539e369dc19",
   "metadata": {},
   "outputs": [],
   "source": [
    "df2 = df[[\"PM252013me\", \"ctw_prop\", \"dep4_prop\"]]"
   ]
  },
  {
   "cell_type": "markdown",
   "id": "5962b432-2a5d-4eeb-bfb8-bc69de5215e3",
   "metadata": {},
   "source": [
    "Testing correlation"
   ]
  },
  {
   "cell_type": "code",
   "execution_count": null,
   "id": "d6c759e5-7979-4921-bd22-f3797319af25",
   "metadata": {},
   "outputs": [],
   "source": [
    "f = plt.figure(figsize=(19, 15))\n",
    "plt.matshow(df2.corr(), fignum=f.number)\n",
    "plt.xticks(range(df2.shape[1]), df2.columns, fontsize=14, rotation=90)\n",
    "plt.yticks(range(df2.shape[1]), df2.columns, fontsize=14)\n",
    "cb = plt.colorbar()\n",
    "cb.ax.tick_params(labelsize=14)\n",
    "plt.title('Correlation Matrix', fontsize=16)"
   ]
  },
  {
   "cell_type": "markdown",
   "id": "f253eab5-050d-4084-aefe-4e50ffd4b45f",
   "metadata": {},
   "source": [
    "No correlation present/ found"
   ]
  },
  {
   "cell_type": "code",
   "execution_count": null,
   "id": "51140d00-6517-4f4d-8745-355536f9a635",
   "metadata": {},
   "outputs": [],
   "source": []
  },
  {
   "cell_type": "code",
   "execution_count": null,
   "id": "3ed3db90-f33f-4758-8d0a-5f8872c8b2f0",
   "metadata": {},
   "outputs": [],
   "source": []
  },
  {
   "cell_type": "code",
   "execution_count": null,
   "id": "0bfb5fc8-ed97-4104-88e5-a18d17a383c7",
   "metadata": {},
   "outputs": [],
   "source": [
    "model_cnt_aq_dep = ols('ctw_prop ~ PM252013me + dep4_prop', df1).fit()\n",
    "model_cnt_aq_dep.summary()"
   ]
  },
  {
   "cell_type": "code",
   "execution_count": null,
   "id": "b9c785a2-013d-4c0f-a169-92bb4402dc80",
   "metadata": {},
   "outputs": [],
   "source": [
    "fig = plt.figure(figsize=(14, 8))\n",
    "  \n",
    "# creating regression plots\n",
    "fig = sm.graphics.plot_regress_exog(model_cnt_aq_dep, 'PM252013me', fig=fig)"
   ]
  },
  {
   "cell_type": "markdown",
   "id": "87942913-4628-45ea-8965-26a998988761",
   "metadata": {},
   "source": [
    "### Train test split"
   ]
  },
  {
   "cell_type": "code",
   "execution_count": null,
   "id": "95770e39-3aee-47eb-8e68-60bc1afb5ea3",
   "metadata": {},
   "outputs": [],
   "source": [
    "x_train, x_test,y_train,y_test = train_test_split(df1[\"ctw_prop\"],df1[\"PM252013me\"],test_size =0.2)"
   ]
  },
  {
   "cell_type": "code",
   "execution_count": null,
   "id": "0b604597-d1bd-4f24-924b-86408e71a7fa",
   "metadata": {},
   "outputs": [],
   "source": [
    "#clf.predict(np.array(x_test).reshape(1,-1))"
   ]
  },
  {
   "cell_type": "code",
   "execution_count": null,
   "id": "6651cea5-c096-44d3-9fbc-234c7c1b3cfc",
   "metadata": {},
   "outputs": [],
   "source": [
    "olsmod = sm.OLS(y_train, x_train)\n",
    "olsres = olsmod.fit()\n",
    "print(olsres.summary())"
   ]
  },
  {
   "cell_type": "code",
   "execution_count": null,
   "id": "45323d87-ceac-4234-9ba3-8a662ae12fee",
   "metadata": {},
   "outputs": [],
   "source": [
    "ypred = olsres.predict(x_test)"
   ]
  },
  {
   "cell_type": "code",
   "execution_count": null,
   "id": "6e5969c6-4d27-41ed-84c4-708bd5223df6",
   "metadata": {},
   "outputs": [],
   "source": []
  },
  {
   "cell_type": "code",
   "execution_count": null,
   "id": "d8a69a60-6f1d-4668-b77a-a39323ca0d94",
   "metadata": {},
   "outputs": [],
   "source": [
    "sns.scatterplot(x=y_test, y = ypred)"
   ]
  },
  {
   "cell_type": "code",
   "execution_count": null,
   "id": "9a7d5b4a-4eb4-4848-857f-d8a300941150",
   "metadata": {},
   "outputs": [],
   "source": [
    "type(y_test)"
   ]
  },
  {
   "cell_type": "code",
   "execution_count": null,
   "id": "2356b9f4-bdea-4d3e-bf0b-6ad3a622cb9e",
   "metadata": {},
   "outputs": [],
   "source": [
    "y_test = np.array(y_test).reshape(1,-1)\n",
    "ypred = np.array(ypred).reshape(1,-1)"
   ]
  },
  {
   "cell_type": "code",
   "execution_count": null,
   "id": "c0125713-ae99-4565-a335-efd7ba04a0d5",
   "metadata": {},
   "outputs": [],
   "source": [
    "from sklearn.metrics import accuracy_score"
   ]
  },
  {
   "cell_type": "code",
   "execution_count": null,
   "id": "f3de959b-662f-4dd1-9c94-deaacce770e3",
   "metadata": {},
   "outputs": [],
   "source": [
    "accuracy_score(y_test, ypred)"
   ]
  },
  {
   "cell_type": "code",
   "execution_count": null,
   "id": "cd225a43-c1c9-41b1-b8ab-188a8081e10f",
   "metadata": {},
   "outputs": [],
   "source": []
  },
  {
   "cell_type": "code",
   "execution_count": null,
   "id": "552b4458-d390-4928-a129-dbc2ebab4522",
   "metadata": {},
   "outputs": [],
   "source": [
    "model_cnt_aq_dep = ols('ctw_prop ~ PM252013me', df1).fit()\n",
    "model_cnt_aq_dep.summary()"
   ]
  },
  {
   "cell_type": "markdown",
   "id": "01a75f27-4e11-4e59-b218-50e87072a4fe",
   "metadata": {
    "jp-MarkdownHeadingCollapsed": true,
    "tags": []
   },
   "source": [
    "# 4.2. Appropriate plots to illustrate relationship between key fields"
   ]
  },
  {
   "cell_type": "markdown",
   "id": "cd02b718-15e9-49df-a53b-fc149ce52696",
   "metadata": {},
   "source": [
    "# References\n",
    "\n",
    "Liu, C., Chen, R., Sera, F., Vicedo-Cabrera, A.M., Guo, Y., Tong, S., Coelho, M.S., Saldiva, P.H., Lavigne, E., Matus, P. and Valdes Ortega, N., 2019. Ambient particulate air pollution and daily mortality in 652 cities. New England Journal of Medicine, 381(8), pp.705-715."
   ]
  },
  {
   "cell_type": "code",
   "execution_count": null,
   "id": "ae9df771-7172-4645-b797-ef7b92466e91",
   "metadata": {},
   "outputs": [],
   "source": []
  }
 ],
 "metadata": {
  "kernelspec": {
   "display_name": "Python 3 (ipykernel)",
   "language": "python",
   "name": "python3"
  },
  "language_info": {
   "codemirror_mode": {
    "name": "ipython",
    "version": 3
   },
   "file_extension": ".py",
   "mimetype": "text/x-python",
   "name": "python",
   "nbconvert_exporter": "python",
   "pygments_lexer": "ipython3",
   "version": "3.10.5"
  }
 },
 "nbformat": 4,
 "nbformat_minor": 5
}
