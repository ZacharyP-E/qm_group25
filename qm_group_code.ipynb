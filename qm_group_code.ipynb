{
 "cells": [
  {
   "cell_type": "markdown",
   "id": "66af2597-90f7-4344-8866-826ce22619f6",
   "metadata": {},
   "source": [
    "# CASA0007 - Quantitative Methods Group Project\n",
    "## Group 25"
   ]
  },
  {
   "cell_type": "code",
   "execution_count": 18,
   "id": "bdb7df5d-44d8-423a-98cd-a87f308f34ac",
   "metadata": {},
   "outputs": [
    {
     "name": "stdout",
     "output_type": "stream",
     "text": [
      "Collecting fitter\n",
      "  Downloading fitter-1.5.1.tar.gz (27 kB)\n",
      "  Preparing metadata (setup.py) ... \u001b[?25ldone\n",
      "\u001b[?25hRequirement already satisfied: click in /opt/conda/lib/python3.10/site-packages (from fitter) (8.1.3)\n",
      "Requirement already satisfied: joblib in /opt/conda/lib/python3.10/site-packages (from fitter) (1.1.0)\n",
      "Requirement already satisfied: matplotlib in /opt/conda/lib/python3.10/site-packages (from fitter) (3.5.2)\n",
      "Requirement already satisfied: numpy in /opt/conda/lib/python3.10/site-packages (from fitter) (1.22.4)\n",
      "Requirement already satisfied: pandas in /opt/conda/lib/python3.10/site-packages (from fitter) (1.4.3)\n",
      "Requirement already satisfied: scipy>=0.18 in /opt/conda/lib/python3.10/site-packages (from fitter) (1.9.1)\n",
      "Requirement already satisfied: tqdm in /opt/conda/lib/python3.10/site-packages (from fitter) (4.64.0)\n",
      "Requirement already satisfied: cycler>=0.10 in /opt/conda/lib/python3.10/site-packages (from matplotlib->fitter) (0.11.0)\n",
      "Requirement already satisfied: pillow>=6.2.0 in /opt/conda/lib/python3.10/site-packages (from matplotlib->fitter) (9.2.0)\n",
      "Requirement already satisfied: python-dateutil>=2.7 in /opt/conda/lib/python3.10/site-packages (from matplotlib->fitter) (2.8.2)\n",
      "Requirement already satisfied: packaging>=20.0 in /opt/conda/lib/python3.10/site-packages (from matplotlib->fitter) (21.3)\n",
      "Requirement already satisfied: fonttools>=4.22.0 in /opt/conda/lib/python3.10/site-packages (from matplotlib->fitter) (4.34.4)\n",
      "Requirement already satisfied: pyparsing>=2.2.1 in /opt/conda/lib/python3.10/site-packages (from matplotlib->fitter) (3.0.9)\n",
      "Requirement already satisfied: kiwisolver>=1.0.1 in /opt/conda/lib/python3.10/site-packages (from matplotlib->fitter) (1.4.4)\n",
      "Requirement already satisfied: pytz>=2020.1 in /opt/conda/lib/python3.10/site-packages (from pandas->fitter) (2022.1)\n",
      "Requirement already satisfied: six>=1.5 in /opt/conda/lib/python3.10/site-packages (from python-dateutil>=2.7->matplotlib->fitter) (1.16.0)\n",
      "Building wheels for collected packages: fitter\n",
      "  Building wheel for fitter (setup.py) ... \u001b[?25ldone\n",
      "\u001b[?25h  Created wheel for fitter: filename=fitter-1.5.1-py3-none-any.whl size=25596 sha256=4a1de6436b3ca3ab880e0aa0ff0b5a99538ba60af950537390bcb8e50b6f933d\n",
      "  Stored in directory: /home/jovyan/.cache/pip/wheels/b6/54/95/86a0ae87e8aa67a18b6353ec719a161db02401df3ff6f7f07d\n",
      "Successfully built fitter\n",
      "Installing collected packages: fitter\n",
      "Successfully installed fitter-1.5.1\n"
     ]
    }
   ],
   "source": [
    "#Reading in libaries\n",
    "import pandas as pd\n",
    "import numpy as np\n",
    "import matplotlib.pyplot as plt\n",
    "import seaborn as sns"
   ]
  },
  {
   "cell_type": "markdown",
   "id": "13af03a1-7cc4-4cf9-96e3-8fe33a231396",
   "metadata": {},
   "source": [
    "## 1. Context of the data"
   ]
  },
  {
   "cell_type": "markdown",
   "id": "0cfe7b0f-7fef-4ec3-952c-4800224b5248",
   "metadata": {},
   "source": [
    "### 1.0. Aggregation Level - Zach"
   ]
  },
  {
   "cell_type": "markdown",
   "id": "e4fb7530-c968-4fed-a73e-8b90556d538a",
   "metadata": {},
   "source": [
    "Data is aggregated to the Output Area (OA) Level. This being the smallest level of aggregation that the census data is released on by the ONS (Office of National Statistics). \n",
    "- Each OA contains between 40 and 250 households, leading to an estimated population of between 100 and 625. \n",
    "- **Limitation** of aggregation level: OAs change between each census (10 year lifecycle) due to variation in population density, meaning data cannot always be compared between census' easily. \n",
    "\n",
    "\n",
    "\n",
    "\n",
    "**UK Administrative Units**\n",
    "1. Output Areas (OAs)\n",
    "2. Lower Super Output Areas (LSOAs)\n",
    "3. Middle layer Super Output Areas (MSOAs)\n",
    "4. Boroughs/ Local Administrative Unit (LAD)\n"
   ]
  },
  {
   "cell_type": "code",
   "execution_count": null,
   "id": "ddaa67f6-69f2-4cce-8aec-d27836ff382c",
   "metadata": {},
   "outputs": [],
   "source": []
  },
  {
   "cell_type": "markdown",
   "id": "62138729-5e3a-4566-88f4-35132530814b",
   "metadata": {},
   "source": [
    "### 1.1. Cycle to work - Joe\n",
    "This dataset is from the 2011 Census. Results are based off a Census question that classifies usual residents aged 16 to 74 in England and Wales by their method of travel to work, disaggregated by Census Output Area (OA). The estimates are as at census day, 27 March 2011 (single time snapshot). The dataset can be found [here](https://www.nomisweb.co.uk/census/2011/qs701ew)."
   ]
  },
  {
   "cell_type": "markdown",
   "id": "1dad1f93-b9f6-4372-a4e3-dc436539d26b",
   "metadata": {},
   "source": [
    "### 1.2. Deprivation - Yubin"
   ]
  },
  {
   "cell_type": "markdown",
   "id": "c197b1d7-ece4-42f1-b916-838c8ccfd26a",
   "metadata": {},
   "source": [
    "The dataset is based on the 2011 Census provided by Office for National Statistics (ONS), classified households in England and Wales through four domains of deprivation: Employment, Education, Health and disability, and Household overcrowding. It is a nationally representative data and the estimates are as at census day, 27 March 2011.\n",
    "\n",
    "A household would be defined as deprived if they meet one or more of the following conditions:\n",
    "1. Employment: Any member of a household, who is not a full-time student, is either unemployed or long-term sick.\n",
    "2. Education: No person in the household has at least Level 2 education (see highest level of qualification), and no person aged 16 to 18 is a full-time student.\n",
    "3. Health and disability: Any person in the household has general health that is 'bad' or 'very bad' or has a long-term health problem.\n",
    "4. Housing: The household's accommodation is either overcrowded, with an occupancy rating -1 or less, or is in a shared dwelling, or has no central heating.\n"
   ]
  },
  {
   "cell_type": "markdown",
   "id": "f75e1470-8035-40b8-a999-62d3a219ee89",
   "metadata": {
    "tags": []
   },
   "source": [
    "### 1.3. Air Quality - Zach [[Data](https://data.london.gov.uk/dataset/pm2-5-map-and-exposure-data)]\n",
    "\n",
    "This dataset identifies modelled PM<sub>2.5 </sub>(particulate matter of diameter 2.5 micrometers or less) across London's Output Areas. \n",
    "- Modelled by Tfl (Transport for London) and GLA (Greater London Authority)\n",
    "\n",
    "Increased exposure to high levels of partculate matter have been linked to increased rate of cardiovascular and respiratory disease (Liu, 2019). \n",
    "\n",
    "This data is being considered due to the assumption that emission levels infulence the decision making process of commuters. This emissions data could be used as a proxy for volume of motor vehicles, or considered as a variable having an impact by itself on decision making.\n",
    "\n",
    "\n",
    "\n",
    "| Variable| Unit | Description |\n",
    "| --- | --- | --- |\n",
    "| PM<sub>2.5 </sub> | µg/m<sup>3 </sup>| Modelled concentration of particulate matter with diameter or 2.5 micrometers or less. | \n",
    "\n",
    "\n",
    "**Limitations:**\n",
    "- Assuming causality of air quality and commuting choice would be incorrect. It is possible that air pollution is low due to choice of pollution. Suggesting an inverse relationship to that initally proposed. \n"
   ]
  },
  {
   "cell_type": "markdown",
   "id": "afc0c614-e365-40e8-b8b2-deff04f56fc1",
   "metadata": {},
   "source": [
    "### 1.4. Cycle Sharing"
   ]
  },
  {
   "cell_type": "markdown",
   "id": "942ee2c8-b01a-4a13-99e3-526699b66ca0",
   "metadata": {
    "tags": []
   },
   "source": [
    "## 2. Description of data fields/ variables"
   ]
  },
  {
   "cell_type": "markdown",
   "id": "fdbce897-cf2f-4053-8b6b-6fb82f73652d",
   "metadata": {
    "tags": []
   },
   "source": [
    "### 2.1. Cycle to work - Joe\n",
    "* Read in the data"
   ]
  },
  {
   "cell_type": "code",
   "execution_count": 7,
   "id": "9a600c09-bdea-4e05-a940-89196c066520",
   "metadata": {},
   "outputs": [
    {
     "data": {
      "text/plain": [
       "Index(['date', 'geography', 'geography code', 'Rural Urban',\n",
       "       'Method of Travel to Work: All categories: Method of travel to work; measures: Value',\n",
       "       'Method of Travel to Work: Work mainly at or from home; measures: Value',\n",
       "       'Method of Travel to Work: Underground, metro, light rail, tram; measures: Value',\n",
       "       'Method of Travel to Work: Train; measures: Value',\n",
       "       'Method of Travel to Work: Bus, minibus or coach; measures: Value',\n",
       "       'Method of Travel to Work: Taxi; measures: Value',\n",
       "       'Method of Travel to Work: Motorcycle, scooter or moped; measures: Value',\n",
       "       'Method of Travel to Work: Driving a car or van; measures: Value',\n",
       "       'Method of Travel to Work: Passenger in a car or van; measures: Value',\n",
       "       'Method of Travel to Work: Bicycle; measures: Value',\n",
       "       'Method of Travel to Work: On foot; measures: Value',\n",
       "       'Method of Travel to Work: Other method of travel to work; measures: Value',\n",
       "       'Method of Travel to Work: Not in employment; measures: Value'],\n",
       "      dtype='object')"
      ]
     },
     "execution_count": 7,
     "metadata": {},
     "output_type": "execute_result"
    }
   ],
   "source": [
    "cycletowork = pd.read_csv('data/cycleing_to_work_oa.csv')\n",
    "cycletowork.columns"
   ]
  },
  {
   "cell_type": "markdown",
   "id": "452e995b-4f8c-438f-8674-ddc76a73384f",
   "metadata": {},
   "source": [
    "* Drop unnecessary columns"
   ]
  },
  {
   "cell_type": "code",
   "execution_count": 8,
   "id": "4bdf18b5-f29f-4837-ab9a-6456011dea58",
   "metadata": {},
   "outputs": [
    {
     "data": {
      "text/plain": [
       "Index(['date', 'geography code',\n",
       "       'Method of Travel to Work: Bicycle; measures: Value',\n",
       "       'Method of Travel to Work: All categories: Method of travel to work; measures: Value'],\n",
       "      dtype='object')"
      ]
     },
     "execution_count": 8,
     "metadata": {},
     "output_type": "execute_result"
    }
   ],
   "source": [
    "cycletowork = cycletowork[['date',\n",
    "                           'geography code',\n",
    "                           'Method of Travel to Work: Bicycle; measures: Value',\n",
    "                           'Method of Travel to Work: All categories: Method of travel to work; measures: Value']]\n",
    "cycletowork.columns"
   ]
  },
  {
   "cell_type": "code",
   "execution_count": 33,
   "id": "fdd75b08-2662-4963-9719-fc93d5bf163f",
   "metadata": {},
   "outputs": [
    {
     "data": {
      "text/plain": [
       "date                                                                                    int64\n",
       "geography code                                                                         object\n",
       "Method of Travel to Work: Bicycle; measures: Value                                      int64\n",
       "Method of Travel to Work: All categories: Method of travel to work; measures: Value     int64\n",
       "dtype: object"
      ]
     },
     "execution_count": 33,
     "metadata": {},
     "output_type": "execute_result"
    }
   ],
   "source": [
    "cycletowork.dtypes"
   ]
  },
  {
   "cell_type": "code",
   "execution_count": 34,
   "id": "bb858e46-ea33-4bc9-8e75-d50504699249",
   "metadata": {},
   "outputs": [
    {
     "data": {
      "text/html": [
       "<div>\n",
       "<style scoped>\n",
       "    .dataframe tbody tr th:only-of-type {\n",
       "        vertical-align: middle;\n",
       "    }\n",
       "\n",
       "    .dataframe tbody tr th {\n",
       "        vertical-align: top;\n",
       "    }\n",
       "\n",
       "    .dataframe thead th {\n",
       "        text-align: right;\n",
       "    }\n",
       "</style>\n",
       "<table border=\"1\" class=\"dataframe\">\n",
       "  <thead>\n",
       "    <tr style=\"text-align: right;\">\n",
       "      <th></th>\n",
       "      <th>date</th>\n",
       "      <th>geography code</th>\n",
       "      <th>Method of Travel to Work: Bicycle; measures: Value</th>\n",
       "      <th>Method of Travel to Work: All categories: Method of travel to work; measures: Value</th>\n",
       "    </tr>\n",
       "  </thead>\n",
       "  <tbody>\n",
       "    <tr>\n",
       "      <th>0</th>\n",
       "      <td>2011</td>\n",
       "      <td>E00004482</td>\n",
       "      <td>34</td>\n",
       "      <td>235</td>\n",
       "    </tr>\n",
       "    <tr>\n",
       "      <th>1</th>\n",
       "      <td>2011</td>\n",
       "      <td>E00004497</td>\n",
       "      <td>12</td>\n",
       "      <td>192</td>\n",
       "    </tr>\n",
       "    <tr>\n",
       "      <th>2</th>\n",
       "      <td>2011</td>\n",
       "      <td>E00004498</td>\n",
       "      <td>13</td>\n",
       "      <td>235</td>\n",
       "    </tr>\n",
       "    <tr>\n",
       "      <th>3</th>\n",
       "      <td>2011</td>\n",
       "      <td>E00004502</td>\n",
       "      <td>6</td>\n",
       "      <td>187</td>\n",
       "    </tr>\n",
       "    <tr>\n",
       "      <th>4</th>\n",
       "      <td>2011</td>\n",
       "      <td>E00004505</td>\n",
       "      <td>12</td>\n",
       "      <td>213</td>\n",
       "    </tr>\n",
       "  </tbody>\n",
       "</table>\n",
       "</div>"
      ],
      "text/plain": [
       "   date geography code  Method of Travel to Work: Bicycle; measures: Value  \\\n",
       "0  2011      E00004482                                                 34    \n",
       "1  2011      E00004497                                                 12    \n",
       "2  2011      E00004498                                                 13    \n",
       "3  2011      E00004502                                                  6    \n",
       "4  2011      E00004505                                                 12    \n",
       "\n",
       "   Method of Travel to Work: All categories: Method of travel to work; measures: Value  \n",
       "0                                                235                                    \n",
       "1                                                192                                    \n",
       "2                                                235                                    \n",
       "3                                                187                                    \n",
       "4                                                213                                    "
      ]
     },
     "execution_count": 34,
     "metadata": {},
     "output_type": "execute_result"
    }
   ],
   "source": [
    "cycletowork.head(5)"
   ]
  },
  {
   "cell_type": "markdown",
   "id": "e9a8da74-8671-4730-ae84-f18f6b2ad2f5",
   "metadata": {},
   "source": [
    "The relevant fields for our analysis are as follows:  \n",
    "| Field name  | Data type  | Description  |\n",
    "|---|---|---|\n",
    "| Date  | Integer  | Year data  was collected (2011 census)  |\n",
    "| Geography code  | String  | Census Output Area unique identifier. The string format can be used to filter OAs by UK region.  |\n",
    "| Method of Travel to Work: Bicycle  | Integer  | Count of residents aged 16 to 74 who used a bicycle as their method of travel to work on the Census date  |\n",
    "| Method of Travel to Work: All categories  | Integer  | Total count of residents aged 16 to 74 who provided a response for method of travel to work on the census date  |"
   ]
  },
  {
   "cell_type": "markdown",
   "id": "70c477c9-090d-4a1e-822c-04dc1745de85",
   "metadata": {},
   "source": [
    "### 2.2. Deprivation"
   ]
  },
  {
   "cell_type": "code",
   "execution_count": 116,
   "id": "7123a210-fa74-48b3-95a6-98c28bda90fc",
   "metadata": {},
   "outputs": [
    {
     "data": {
      "text/html": [
       "<div>\n",
       "<style scoped>\n",
       "    .dataframe tbody tr th:only-of-type {\n",
       "        vertical-align: middle;\n",
       "    }\n",
       "\n",
       "    .dataframe tbody tr th {\n",
       "        vertical-align: top;\n",
       "    }\n",
       "\n",
       "    .dataframe thead th {\n",
       "        text-align: right;\n",
       "    }\n",
       "</style>\n",
       "<table border=\"1\" class=\"dataframe\">\n",
       "  <thead>\n",
       "    <tr style=\"text-align: right;\">\n",
       "      <th></th>\n",
       "      <th>date</th>\n",
       "      <th>geography</th>\n",
       "      <th>geography code</th>\n",
       "      <th>Rural Urban</th>\n",
       "      <th>Household Deprivation: All categories: Classification of household deprivation; measures: Value</th>\n",
       "      <th>Household Deprivation: Household is not deprived in any dimension; measures: Value</th>\n",
       "      <th>Household Deprivation: Household is deprived in 1 dimension; measures: Value</th>\n",
       "      <th>Household Deprivation: Household is deprived in 2 dimensions; measures: Value</th>\n",
       "      <th>Household Deprivation: Household is deprived in 3 dimensions; measures: Value</th>\n",
       "      <th>Household Deprivation: Household is deprived in 4 dimensions; measures: Value</th>\n",
       "    </tr>\n",
       "  </thead>\n",
       "  <tbody>\n",
       "    <tr>\n",
       "      <th>0</th>\n",
       "      <td>2011</td>\n",
       "      <td>E00004482</td>\n",
       "      <td>E00004482</td>\n",
       "      <td>Total</td>\n",
       "      <td>121</td>\n",
       "      <td>71</td>\n",
       "      <td>30</td>\n",
       "      <td>16</td>\n",
       "      <td>4</td>\n",
       "      <td>0</td>\n",
       "    </tr>\n",
       "    <tr>\n",
       "      <th>1</th>\n",
       "      <td>2011</td>\n",
       "      <td>E00004497</td>\n",
       "      <td>E00004497</td>\n",
       "      <td>Total</td>\n",
       "      <td>117</td>\n",
       "      <td>32</td>\n",
       "      <td>30</td>\n",
       "      <td>33</td>\n",
       "      <td>17</td>\n",
       "      <td>5</td>\n",
       "    </tr>\n",
       "    <tr>\n",
       "      <th>2</th>\n",
       "      <td>2011</td>\n",
       "      <td>E00004498</td>\n",
       "      <td>E00004498</td>\n",
       "      <td>Total</td>\n",
       "      <td>145</td>\n",
       "      <td>43</td>\n",
       "      <td>50</td>\n",
       "      <td>36</td>\n",
       "      <td>15</td>\n",
       "      <td>1</td>\n",
       "    </tr>\n",
       "    <tr>\n",
       "      <th>3</th>\n",
       "      <td>2011</td>\n",
       "      <td>E00004502</td>\n",
       "      <td>E00004502</td>\n",
       "      <td>Total</td>\n",
       "      <td>120</td>\n",
       "      <td>30</td>\n",
       "      <td>39</td>\n",
       "      <td>29</td>\n",
       "      <td>20</td>\n",
       "      <td>2</td>\n",
       "    </tr>\n",
       "    <tr>\n",
       "      <th>4</th>\n",
       "      <td>2011</td>\n",
       "      <td>E00004505</td>\n",
       "      <td>E00004505</td>\n",
       "      <td>Total</td>\n",
       "      <td>124</td>\n",
       "      <td>50</td>\n",
       "      <td>26</td>\n",
       "      <td>28</td>\n",
       "      <td>18</td>\n",
       "      <td>2</td>\n",
       "    </tr>\n",
       "    <tr>\n",
       "      <th>5</th>\n",
       "      <td>2011</td>\n",
       "      <td>E00004481</td>\n",
       "      <td>E00004481</td>\n",
       "      <td>Total</td>\n",
       "      <td>133</td>\n",
       "      <td>39</td>\n",
       "      <td>43</td>\n",
       "      <td>37</td>\n",
       "      <td>14</td>\n",
       "      <td>0</td>\n",
       "    </tr>\n",
       "    <tr>\n",
       "      <th>6</th>\n",
       "      <td>2011</td>\n",
       "      <td>E00004493</td>\n",
       "      <td>E00004493</td>\n",
       "      <td>Total</td>\n",
       "      <td>118</td>\n",
       "      <td>39</td>\n",
       "      <td>54</td>\n",
       "      <td>14</td>\n",
       "      <td>6</td>\n",
       "      <td>5</td>\n",
       "    </tr>\n",
       "    <tr>\n",
       "      <th>7</th>\n",
       "      <td>2011</td>\n",
       "      <td>E00004500</td>\n",
       "      <td>E00004500</td>\n",
       "      <td>Total</td>\n",
       "      <td>131</td>\n",
       "      <td>37</td>\n",
       "      <td>58</td>\n",
       "      <td>26</td>\n",
       "      <td>9</td>\n",
       "      <td>1</td>\n",
       "    </tr>\n",
       "    <tr>\n",
       "      <th>8</th>\n",
       "      <td>2011</td>\n",
       "      <td>E00004501</td>\n",
       "      <td>E00004501</td>\n",
       "      <td>Total</td>\n",
       "      <td>76</td>\n",
       "      <td>28</td>\n",
       "      <td>25</td>\n",
       "      <td>16</td>\n",
       "      <td>6</td>\n",
       "      <td>1</td>\n",
       "    </tr>\n",
       "    <tr>\n",
       "      <th>9</th>\n",
       "      <td>2011</td>\n",
       "      <td>E00004503</td>\n",
       "      <td>E00004503</td>\n",
       "      <td>Total</td>\n",
       "      <td>132</td>\n",
       "      <td>32</td>\n",
       "      <td>52</td>\n",
       "      <td>35</td>\n",
       "      <td>12</td>\n",
       "      <td>1</td>\n",
       "    </tr>\n",
       "  </tbody>\n",
       "</table>\n",
       "</div>"
      ],
      "text/plain": [
       "   date  geography geography code Rural Urban  \\\n",
       "0  2011  E00004482      E00004482       Total   \n",
       "1  2011  E00004497      E00004497       Total   \n",
       "2  2011  E00004498      E00004498       Total   \n",
       "3  2011  E00004502      E00004502       Total   \n",
       "4  2011  E00004505      E00004505       Total   \n",
       "5  2011  E00004481      E00004481       Total   \n",
       "6  2011  E00004493      E00004493       Total   \n",
       "7  2011  E00004500      E00004500       Total   \n",
       "8  2011  E00004501      E00004501       Total   \n",
       "9  2011  E00004503      E00004503       Total   \n",
       "\n",
       "   Household Deprivation: All categories: Classification of household deprivation; measures: Value  \\\n",
       "0                                                121                                                 \n",
       "1                                                117                                                 \n",
       "2                                                145                                                 \n",
       "3                                                120                                                 \n",
       "4                                                124                                                 \n",
       "5                                                133                                                 \n",
       "6                                                118                                                 \n",
       "7                                                131                                                 \n",
       "8                                                 76                                                 \n",
       "9                                                132                                                 \n",
       "\n",
       "   Household Deprivation: Household is not deprived in any dimension; measures: Value  \\\n",
       "0                                                 71                                    \n",
       "1                                                 32                                    \n",
       "2                                                 43                                    \n",
       "3                                                 30                                    \n",
       "4                                                 50                                    \n",
       "5                                                 39                                    \n",
       "6                                                 39                                    \n",
       "7                                                 37                                    \n",
       "8                                                 28                                    \n",
       "9                                                 32                                    \n",
       "\n",
       "   Household Deprivation: Household is deprived in 1 dimension; measures: Value  \\\n",
       "0                                                 30                              \n",
       "1                                                 30                              \n",
       "2                                                 50                              \n",
       "3                                                 39                              \n",
       "4                                                 26                              \n",
       "5                                                 43                              \n",
       "6                                                 54                              \n",
       "7                                                 58                              \n",
       "8                                                 25                              \n",
       "9                                                 52                              \n",
       "\n",
       "   Household Deprivation: Household is deprived in 2 dimensions; measures: Value  \\\n",
       "0                                                 16                               \n",
       "1                                                 33                               \n",
       "2                                                 36                               \n",
       "3                                                 29                               \n",
       "4                                                 28                               \n",
       "5                                                 37                               \n",
       "6                                                 14                               \n",
       "7                                                 26                               \n",
       "8                                                 16                               \n",
       "9                                                 35                               \n",
       "\n",
       "   Household Deprivation: Household is deprived in 3 dimensions; measures: Value  \\\n",
       "0                                                  4                               \n",
       "1                                                 17                               \n",
       "2                                                 15                               \n",
       "3                                                 20                               \n",
       "4                                                 18                               \n",
       "5                                                 14                               \n",
       "6                                                  6                               \n",
       "7                                                  9                               \n",
       "8                                                  6                               \n",
       "9                                                 12                               \n",
       "\n",
       "   Household Deprivation: Household is deprived in 4 dimensions; measures: Value  \n",
       "0                                                  0                              \n",
       "1                                                  5                              \n",
       "2                                                  1                              \n",
       "3                                                  2                              \n",
       "4                                                  2                              \n",
       "5                                                  0                              \n",
       "6                                                  5                              \n",
       "7                                                  1                              \n",
       "8                                                  1                              \n",
       "9                                                  1                              "
      ]
     },
     "execution_count": 116,
     "metadata": {},
     "output_type": "execute_result"
    }
   ],
   "source": [
    "deprivation = pd.read_csv('https://github.com/ZacharyP-E/qm_group25/blob/fcde288de69abe4f7dd76d6b156ebd82201d619a/data/deprivation_oa.csv')\n",
    "deprivation.head(10)"
   ]
  },
  {
   "cell_type": "markdown",
   "id": "f370e8e1-08b1-4e94-8331-a6687ff9f621",
   "metadata": {},
   "source": [
    "### 2.3. Air Quality - Zach"
   ]
  },
  {
   "cell_type": "code",
   "execution_count": 4,
   "id": "4555171b-cb76-4b78-ae2e-9395823841d3",
   "metadata": {},
   "outputs": [],
   "source": [
    "#Reading in data\n",
    "aq_df = pd.read_csv(\"data/OA2_PM25_2013.csv\")"
   ]
  },
  {
   "cell_type": "code",
   "execution_count": 6,
   "id": "1d9dd1b3-d7f2-43ab-8060-b61659047882",
   "metadata": {},
   "outputs": [
    {
     "data": {
      "text/html": [
       "<div>\n",
       "<style scoped>\n",
       "    .dataframe tbody tr th:only-of-type {\n",
       "        vertical-align: middle;\n",
       "    }\n",
       "\n",
       "    .dataframe tbody tr th {\n",
       "        vertical-align: top;\n",
       "    }\n",
       "\n",
       "    .dataframe thead th {\n",
       "        text-align: right;\n",
       "    }\n",
       "</style>\n",
       "<table border=\"1\" class=\"dataframe\">\n",
       "  <thead>\n",
       "    <tr style=\"text-align: right;\">\n",
       "      <th></th>\n",
       "      <th>OA11CD</th>\n",
       "      <th>LAD11NM</th>\n",
       "      <th>PM252013me</th>\n",
       "    </tr>\n",
       "  </thead>\n",
       "  <tbody>\n",
       "    <tr>\n",
       "      <th>0</th>\n",
       "      <td>E00024024</td>\n",
       "      <td>Westminster</td>\n",
       "      <td>17.953073</td>\n",
       "    </tr>\n",
       "    <tr>\n",
       "      <th>1</th>\n",
       "      <td>E00023833</td>\n",
       "      <td>Westminster</td>\n",
       "      <td>18.183844</td>\n",
       "    </tr>\n",
       "    <tr>\n",
       "      <th>2</th>\n",
       "      <td>E00023830</td>\n",
       "      <td>Westminster</td>\n",
       "      <td>18.732058</td>\n",
       "    </tr>\n",
       "    <tr>\n",
       "      <th>3</th>\n",
       "      <td>E00023831</td>\n",
       "      <td>Westminster</td>\n",
       "      <td>17.909357</td>\n",
       "    </tr>\n",
       "    <tr>\n",
       "      <th>4</th>\n",
       "      <td>E00024021</td>\n",
       "      <td>Westminster</td>\n",
       "      <td>17.185809</td>\n",
       "    </tr>\n",
       "  </tbody>\n",
       "</table>\n",
       "</div>"
      ],
      "text/plain": [
       "      OA11CD      LAD11NM  PM252013me\n",
       "0  E00024024  Westminster   17.953073\n",
       "1  E00023833  Westminster   18.183844\n",
       "2  E00023830  Westminster   18.732058\n",
       "3  E00023831  Westminster   17.909357\n",
       "4  E00024021  Westminster   17.185809"
      ]
     },
     "execution_count": 6,
     "metadata": {},
     "output_type": "execute_result"
    }
   ],
   "source": [
    "#Identifying usable columns\n",
    "aq_df.head()"
   ]
  },
  {
   "cell_type": "markdown",
   "id": "9eba8d4b-d0f1-4533-99ef-131ab558d376",
   "metadata": {},
   "source": [
    "Columns:\n",
    "- OA11CD refers to the unique Output Area code, allowing merging with other data as an explanatory variable. \n",
    "- LAD11NM refers to the Borough (three levels of aggregation above OAs) that the OA is within. Boroughs are local administrative units that resources are allocatacted to, which are then distributed across the OAs dependnent on needs. "
   ]
  },
  {
   "cell_type": "markdown",
   "id": "406551aa-066a-4d11-a236-31fc6c93ba61",
   "metadata": {},
   "source": [
    "### 2.4. Cycle Sharing"
   ]
  },
  {
   "cell_type": "markdown",
   "id": "46cb6a1f-e6b4-42c9-82f3-3f7723ed8e15",
   "metadata": {},
   "source": [
    "## 3. Summary statistic fields"
   ]
  },
  {
   "cell_type": "markdown",
   "id": "d9a87925-6bda-4637-8cf9-a7efcf391fdd",
   "metadata": {},
   "source": [
    "### 3.1. Cycle to Work - Joe"
   ]
  },
  {
   "cell_type": "markdown",
   "id": "df67632e-6fe0-40e7-ac43-ff20d1b6445c",
   "metadata": {},
   "source": [
    "### 3.2. Deprivation - Yubin"
   ]
  },
  {
   "cell_type": "markdown",
   "id": "a9830ac0-cae7-490d-bb72-90629ac05b6d",
   "metadata": {},
   "source": [
    "### 3.3. Air Quality - Zach"
   ]
  },
  {
   "cell_type": "code",
   "execution_count": 11,
   "id": "0f8222c6-70e5-4aab-aacc-70ed9541496e",
   "metadata": {},
   "outputs": [
    {
     "data": {
      "text/html": [
       "<div>\n",
       "<style scoped>\n",
       "    .dataframe tbody tr th:only-of-type {\n",
       "        vertical-align: middle;\n",
       "    }\n",
       "\n",
       "    .dataframe tbody tr th {\n",
       "        vertical-align: top;\n",
       "    }\n",
       "\n",
       "    .dataframe thead th {\n",
       "        text-align: right;\n",
       "    }\n",
       "</style>\n",
       "<table border=\"1\" class=\"dataframe\">\n",
       "  <thead>\n",
       "    <tr style=\"text-align: right;\">\n",
       "      <th></th>\n",
       "      <th>PM252013me</th>\n",
       "    </tr>\n",
       "  </thead>\n",
       "  <tbody>\n",
       "    <tr>\n",
       "      <th>count</th>\n",
       "      <td>25946.000000</td>\n",
       "    </tr>\n",
       "    <tr>\n",
       "      <th>mean</th>\n",
       "      <td>16.001274</td>\n",
       "    </tr>\n",
       "    <tr>\n",
       "      <th>std</th>\n",
       "      <td>0.788874</td>\n",
       "    </tr>\n",
       "    <tr>\n",
       "      <th>min</th>\n",
       "      <td>14.283266</td>\n",
       "    </tr>\n",
       "    <tr>\n",
       "      <th>25%</th>\n",
       "      <td>15.417784</td>\n",
       "    </tr>\n",
       "    <tr>\n",
       "      <th>50%</th>\n",
       "      <td>15.873302</td>\n",
       "    </tr>\n",
       "    <tr>\n",
       "      <th>75%</th>\n",
       "      <td>16.464573</td>\n",
       "    </tr>\n",
       "    <tr>\n",
       "      <th>max</th>\n",
       "      <td>21.100099</td>\n",
       "    </tr>\n",
       "  </tbody>\n",
       "</table>\n",
       "</div>"
      ],
      "text/plain": [
       "         PM252013me\n",
       "count  25946.000000\n",
       "mean      16.001274\n",
       "std        0.788874\n",
       "min       14.283266\n",
       "25%       15.417784\n",
       "50%       15.873302\n",
       "75%       16.464573\n",
       "max       21.100099"
      ]
     },
     "execution_count": 11,
     "metadata": {},
     "output_type": "execute_result"
    }
   ],
   "source": [
    "aq_df.describe()"
   ]
  },
  {
   "cell_type": "code",
   "execution_count": 48,
   "id": "71bdb5fe-091c-421a-83f2-000cfa0d7069",
   "metadata": {},
   "outputs": [
    {
     "data": {
      "image/png": "[encoded data removed]",
      "text/plain": [
       "<Figure size 720x576 with 1 Axes>"
      ]
     },
     "metadata": {
      "needs_background": "light"
     },
     "output_type": "display_data"
    }
   ],
   "source": [
    "fig, ax = plt.subplots(1, figsize=(10,8))\n",
    "sns.kdeplot(aq_df[\"PM252013me\"], ax=ax, color=\"black\", shade=True)\n",
    "plt.xlabel(\"PM\\u2082.\\u2085\")\n",
    "plt.vlines(aq_df[\"PM252013me\"].mean(), 0, 0.65, linestyle=\"--\", color=\"black\", label=\"Mean\")\n",
    "plt.vlines(aq_df[\"PM252013me\"].median(), 0, 0.65, linestyle=\"-.\", color=\"black\", label=\"Median\")\n",
    "plt.legend(title=\"Legend\")\n",
    "plt.title(\"Distribtuion of PM\\u2082.\\u2085 concentration\")\n",
    "plt.ylim(0,0.60)\n",
    "plt.savefig(\"figures/aq_kdeplot.png\", dpi=300, facecolor=\"white\", bbox_inches=\"tight\")\n",
    "plt.show()"
   ]
  },
  {
   "cell_type": "markdown",
   "id": "bc2c7c51-7df5-4a62-ad0d-0f386c39cf1a",
   "metadata": {},
   "source": [
    "Data appears to be positvely skewed. Would applying a log fix it?"
   ]
  },
  {
   "cell_type": "code",
   "execution_count": 89,
   "id": "34a3e596-a512-4c85-80b3-32568c2e0743",
   "metadata": {},
   "outputs": [],
   "source": [
    "aq_df[\"dif_mean\"] = aq_df[\"PM252013me\"] - aq_df[\"PM252013me\"].mean()"
   ]
  },
  {
   "cell_type": "code",
   "execution_count": 96,
   "id": "38be52d6-6c56-4a68-8f00-e8bb92c3e519",
   "metadata": {},
   "outputs": [],
   "source": [
    "aq_df[\"dif_mean_and_std\"] = aq_df[\"dif_mean\"] / aq_df[\"PM252013me\"].std()"
   ]
  },
  {
   "cell_type": "code",
   "execution_count": 93,
   "id": "e33881b9-b637-4644-a327-db00ed898357",
   "metadata": {},
   "outputs": [],
   "source": [
    "#Applying a log function to the data\n",
    "aq_df[\"PMlog\"] = np.log(aq_df[\"PM252013me\"])"
   ]
  },
  {
   "cell_type": "markdown",
   "id": "5346e3e9-f3fc-4f4c-b324-9fe844ac814a",
   "metadata": {},
   "source": [
    "None of which normalise the data"
   ]
  },
  {
   "cell_type": "markdown",
   "id": "e8c60ae7-837b-4825-a755-89fece3ae4cf",
   "metadata": {},
   "source": [
    "### 3.4. Cycle Sharing - "
   ]
  },
  {
   "cell_type": "markdown",
   "id": "b73f08c2-9578-495f-89d3-a558a132ea09",
   "metadata": {},
   "source": [
    "## 4. Appropriate plots to communicate distribution"
   ]
  },
  {
   "cell_type": "markdown",
   "id": "249cf664-959f-4a15-af6e-04ff92a51047",
   "metadata": {},
   "source": [
    "### 4.0. Merging of data - Zach"
   ]
  },
  {
   "cell_type": "code",
   "execution_count": 52,
   "id": "b18000dd-faa6-4523-9b9c-e1d3a7bb9d03",
   "metadata": {},
   "outputs": [],
   "source": [
    "#ZPE importing here as importing from link didn't work for me\n",
    "deprivation = pd.read_csv(\"data/deprivation_oa.csv\")"
   ]
  },
  {
   "cell_type": "code",
   "execution_count": 65,
   "id": "5140aeb3-d8e6-44c8-8367-1047a57e49c3",
   "metadata": {},
   "outputs": [],
   "source": [
    "#Merging the cycle to work data to deprivation data to form a main dataframe\n",
    "df = cycletowork.merge(deprivation, how=\"left\", on=\"geography code\")"
   ]
  },
  {
   "cell_type": "code",
   "execution_count": 67,
   "id": "90d9f09c-e51a-41d4-9496-03b6673965b4",
   "metadata": {},
   "outputs": [],
   "source": [
    "#Adding the air quality data to the main dataframe\n",
    "df = df.merge(aq_df, how = \"left\", left_on=\"geography code\", right_on=\"OA11CD\")"
   ]
  },
  {
   "cell_type": "code",
   "execution_count": 74,
   "id": "a11dc3d3-8b42-4aee-b2c4-921fcdbd4def",
   "metadata": {},
   "outputs": [
    {
     "data": {
      "text/html": [
       "<div>\n",
       "<style scoped>\n",
       "    .dataframe tbody tr th:only-of-type {\n",
       "        vertical-align: middle;\n",
       "    }\n",
       "\n",
       "    .dataframe tbody tr th {\n",
       "        vertical-align: top;\n",
       "    }\n",
       "\n",
       "    .dataframe thead th {\n",
       "        text-align: right;\n",
       "    }\n",
       "</style>\n",
       "<table border=\"1\" class=\"dataframe\">\n",
       "  <thead>\n",
       "    <tr style=\"text-align: right;\">\n",
       "      <th></th>\n",
       "      <th>Column Name</th>\n",
       "      <th>Quantity of NAs</th>\n",
       "    </tr>\n",
       "  </thead>\n",
       "  <tbody>\n",
       "    <tr>\n",
       "      <th>0</th>\n",
       "      <td>date_x</td>\n",
       "      <td>0</td>\n",
       "    </tr>\n",
       "    <tr>\n",
       "      <th>1</th>\n",
       "      <td>geography code</td>\n",
       "      <td>0</td>\n",
       "    </tr>\n",
       "    <tr>\n",
       "      <th>2</th>\n",
       "      <td>Method of Travel to Work: Bicycle; measures: V...</td>\n",
       "      <td>0</td>\n",
       "    </tr>\n",
       "    <tr>\n",
       "      <th>3</th>\n",
       "      <td>Method of Travel to Work: All categories: Meth...</td>\n",
       "      <td>0</td>\n",
       "    </tr>\n",
       "    <tr>\n",
       "      <th>4</th>\n",
       "      <td>date_y</td>\n",
       "      <td>0</td>\n",
       "    </tr>\n",
       "    <tr>\n",
       "      <th>5</th>\n",
       "      <td>geography</td>\n",
       "      <td>0</td>\n",
       "    </tr>\n",
       "    <tr>\n",
       "      <th>6</th>\n",
       "      <td>Rural Urban</td>\n",
       "      <td>0</td>\n",
       "    </tr>\n",
       "    <tr>\n",
       "      <th>7</th>\n",
       "      <td>Household Deprivation: All categories: Classif...</td>\n",
       "      <td>0</td>\n",
       "    </tr>\n",
       "    <tr>\n",
       "      <th>8</th>\n",
       "      <td>Household Deprivation: Household is not depriv...</td>\n",
       "      <td>0</td>\n",
       "    </tr>\n",
       "    <tr>\n",
       "      <th>9</th>\n",
       "      <td>Household Deprivation: Household is deprived i...</td>\n",
       "      <td>0</td>\n",
       "    </tr>\n",
       "    <tr>\n",
       "      <th>10</th>\n",
       "      <td>Household Deprivation: Household is deprived i...</td>\n",
       "      <td>0</td>\n",
       "    </tr>\n",
       "    <tr>\n",
       "      <th>11</th>\n",
       "      <td>Household Deprivation: Household is deprived i...</td>\n",
       "      <td>0</td>\n",
       "    </tr>\n",
       "    <tr>\n",
       "      <th>12</th>\n",
       "      <td>Household Deprivation: Household is deprived i...</td>\n",
       "      <td>0</td>\n",
       "    </tr>\n",
       "    <tr>\n",
       "      <th>13</th>\n",
       "      <td>OA11CD</td>\n",
       "      <td>0</td>\n",
       "    </tr>\n",
       "    <tr>\n",
       "      <th>14</th>\n",
       "      <td>LAD11NM</td>\n",
       "      <td>0</td>\n",
       "    </tr>\n",
       "    <tr>\n",
       "      <th>15</th>\n",
       "      <td>PM252013me</td>\n",
       "      <td>0</td>\n",
       "    </tr>\n",
       "  </tbody>\n",
       "</table>\n",
       "</div>"
      ],
      "text/plain": [
       "                                          Column Name  Quantity of NAs\n",
       "0                                              date_x                0\n",
       "1                                      geography code                0\n",
       "2   Method of Travel to Work: Bicycle; measures: V...                0\n",
       "3   Method of Travel to Work: All categories: Meth...                0\n",
       "4                                              date_y                0\n",
       "5                                           geography                0\n",
       "6                                         Rural Urban                0\n",
       "7   Household Deprivation: All categories: Classif...                0\n",
       "8   Household Deprivation: Household is not depriv...                0\n",
       "9   Household Deprivation: Household is deprived i...                0\n",
       "10  Household Deprivation: Household is deprived i...                0\n",
       "11  Household Deprivation: Household is deprived i...                0\n",
       "12  Household Deprivation: Household is deprived i...                0\n",
       "13                                             OA11CD                0\n",
       "14                                            LAD11NM                0\n",
       "15                                         PM252013me                0"
      ]
     },
     "execution_count": 74,
     "metadata": {},
     "output_type": "execute_result"
    }
   ],
   "source": [
    "#Identifying any NA values\n",
    "df.isna().sum().reset_index().rename(columns={\"index\":\"Column Name\", 0:\"Quantity of NAs\"})"
   ]
  },
  {
   "cell_type": "markdown",
   "id": "8e29bfd7-5ac3-4f87-8a96-ac95ffa630eb",
   "metadata": {},
   "source": [
    "No NA values present within the dataset"
   ]
  },
  {
   "cell_type": "code",
   "execution_count": 77,
   "id": "f9027dd5-852a-408a-803a-9a3ca38f1eac",
   "metadata": {},
   "outputs": [],
   "source": [
    "#Removing any duplicated rows.\n",
    "df = df.drop_duplicates(keep=\"first\")"
   ]
  },
  {
   "cell_type": "markdown",
   "id": "98b51157-16ef-4ed2-9fd2-556540aaf354",
   "metadata": {},
   "source": [
    "### 4.1. Basic Plotting"
   ]
  },
  {
   "cell_type": "markdown",
   "id": "eccdb9c3-ddbb-4cd7-87cf-89c7191cfa7c",
   "metadata": {},
   "source": [
    "#### 4.1.1 Cycle to work and Deprivation"
   ]
  },
  {
   "cell_type": "code",
   "execution_count": 113,
   "id": "f8250727-35b4-40ad-99f9-f950ebe7dfa3",
   "metadata": {},
   "outputs": [
    {
     "data": {
      "image/png": "[encoded data removed]",
      "text/plain": [
       "<Figure size 720x576 with 1 Axes>"
      ]
     },
     "metadata": {
      "needs_background": "light"
     },
     "output_type": "display_data"
    }
   ],
   "source": [
    "fig, ax = plt.subplots(1, figsize = (10,8))\n",
    "sns.scatterplot(data = df, x=\"Method of Travel to Work: Bicycle; measures: Value\", \n",
    "            y=\"Household Deprivation: Household is deprived in 4 dimensions; measures: Value\", ax=ax)\n",
    "                       \n",
    "plt.show()"
   ]
  },
  {
   "cell_type": "markdown",
   "id": "307621e5-98e7-4d7f-afea-2d1aec5ba83a",
   "metadata": {},
   "source": [
    "Hard to identify relationship? Might be difficult to plot a regression line."
   ]
  },
  {
   "cell_type": "code",
   "execution_count": 115,
   "id": "5569d707-ec6a-4500-9165-136ce140ae45",
   "metadata": {},
   "outputs": [
    {
     "data": {
      "image/png": "[encoded data removed]",
      "text/plain": [
       "<Figure size 720x576 with 1 Axes>"
      ]
     },
     "metadata": {
      "needs_background": "light"
     },
     "output_type": "display_data"
    }
   ],
   "source": [
    "fig, ax = plt.subplots(1, figsize = (10,8))\n",
    "sns.regplot(data = df, x=\"Method of Travel to Work: Bicycle; measures: Value\", \n",
    "            y=\"Household Deprivation: Household is deprived in 4 dimensions; measures: Value\", ax=ax)\n",
    "                       \n",
    "plt.show()"
   ]
  },
  {
   "cell_type": "markdown",
   "id": "8dfa9f7e-ffbe-492f-b6a1-409156600929",
   "metadata": {},
   "source": [
    "Regression plot reveals no majour relationship. Suggesting it is unlikely that deprevation of "
   ]
  },
  {
   "cell_type": "markdown",
   "id": "474d9210-9c3d-4ce2-bcef-044e4d744198",
   "metadata": {},
   "source": [
    "#### 4.1.2 Cycle to work and Pollution"
   ]
  },
  {
   "cell_type": "markdown",
   "id": "01a75f27-4e11-4e59-b218-50e87072a4fe",
   "metadata": {},
   "source": [
    "## drop_duplicatesopriate plots to illustrate relationship between key fields"
   ]
  },
  {
   "cell_type": "markdown",
   "id": "cd02b718-15e9-49df-a53b-fc149ce52696",
   "metadata": {},
   "source": [
    "# References\n",
    "\n",
    "Liu, C., Chen, R., Sera, F., Vicedo-Cabrera, A.M., Guo, Y., Tong, S., Coelho, M.S., Saldiva, P.H., Lavigne, E., Matus, P. and Valdes Ortega, N., 2019. Ambient particulate air pollution and daily mortality in 652 cities. New England Journal of Medicine, 381(8), pp.705-715."
   ]
  },
  {
   "cell_type": "code",
   "execution_count": null,
   "id": "ae9df771-7172-4645-b797-ef7b92466e91",
   "metadata": {},
   "outputs": [],
   "source": []
  }
 ],
 "metadata": {
  "kernelspec": {
   "display_name": "Python 3 (ipykernel)",
   "language": "python",
   "name": "python3"
  },
  "language_info": {
   "codemirror_mode": {
    "name": "ipython",
    "version": 3
   },
   "file_extension": ".py",
   "mimetype": "text/x-python",
   "name": "python",
   "nbconvert_exporter": "python",
   "pygments_lexer": "ipython3",
   "version": "3.10.5"
  }
 },
 "nbformat": 4,
 "nbformat_minor": 5
}
